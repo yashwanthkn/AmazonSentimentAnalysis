{
 "cells": [
  {
   "cell_type": "code",
   "execution_count": 1,
   "id": "reported-defendant",
   "metadata": {},
   "outputs": [],
   "source": [
    "\n",
    "import pandas as pd \n",
    "import numpy as np \n",
    "import matplotlib.pyplot as plt \n",
    "import seaborn as sns \n",
    "import re \n",
    "%matplotlib inline \n",
    "\n",
    "import warnings\n",
    "warnings.filterwarnings(\"ignore\")\n",
    "plt.style.use('ggplot')\n",
    "\n",
    "import nltk\n",
    "from nltk import word_tokenize\n",
    "\n",
    "from sklearn.feature_extraction.text import CountVectorizer\n",
    "from sklearn.feature_extraction.text import TfidfVectorizer\n",
    "from collections import Counter\n",
    "from wordcloud import WordCloud\n",
    "\n",
    "from sklearn.model_selection import train_test_split\n",
    "from sklearn.linear_model import LogisticRegression\n",
    "from sklearn.ensemble import RandomForestClassifier\n",
    "from sklearn.metrics import accuracy_score\n",
    "from sklearn.metrics import f1_score"
   ]
  },
  {
   "cell_type": "code",
   "execution_count": 2,
   "id": "missing-place",
   "metadata": {},
   "outputs": [],
   "source": [
    "df = pd.read_csv('reviews_500.csv')"
   ]
  },
  {
   "cell_type": "code",
   "execution_count": null,
   "id": "sustainable-burton",
   "metadata": {},
   "outputs": [],
   "source": []
  },
  {
   "cell_type": "code",
   "execution_count": 3,
   "id": "acknowledged-intermediate",
   "metadata": {},
   "outputs": [
    {
     "name": "stdout",
     "output_type": "stream",
     "text": [
      "(500, 10)\n"
     ]
    },
    {
     "data": {
      "text/html": [
       "<div>\n",
       "<style scoped>\n",
       "    .dataframe tbody tr th:only-of-type {\n",
       "        vertical-align: middle;\n",
       "    }\n",
       "\n",
       "    .dataframe tbody tr th {\n",
       "        vertical-align: top;\n",
       "    }\n",
       "\n",
       "    .dataframe thead th {\n",
       "        text-align: right;\n",
       "    }\n",
       "</style>\n",
       "<table border=\"1\" class=\"dataframe\">\n",
       "  <thead>\n",
       "    <tr style=\"text-align: right;\">\n",
       "      <th></th>\n",
       "      <th>id</th>\n",
       "      <th>profileName</th>\n",
       "      <th>text</th>\n",
       "      <th>date</th>\n",
       "      <th>title</th>\n",
       "      <th>rating</th>\n",
       "      <th>images</th>\n",
       "      <th>helpful</th>\n",
       "      <th>Style name</th>\n",
       "      <th>Colour</th>\n",
       "    </tr>\n",
       "  </thead>\n",
       "  <tbody>\n",
       "    <tr>\n",
       "      <th>0</th>\n",
       "      <td>R3A7LKHO3QIEI6</td>\n",
       "      <td>Vijay Gandhi</td>\n",
       "      <td>\\n  Battery Issue.... Phone is Heating during ...</td>\n",
       "      <td>Reviewed in India on 19 April 2021</td>\n",
       "      <td>OnePlus 9R - Not As per Expectations</td>\n",
       "      <td>1</td>\n",
       "      <td>NaN</td>\n",
       "      <td>2</td>\n",
       "      <td>12GB RAM, 256GB Storage</td>\n",
       "      <td>Lake Blue</td>\n",
       "    </tr>\n",
       "    <tr>\n",
       "      <th>1</th>\n",
       "      <td>RTC2JFCZRT3ML</td>\n",
       "      <td>NeHaaL</td>\n",
       "      <td>\\n  Facing heating issue while using camera ap...</td>\n",
       "      <td>Reviewed in India on 19 April 2021</td>\n",
       "      <td>Heating issue</td>\n",
       "      <td>1</td>\n",
       "      <td>NaN</td>\n",
       "      <td>1</td>\n",
       "      <td>8GB RAM, 128GB Storage</td>\n",
       "      <td>Lake Blue</td>\n",
       "    </tr>\n",
       "    <tr>\n",
       "      <th>2</th>\n",
       "      <td>RKFNBV8UHH917</td>\n",
       "      <td>Mohit MJ</td>\n",
       "      <td>\\n  My first time buying a OnePlus phone and I...</td>\n",
       "      <td>Reviewed in India on 19 April 2021</td>\n",
       "      <td>Amazing - True Flagship</td>\n",
       "      <td>5</td>\n",
       "      <td>NaN</td>\n",
       "      <td>916</td>\n",
       "      <td>8GB RAM, 128GB Storage</td>\n",
       "      <td>Lake Blue</td>\n",
       "    </tr>\n",
       "  </tbody>\n",
       "</table>\n",
       "</div>"
      ],
      "text/plain": [
       "               id   profileName  \\\n",
       "0  R3A7LKHO3QIEI6  Vijay Gandhi   \n",
       "1   RTC2JFCZRT3ML        NeHaaL   \n",
       "2   RKFNBV8UHH917      Mohit MJ   \n",
       "\n",
       "                                                text  \\\n",
       "0  \\n  Battery Issue.... Phone is Heating during ...   \n",
       "1  \\n  Facing heating issue while using camera ap...   \n",
       "2  \\n  My first time buying a OnePlus phone and I...   \n",
       "\n",
       "                                 date                                 title  \\\n",
       "0  Reviewed in India on 19 April 2021  OnePlus 9R - Not As per Expectations   \n",
       "1  Reviewed in India on 19 April 2021                         Heating issue   \n",
       "2  Reviewed in India on 19 April 2021               Amazing - True Flagship   \n",
       "\n",
       "   rating images  helpful               Style name     Colour  \n",
       "0       1    NaN        2  12GB RAM, 256GB Storage  Lake Blue  \n",
       "1       1    NaN        1   8GB RAM, 128GB Storage  Lake Blue  \n",
       "2       5    NaN      916   8GB RAM, 128GB Storage  Lake Blue  "
      ]
     },
     "execution_count": 3,
     "metadata": {},
     "output_type": "execute_result"
    }
   ],
   "source": [
    "print(df.shape)\n",
    "df.head(3)"
   ]
  },
  {
   "cell_type": "code",
   "execution_count": 4,
   "id": "mathematical-margin",
   "metadata": {},
   "outputs": [
    {
     "name": "stdout",
     "output_type": "stream",
     "text": [
      "(100, 10)\n"
     ]
    },
    {
     "data": {
      "text/html": [
       "<div>\n",
       "<style scoped>\n",
       "    .dataframe tbody tr th:only-of-type {\n",
       "        vertical-align: middle;\n",
       "    }\n",
       "\n",
       "    .dataframe tbody tr th {\n",
       "        vertical-align: top;\n",
       "    }\n",
       "\n",
       "    .dataframe thead th {\n",
       "        text-align: right;\n",
       "    }\n",
       "</style>\n",
       "<table border=\"1\" class=\"dataframe\">\n",
       "  <thead>\n",
       "    <tr style=\"text-align: right;\">\n",
       "      <th></th>\n",
       "      <th>id</th>\n",
       "      <th>profileName</th>\n",
       "      <th>text</th>\n",
       "      <th>date</th>\n",
       "      <th>title</th>\n",
       "      <th>rating</th>\n",
       "      <th>images</th>\n",
       "      <th>helpful</th>\n",
       "      <th>Style name</th>\n",
       "      <th>Colour</th>\n",
       "    </tr>\n",
       "  </thead>\n",
       "  <tbody>\n",
       "    <tr>\n",
       "      <th>0</th>\n",
       "      <td>R2TQ3JT2BL13QI</td>\n",
       "      <td>sachin pardeshi</td>\n",
       "      <td>\\n  First time purchased one plus mobile. Writ...</td>\n",
       "      <td>Reviewed in India on 8 September 2021</td>\n",
       "      <td>Buying One plus is good decision</td>\n",
       "      <td>5</td>\n",
       "      <td>NaN</td>\n",
       "      <td>0</td>\n",
       "      <td>8GB RAM, 128GB Storage</td>\n",
       "      <td>Lake Blue</td>\n",
       "    </tr>\n",
       "    <tr>\n",
       "      <th>1</th>\n",
       "      <td>R14KBY6UY8KRZ5</td>\n",
       "      <td>ASHOK KUMAR PS</td>\n",
       "      <td>\\n  HI i am normal user, i never use games in ...</td>\n",
       "      <td>Reviewed in India on 24 April 2021</td>\n",
       "      <td>over heat issue and disappointed camera with o...</td>\n",
       "      <td>2</td>\n",
       "      <td>NaN</td>\n",
       "      <td>5</td>\n",
       "      <td>8GB RAM, 128GB Storage</td>\n",
       "      <td>Lake Blue</td>\n",
       "    </tr>\n",
       "    <tr>\n",
       "      <th>2</th>\n",
       "      <td>R3OTFK2FKQO6TT</td>\n",
       "      <td>SitanshuTiwary</td>\n",
       "      <td>\\n  Gifted this phone to my father. Based on t...</td>\n",
       "      <td>Reviewed in India on 4 August 2021</td>\n",
       "      <td>Coming from Long Time OnePlus Phones User.</td>\n",
       "      <td>1</td>\n",
       "      <td>NaN</td>\n",
       "      <td>3</td>\n",
       "      <td>8GB RAM, 128GB Storage</td>\n",
       "      <td>Carbon Black</td>\n",
       "    </tr>\n",
       "    <tr>\n",
       "      <th>3</th>\n",
       "      <td>R3FOGTWLPHAKR7</td>\n",
       "      <td>Shubham</td>\n",
       "      <td>\\n  Must buy phone.Only cons is when you play ...</td>\n",
       "      <td>Reviewed in India on 26 July 2021</td>\n",
       "      <td>Must buy this beast 🔥</td>\n",
       "      <td>5</td>\n",
       "      <td>NaN</td>\n",
       "      <td>0</td>\n",
       "      <td>8GB RAM, 128GB Storage</td>\n",
       "      <td>Lake Blue</td>\n",
       "    </tr>\n",
       "    <tr>\n",
       "      <th>4</th>\n",
       "      <td>R29Q2B72DALSKS</td>\n",
       "      <td>Sayan Das</td>\n",
       "      <td>\\n   First time buying one plus,my overall exp...</td>\n",
       "      <td>Reviewed in India on 10 June 2021</td>\n",
       "      <td>Still value for money</td>\n",
       "      <td>5</td>\n",
       "      <td>https://images-na.ssl-images-amazon.com/images...</td>\n",
       "      <td>1</td>\n",
       "      <td>8GB RAM, 128GB Storage</td>\n",
       "      <td>Lake Blue</td>\n",
       "    </tr>\n",
       "  </tbody>\n",
       "</table>\n",
       "</div>"
      ],
      "text/plain": [
       "               id      profileName  \\\n",
       "0  R2TQ3JT2BL13QI  sachin pardeshi   \n",
       "1  R14KBY6UY8KRZ5   ASHOK KUMAR PS   \n",
       "2  R3OTFK2FKQO6TT   SitanshuTiwary   \n",
       "3  R3FOGTWLPHAKR7          Shubham   \n",
       "4  R29Q2B72DALSKS        Sayan Das   \n",
       "\n",
       "                                                text  \\\n",
       "0  \\n  First time purchased one plus mobile. Writ...   \n",
       "1  \\n  HI i am normal user, i never use games in ...   \n",
       "2  \\n  Gifted this phone to my father. Based on t...   \n",
       "3  \\n  Must buy phone.Only cons is when you play ...   \n",
       "4  \\n   First time buying one plus,my overall exp...   \n",
       "\n",
       "                                    date  \\\n",
       "0  Reviewed in India on 8 September 2021   \n",
       "1     Reviewed in India on 24 April 2021   \n",
       "2     Reviewed in India on 4 August 2021   \n",
       "3      Reviewed in India on 26 July 2021   \n",
       "4      Reviewed in India on 10 June 2021   \n",
       "\n",
       "                                               title  rating  \\\n",
       "0                   Buying One plus is good decision       5   \n",
       "1  over heat issue and disappointed camera with o...       2   \n",
       "2         Coming from Long Time OnePlus Phones User.       1   \n",
       "3                              Must buy this beast 🔥       5   \n",
       "4                              Still value for money       5   \n",
       "\n",
       "                                              images  helpful  \\\n",
       "0                                                NaN        0   \n",
       "1                                                NaN        5   \n",
       "2                                                NaN        3   \n",
       "3                                                NaN        0   \n",
       "4  https://images-na.ssl-images-amazon.com/images...        1   \n",
       "\n",
       "               Style name        Colour  \n",
       "0  8GB RAM, 128GB Storage     Lake Blue  \n",
       "1  8GB RAM, 128GB Storage     Lake Blue  \n",
       "2  8GB RAM, 128GB Storage  Carbon Black  \n",
       "3  8GB RAM, 128GB Storage     Lake Blue  \n",
       "4  8GB RAM, 128GB Storage     Lake Blue  "
      ]
     },
     "execution_count": 4,
     "metadata": {},
     "output_type": "execute_result"
    }
   ],
   "source": [
    "# for all data is too heavy, make it slim by chose\n",
    "df2 = df.sample(frac= 0.20,replace = True).reset_index(drop = True)\n",
    "\n",
    "print(df2.shape)\n",
    "df2.head()"
   ]
  },
  {
   "cell_type": "code",
   "execution_count": null,
   "id": "motivated-resistance",
   "metadata": {},
   "outputs": [],
   "source": []
  },
  {
   "cell_type": "code",
   "execution_count": 5,
   "id": "handled-middle",
   "metadata": {},
   "outputs": [
    {
     "name": "stdout",
     "output_type": "stream",
     "text": [
      "<class 'pandas.core.frame.DataFrame'>\n",
      "RangeIndex: 100 entries, 0 to 99\n",
      "Data columns (total 10 columns):\n",
      " #   Column       Non-Null Count  Dtype \n",
      "---  ------       --------------  ----- \n",
      " 0   id           100 non-null    object\n",
      " 1   profileName  100 non-null    object\n",
      " 2   text         100 non-null    object\n",
      " 3   date         100 non-null    object\n",
      " 4   title        100 non-null    object\n",
      " 5   rating       100 non-null    int64 \n",
      " 6   images       26 non-null     object\n",
      " 7   helpful      100 non-null    int64 \n",
      " 8   Style name   100 non-null    object\n",
      " 9   Colour       100 non-null    object\n",
      "dtypes: int64(2), object(8)\n",
      "memory usage: 7.9+ KB\n"
     ]
    }
   ],
   "source": [
    "df2.info()"
   ]
  },
  {
   "cell_type": "code",
   "execution_count": 6,
   "id": "pointed-router",
   "metadata": {},
   "outputs": [
    {
     "name": "stdout",
     "output_type": "stream",
     "text": [
      "id              0\n",
      "profileName     0\n",
      "text            0\n",
      "date            0\n",
      "title           0\n",
      "rating          0\n",
      "images         74\n",
      "helpful         0\n",
      "Style name      0\n",
      "Colour          0\n",
      "dtype: int64\n"
     ]
    },
    {
     "data": {
      "text/plain": [
       "id             0\n",
       "profileName    0\n",
       "text           0\n",
       "date           0\n",
       "title          0\n",
       "rating         0\n",
       "images         0\n",
       "helpful        0\n",
       "Style name     0\n",
       "Colour         0\n",
       "dtype: int64"
      ]
     },
     "execution_count": 6,
     "metadata": {},
     "output_type": "execute_result"
    }
   ],
   "source": [
    "print(df2.isna().sum())\n",
    "df2.dropna(inplace= True)\n",
    "df2.isna().sum()"
   ]
  },
  {
   "cell_type": "code",
   "execution_count": 7,
   "id": "accepting-illustration",
   "metadata": {},
   "outputs": [
    {
     "name": "stdout",
     "output_type": "stream",
     "text": [
      "5    15\n",
      "4     9\n",
      "1     2\n",
      "Name: rating, dtype: int64\n"
     ]
    },
    {
     "data": {
      "text/plain": [
       "5    3.0\n",
       "4    1.8\n",
       "1    0.4\n",
       "Name: rating, dtype: float64"
      ]
     },
     "execution_count": 7,
     "metadata": {},
     "output_type": "execute_result"
    }
   ],
   "source": [
    "print(df2['rating'].value_counts())\n",
    "rating_pct = df2['rating'].value_counts()/len(df) * 100\n",
    "rating_pct"
   ]
  },
  {
   "cell_type": "code",
   "execution_count": 8,
   "id": "valuable-differential",
   "metadata": {},
   "outputs": [
    {
     "data": {
      "image/png": "[encoded data removed]",
      "text/plain": [
       "<Figure size 432x288 with 1 Axes>"
      ]
     },
     "metadata": {},
     "output_type": "display_data"
    }
   ],
   "source": [
    "rating_pct.plot.bar()\n",
    "plt.show()"
   ]
  },
  {
   "cell_type": "code",
   "execution_count": 9,
   "id": "focal-chain",
   "metadata": {},
   "outputs": [
    {
     "data": {
      "text/plain": [
       "<AxesSubplot:ylabel='rating'>"
      ]
     },
     "execution_count": 9,
     "metadata": {},
     "output_type": "execute_result"
    },
    {
     "data": {
      "image/png": "[encoded data removed]",
      "text/plain": [
       "<Figure size 720x432 with 1 Axes>"
      ]
     },
     "metadata": {},
     "output_type": "display_data"
    }
   ],
   "source": [
    "%matplotlib inline\n",
    "plt.figure(figsize = (10,6))\n",
    "\n",
    "df.groupby('rating').rating.count()\n",
    "df.groupby('rating').rating.count().plot(kind='pie',autopct='%1.1f%%',startangle=90,explode=(0,0.1,0,0,0),)"
   ]
  },
  {
   "cell_type": "code",
   "execution_count": 10,
   "id": "foreign-flight",
   "metadata": {},
   "outputs": [
    {
     "data": {
      "text/plain": [
       "0         Reviewed in India on 19 April 2021\n",
       "1         Reviewed in India on 19 April 2021\n",
       "2         Reviewed in India on 19 April 2021\n",
       "3           Reviewed in India on 30 May 2021\n",
       "4         Reviewed in India on 19 April 2021\n",
       "                       ...                  \n",
       "495        Reviewed in India on 18 July 2021\n",
       "496        Reviewed in India on 22 July 2021\n",
       "497    Reviewed in India on 8 September 2021\n",
       "498        Reviewed in India on 10 July 2021\n",
       "499         Reviewed in India on 8 June 2021\n",
       "Name: date, Length: 500, dtype: object"
      ]
     },
     "execution_count": 10,
     "metadata": {},
     "output_type": "execute_result"
    }
   ],
   "source": [
    "year= df['date'] \n",
    "year"
   ]
  },
  {
   "cell_type": "code",
   "execution_count": 11,
   "id": "representative-airfare",
   "metadata": {},
   "outputs": [
    {
     "data": {
      "text/html": [
       "<div>\n",
       "<style scoped>\n",
       "    .dataframe tbody tr th:only-of-type {\n",
       "        vertical-align: middle;\n",
       "    }\n",
       "\n",
       "    .dataframe tbody tr th {\n",
       "        vertical-align: top;\n",
       "    }\n",
       "\n",
       "    .dataframe thead th {\n",
       "        text-align: right;\n",
       "    }\n",
       "</style>\n",
       "<table border=\"1\" class=\"dataframe\">\n",
       "  <thead>\n",
       "    <tr style=\"text-align: right;\">\n",
       "      <th></th>\n",
       "      <th>id</th>\n",
       "      <th>profileName</th>\n",
       "      <th>text</th>\n",
       "      <th>date</th>\n",
       "      <th>title</th>\n",
       "      <th>rating</th>\n",
       "      <th>images</th>\n",
       "      <th>helpful</th>\n",
       "      <th>Style name</th>\n",
       "      <th>Colour</th>\n",
       "      <th>year</th>\n",
       "    </tr>\n",
       "  </thead>\n",
       "  <tbody>\n",
       "    <tr>\n",
       "      <th>0</th>\n",
       "      <td>R3A7LKHO3QIEI6</td>\n",
       "      <td>Vijay Gandhi</td>\n",
       "      <td>\\n  Battery Issue.... Phone is Heating during ...</td>\n",
       "      <td>Reviewed in India on 19 April 2021</td>\n",
       "      <td>OnePlus 9R - Not As per Expectations</td>\n",
       "      <td>1</td>\n",
       "      <td>NaN</td>\n",
       "      <td>2</td>\n",
       "      <td>12GB RAM, 256GB Storage</td>\n",
       "      <td>Lake Blue</td>\n",
       "      <td>2021</td>\n",
       "    </tr>\n",
       "    <tr>\n",
       "      <th>1</th>\n",
       "      <td>RTC2JFCZRT3ML</td>\n",
       "      <td>NeHaaL</td>\n",
       "      <td>\\n  Facing heating issue while using camera ap...</td>\n",
       "      <td>Reviewed in India on 19 April 2021</td>\n",
       "      <td>Heating issue</td>\n",
       "      <td>1</td>\n",
       "      <td>NaN</td>\n",
       "      <td>1</td>\n",
       "      <td>8GB RAM, 128GB Storage</td>\n",
       "      <td>Lake Blue</td>\n",
       "      <td>2021</td>\n",
       "    </tr>\n",
       "    <tr>\n",
       "      <th>2</th>\n",
       "      <td>RKFNBV8UHH917</td>\n",
       "      <td>Mohit MJ</td>\n",
       "      <td>\\n  My first time buying a OnePlus phone and I...</td>\n",
       "      <td>Reviewed in India on 19 April 2021</td>\n",
       "      <td>Amazing - True Flagship</td>\n",
       "      <td>5</td>\n",
       "      <td>NaN</td>\n",
       "      <td>916</td>\n",
       "      <td>8GB RAM, 128GB Storage</td>\n",
       "      <td>Lake Blue</td>\n",
       "      <td>2021</td>\n",
       "    </tr>\n",
       "    <tr>\n",
       "      <th>3</th>\n",
       "      <td>R2575KONXPQXVE</td>\n",
       "      <td>ASHANNITA</td>\n",
       "      <td>\\n  HiPlease consider this message with a seri...</td>\n",
       "      <td>Reviewed in India on 30 May 2021</td>\n",
       "      <td>Claim for Replacement of Oneplus 9R phone...</td>\n",
       "      <td>1</td>\n",
       "      <td>NaN</td>\n",
       "      <td>817</td>\n",
       "      <td>8GB RAM, 128GB Storage</td>\n",
       "      <td>Lake Blue</td>\n",
       "      <td>2021</td>\n",
       "    </tr>\n",
       "    <tr>\n",
       "      <th>4</th>\n",
       "      <td>RWXB385NSDLJL</td>\n",
       "      <td>AshokA</td>\n",
       "      <td>\\n  Within 10 minutes of usage. It’s felt like...</td>\n",
       "      <td>Reviewed in India on 19 April 2021</td>\n",
       "      <td>Over heat mobile</td>\n",
       "      <td>1</td>\n",
       "      <td>https://images-na.ssl-images-amazon.com/images...</td>\n",
       "      <td>462</td>\n",
       "      <td>8GB RAM, 128GB Storage</td>\n",
       "      <td>Lake Blue</td>\n",
       "      <td>2021</td>\n",
       "    </tr>\n",
       "  </tbody>\n",
       "</table>\n",
       "</div>"
      ],
      "text/plain": [
       "               id   profileName  \\\n",
       "0  R3A7LKHO3QIEI6  Vijay Gandhi   \n",
       "1   RTC2JFCZRT3ML        NeHaaL   \n",
       "2   RKFNBV8UHH917      Mohit MJ   \n",
       "3  R2575KONXPQXVE     ASHANNITA   \n",
       "4   RWXB385NSDLJL        AshokA   \n",
       "\n",
       "                                                text  \\\n",
       "0  \\n  Battery Issue.... Phone is Heating during ...   \n",
       "1  \\n  Facing heating issue while using camera ap...   \n",
       "2  \\n  My first time buying a OnePlus phone and I...   \n",
       "3  \\n  HiPlease consider this message with a seri...   \n",
       "4  \\n  Within 10 minutes of usage. It’s felt like...   \n",
       "\n",
       "                                 date  \\\n",
       "0  Reviewed in India on 19 April 2021   \n",
       "1  Reviewed in India on 19 April 2021   \n",
       "2  Reviewed in India on 19 April 2021   \n",
       "3    Reviewed in India on 30 May 2021   \n",
       "4  Reviewed in India on 19 April 2021   \n",
       "\n",
       "                                          title  rating  \\\n",
       "0          OnePlus 9R - Not As per Expectations       1   \n",
       "1                                 Heating issue       1   \n",
       "2                       Amazing - True Flagship       5   \n",
       "3  Claim for Replacement of Oneplus 9R phone...       1   \n",
       "4                              Over heat mobile       1   \n",
       "\n",
       "                                              images  helpful  \\\n",
       "0                                                NaN        2   \n",
       "1                                                NaN        1   \n",
       "2                                                NaN      916   \n",
       "3                                                NaN      817   \n",
       "4  https://images-na.ssl-images-amazon.com/images...      462   \n",
       "\n",
       "                Style name     Colour  year  \n",
       "0  12GB RAM, 256GB Storage  Lake Blue  2021  \n",
       "1   8GB RAM, 128GB Storage  Lake Blue  2021  \n",
       "2   8GB RAM, 128GB Storage  Lake Blue  2021  \n",
       "3   8GB RAM, 128GB Storage  Lake Blue  2021  \n",
       "4   8GB RAM, 128GB Storage  Lake Blue  2021  "
      ]
     },
     "execution_count": 11,
     "metadata": {},
     "output_type": "execute_result"
    }
   ],
   "source": [
    "df['year'] = df['date'].str[-4:]\n",
    "\n",
    "df.head()"
   ]
  },
  {
   "cell_type": "code",
   "execution_count": 12,
   "id": "square-forest",
   "metadata": {},
   "outputs": [
    {
     "data": {
      "image/png": "[encoded data removed]",
      "text/plain": [
       "<Figure size 864x576 with 1 Axes>"
      ]
     },
     "metadata": {
      "needs_background": "light"
     },
     "output_type": "display_data"
    },
    {
     "data": {
      "text/plain": [
       "2021    500\n",
       "Name: year, dtype: int64"
      ]
     },
     "execution_count": 12,
     "metadata": {},
     "output_type": "execute_result"
    }
   ],
   "source": [
    "##################################################################\n",
    "# Total review for every year in the Headphone product\n",
    "#####################################################################\n",
    "plt.figure(figsize = (12,8))\n",
    "sns.countplot(df['year'])\n",
    "plt.title('Total Review Numbers for Each Year', color='r')\n",
    "plt.xlabel('year')\n",
    "plt.ylabel('Number of Reviews')\n",
    "plt.show()\n",
    "\n",
    "# Customer totals for each rating class\n",
    "df['year'].value_counts()"
   ]
  },
  {
   "cell_type": "code",
   "execution_count": 13,
   "id": "outdoor-supply",
   "metadata": {},
   "outputs": [
    {
     "data": {
      "text/plain": [
       "Text(0, 0.5, 'Number of Reviews')"
      ]
     },
     "execution_count": 13,
     "metadata": {},
     "output_type": "execute_result"
    },
    {
     "data": {
      "text/plain": [
       "<Figure size 1080x576 with 0 Axes>"
      ]
     },
     "metadata": {},
     "output_type": "display_data"
    },
    {
     "data": {
      "image/png": "[encoded data removed]",
      "text/plain": [
       "<Figure size 864x576 with 1 Axes>"
      ]
     },
     "metadata": {
      "needs_background": "light"
     },
     "output_type": "display_data"
    }
   ],
   "source": [
    "##########################################\n",
    "## PLOT DISTRIBUTION OF REVIEW LENGTH   \n",
    "##########################################\n",
    "plt.figure(figsize = (15,8))\n",
    "\n",
    "review_length = df[\"text\"].dropna().map(lambda x: len(x))\n",
    "plt.figure(figsize=(12,8))\n",
    "review_length.loc[review_length < 2000].hist()\n",
    "plt.title(\"Distribution of Review Length\")\n",
    "plt.xlabel('Review length')\n",
    "plt.ylabel('Number of Reviews')"
   ]
  },
  {
   "cell_type": "code",
   "execution_count": 14,
   "id": "focal-sewing",
   "metadata": {},
   "outputs": [
    {
     "data": {
      "image/png": "[encoded data removed]",
      "text/plain": [
       "<Figure size 1008x432 with 1 Axes>"
      ]
     },
     "metadata": {
      "needs_background": "light"
     },
     "output_type": "display_data"
    }
   ],
   "source": [
    "#words per review\n",
    "plt.figure(figsize = (14,6))\n",
    "WordsPerReview = df2['text'].apply(lambda x: len(x.split(' ')))\n",
    "\n",
    "sns.histplot(WordsPerReview,bins = 100)\n",
    "\n",
    "plt.xlabel('Review Length')\n",
    "plt.show()"
   ]
  },
  {
   "cell_type": "code",
   "execution_count": 15,
   "id": "separate-commercial",
   "metadata": {},
   "outputs": [
    {
     "data": {
      "text/plain": [
       "<Figure size 864x576 with 0 Axes>"
      ]
     },
     "metadata": {},
     "output_type": "display_data"
    },
    {
     "data": {
      "image/png": "[encoded data removed]",
      "text/plain": [
       "<Figure size 864x432 with 2 Axes>"
      ]
     },
     "metadata": {
      "needs_background": "light"
     },
     "output_type": "display_data"
    }
   ],
   "source": [
    "##################################################################\n",
    "# Create a graph for each rating class to compare within the years\n",
    "##################################################################\n",
    "\n",
    "df['rating_class_num'] = df['rating'].map({'good': 1, 'bad': 0})\n",
    "\n",
    "feature = df.groupby('year').agg({'rating_class_num':['size', 'sum', 'mean']})\n",
    "feature.columns = [' '.join(col).strip() for col in feature.columns.values]\n",
    "feature = feature.reset_index()\n",
    "feature['rating_class_num mean'] = feature['rating_class_num mean']*100\n",
    "feature.columns = ['Year', 'Total Reviews', 'Relevant Rating Number', \n",
    "                    '% of Relevant Rating Number in This Year'] \n",
    "plt.figure(figsize = (12,8))\n",
    "fig0, ax1 = plt.subplots(figsize = (12,6))\n",
    "ax2 = ax1.twinx()\n",
    "feature.set_index(feature['Year'], drop=True, inplace=True)\n",
    "feature[\"Total Reviews\"].plot(kind = 'bar', stacked = True, ax = ax1, colormap = 'winter', rot=0)\n",
    "feature['% of Relevant Rating Number in This Year'].plot(use_index = False, \n",
    "                                                         kind = 'line', ax = ax2, colormap='Spectral')   \n",
    "\n",
    "plt.title('Good Rating Class Compared to the Each Year', color='r')\n",
    "ax1.set_xlabel('Year')\n",
    "ax1.yaxis.label.set_color('blue')\n",
    "ax1.set_ylabel(\"Total Reviews\")\n",
    "ax2.set_ylabel(\"Good Class Percentage for Each Year\")\n",
    "ax2.yaxis.label.set_color('red')\n",
    "plt.tight_layout()\n",
    "plt.show()"
   ]
  },
  {
   "cell_type": "code",
   "execution_count": 16,
   "id": "ranging-psychiatry",
   "metadata": {},
   "outputs": [],
   "source": [
    "#word_number_histogram\n",
    "def plot_word_number_histogram(text):\n",
    "    text.str.split().\\\n",
    "        map(lambda x: len(x)).\\\n",
    "        hist()"
   ]
  },
  {
   "cell_type": "code",
   "execution_count": 17,
   "id": "catholic-procedure",
   "metadata": {},
   "outputs": [
    {
     "data": {
      "image/png": "[encoded data removed]",
      "text/plain": [
       "<Figure size 432x288 with 1 Axes>"
      ]
     },
     "metadata": {
      "needs_background": "light"
     },
     "output_type": "display_data"
    }
   ],
   "source": [
    "plot_word_number_histogram(df['text'])"
   ]
  },
  {
   "cell_type": "code",
   "execution_count": 18,
   "id": "sunset-dakota",
   "metadata": {},
   "outputs": [],
   "source": [
    "#word_length_histogram\n",
    "\n",
    "import numpy as np\n",
    "\n",
    "def plot_word_length_histogram(text):\n",
    "    text.str.split().\\\n",
    "        apply(lambda x : [len(i) for i in x]). \\\n",
    "        map(lambda x: np.mean(x)).\\\n",
    "        hist()"
   ]
  },
  {
   "cell_type": "code",
   "execution_count": 19,
   "id": "funded-direction",
   "metadata": {},
   "outputs": [
    {
     "data": {
      "image/png": "[encoded data removed]",
      "text/plain": [
       "<Figure size 432x288 with 1 Axes>"
      ]
     },
     "metadata": {
      "needs_background": "light"
     },
     "output_type": "display_data"
    }
   ],
   "source": [
    "plot_word_length_histogram(df['text'])"
   ]
  },
  {
   "cell_type": "code",
   "execution_count": 20,
   "id": "educated-routine",
   "metadata": {},
   "outputs": [],
   "source": [
    "#top_stopwords_barchart\n",
    "import matplotlib.pyplot as plt\n",
    "import numpy as np\n",
    "from nltk.corpus import stopwords\n",
    "\n",
    "def plot_top_stopwords_barchart(text):\n",
    "    stop=set(stopwords.words('english'))\n",
    "    \n",
    "    new= text.str.split()\n",
    "    new=new.values.tolist()\n",
    "    corpus=[word for i in new for word in i]\n",
    "    from collections import defaultdict\n",
    "    dic=defaultdict(int)\n",
    "    for word in corpus:\n",
    "        if word in stop:\n",
    "            dic[word]+=1\n",
    "            \n",
    "    top=sorted(dic.items(), key=lambda x:x[1],reverse=True)[:10] \n",
    "    x,y=zip(*top)\n",
    "    plt.bar(x,y)"
   ]
  },
  {
   "cell_type": "code",
   "execution_count": 21,
   "id": "curious-shipping",
   "metadata": {},
   "outputs": [
    {
     "data": {
      "image/png": "[encoded data removed]",
      "text/plain": [
       "<Figure size 432x288 with 1 Axes>"
      ]
     },
     "metadata": {
      "needs_background": "light"
     },
     "output_type": "display_data"
    }
   ],
   "source": [
    "plot_top_stopwords_barchart(df['text'])"
   ]
  },
  {
   "cell_type": "code",
   "execution_count": 22,
   "id": "documentary-addiction",
   "metadata": {},
   "outputs": [],
   "source": [
    "#top_non_stopwords_barchart\n",
    "import seaborn as sns\n",
    "from nltk.corpus import stopwords\n",
    "from collections import  Counter\n",
    "\n",
    "def plot_top_non_stopwords_barchart(text):\n",
    "    stop=set(stopwords.words('english'))\n",
    "    \n",
    "    new= text.str.split()\n",
    "    new=new.values.tolist()\n",
    "    corpus=[word for i in new for word in i]\n",
    "\n",
    "    counter=Counter(corpus)\n",
    "    most=counter.most_common()\n",
    "    x, y=[], []\n",
    "    for word,count in most[:40]:\n",
    "        if (word not in stop):\n",
    "            x.append(word)\n",
    "            y.append(count)\n",
    "            \n",
    "    sns.barplot(x=y,y=x)"
   ]
  },
  {
   "cell_type": "code",
   "execution_count": 23,
   "id": "detailed-kinase",
   "metadata": {},
   "outputs": [
    {
     "data": {
      "image/png": "[encoded data removed]",
      "text/plain": [
       "<Figure size 432x288 with 1 Axes>"
      ]
     },
     "metadata": {
      "needs_background": "light"
     },
     "output_type": "display_data"
    }
   ],
   "source": [
    "plot_top_non_stopwords_barchart(df['text'])"
   ]
  },
  {
   "cell_type": "code",
   "execution_count": 24,
   "id": "superb-corps",
   "metadata": {},
   "outputs": [],
   "source": [
    "#top_ngrams_barchart\n",
    "\n",
    "#Top N-grams Barchart\n",
    "import seaborn as sns\n",
    "import numpy as np\n",
    "from nltk.corpus import stopwords\n",
    "from sklearn.feature_extraction.text import CountVectorizer\n",
    "from collections import  Counter\n",
    "\n",
    "def plot_top_ngrams_barchart(text, n=2):\n",
    "    stop=set(stopwords.words('english'))\n",
    "\n",
    "    new= text.str.split()\n",
    "    new=new.values.tolist()\n",
    "    corpus=[word for i in new for word in i]\n",
    "\n",
    "    def _get_top_ngram(corpus, n=None):\n",
    "        vec = CountVectorizer(ngram_range=(n, n)).fit(corpus)\n",
    "        bag_of_words = vec.transform(corpus)\n",
    "        sum_words = bag_of_words.sum(axis=0) \n",
    "        words_freq = [(word, sum_words[0, idx]) \n",
    "                      for word, idx in vec.vocabulary_.items()]\n",
    "        words_freq =sorted(words_freq, key = lambda x: x[1], reverse=True)\n",
    "        return words_freq[:10]\n",
    "\n",
    "    top_n_bigrams=_get_top_ngram(text,n)[:10]\n",
    "    x,y=map(list,zip(*top_n_bigrams))\n",
    "    sns.barplot(x=y,y=x)"
   ]
  },
  {
   "cell_type": "code",
   "execution_count": 25,
   "id": "turkish-chambers",
   "metadata": {},
   "outputs": [
    {
     "data": {
      "image/png": "[encoded data removed]",
      "text/plain": [
       "<Figure size 432x288 with 1 Axes>"
      ]
     },
     "metadata": {
      "needs_background": "light"
     },
     "output_type": "display_data"
    }
   ],
   "source": [
    "plot_top_ngrams_barchart(df['text'],2)"
   ]
  },
  {
   "cell_type": "code",
   "execution_count": 26,
   "id": "veterinary-mortgage",
   "metadata": {},
   "outputs": [
    {
     "data": {
      "image/png": "[encoded data removed]",
      "text/plain": [
       "<Figure size 432x288 with 1 Axes>"
      ]
     },
     "metadata": {
      "needs_background": "light"
     },
     "output_type": "display_data"
    }
   ],
   "source": [
    "plot_top_ngrams_barchart(df['text'],3)"
   ]
  },
  {
   "cell_type": "code",
   "execution_count": 27,
   "id": "accepting-distributor",
   "metadata": {},
   "outputs": [
    {
     "data": {
      "image/png": "[encoded data removed]",
      "text/plain": [
       "<Figure size 432x288 with 1 Axes>"
      ]
     },
     "metadata": {
      "needs_background": "light"
     },
     "output_type": "display_data"
    }
   ],
   "source": [
    "plot_top_ngrams_barchart(df['text'],4)"
   ]
  },
  {
   "cell_type": "code",
   "execution_count": 28,
   "id": "cellular-basics",
   "metadata": {},
   "outputs": [
    {
     "data": {
      "image/png": "[encoded data removed]",
      "text/plain": [
       "<Figure size 432x288 with 1 Axes>"
      ]
     },
     "metadata": {
      "needs_background": "light"
     },
     "output_type": "display_data"
    }
   ],
   "source": [
    "plot_top_ngrams_barchart(df['text'],5)"
   ]
  },
  {
   "cell_type": "code",
   "execution_count": 29,
   "id": "possible-substitute",
   "metadata": {},
   "outputs": [
    {
     "name": "stdout",
     "output_type": "stream",
     "text": [
      "Requirement already satisfied: gensim in c:\\anaconda3\\lib\\site-packages (4.1.2)\n",
      "Requirement already satisfied: numpy>=1.17.0 in c:\\anaconda3\\lib\\site-packages (from gensim) (1.22.0)\n",
      "Requirement already satisfied: scipy>=0.18.1 in c:\\anaconda3\\lib\\site-packages (from gensim) (1.6.0)\n",
      "Requirement already satisfied: smart-open>=1.8.1 in c:\\anaconda3\\lib\\site-packages (from gensim) (3.0.0)\n",
      "Requirement already satisfied: Cython==0.29.23 in c:\\anaconda3\\lib\\site-packages (from gensim) (0.29.23)\n",
      "Requirement already satisfied: requests in c:\\anaconda3\\lib\\site-packages (from smart-open>=1.8.1->gensim) (2.25.1)\n",
      "Requirement already satisfied: certifi>=2017.4.17 in c:\\anaconda3\\lib\\site-packages (from requests->smart-open>=1.8.1->gensim) (2021.10.8)\n",
      "Requirement already satisfied: chardet<5,>=3.0.2 in c:\\anaconda3\\lib\\site-packages (from requests->smart-open>=1.8.1->gensim) (4.0.0)\n",
      "Requirement already satisfied: idna<3,>=2.5 in c:\\anaconda3\\lib\\site-packages (from requests->smart-open>=1.8.1->gensim) (2.10)\n",
      "Requirement already satisfied: urllib3<1.27,>=1.21.1 in c:\\anaconda3\\lib\\site-packages (from requests->smart-open>=1.8.1->gensim) (1.26.3)\n",
      "Note: you may need to restart the kernel to use updated packages.\n"
     ]
    }
   ],
   "source": [
    "pip install gensim"
   ]
  },
  {
   "cell_type": "code",
   "execution_count": 30,
   "id": "entertaining-olive",
   "metadata": {},
   "outputs": [],
   "source": [
    "import pyLDAvis\n",
    "import pyLDAvis.gensim_models"
   ]
  },
  {
   "cell_type": "code",
   "execution_count": 31,
   "id": "empirical-foundation",
   "metadata": {},
   "outputs": [
    {
     "name": "stderr",
     "output_type": "stream",
     "text": [
      "C:\\anaconda3\\lib\\site-packages\\ipykernel\\ipkernel.py:287: DeprecationWarning: `should_run_async` will not call `transform_cell` automatically in the future. Please pass the result to `transformed_cell` argument and any exception that happen during thetransform in `preprocessing_exc_tuple` in IPython 7.17 and above.\n",
      "  and should_run_async(code)\n",
      "C:\\anaconda3\\lib\\site-packages\\scipy\\sparse\\sparsetools.py:21: DeprecationWarning: `scipy.sparse.sparsetools` is deprecated!\n",
      "scipy.sparse.sparsetools is a private module for scipy.sparse, and should not be used.\n",
      "  _deprecated()\n"
     ]
    }
   ],
   "source": [
    "\n",
    "#Creating LDA visualization\n",
    "import numpy as np\n",
    "import nltk\n",
    "from nltk.corpus import stopwords\n",
    "import gensim\n",
    "from nltk.stem import WordNetLemmatizer,PorterStemmer\n",
    "from nltk.tokenize import word_tokenize\n",
    "import pyLDAvis\n",
    "import pyLDAvis.gensim_models\n",
    "\n",
    "\n",
    "def get_lda_objects(text):\n",
    "    nltk.download('stopwords')    \n",
    "    stop=set(stopwords.words('english'))\n",
    "\n",
    "    \n",
    "    def _preprocess_text(text):\n",
    "        corpus=[]\n",
    "        stem=PorterStemmer()\n",
    "        lem=WordNetLemmatizer()\n",
    "        for news in text:\n",
    "            words=[w for w in word_tokenize(news) if (w not in stop)]\n",
    "\n",
    "            words=[lem.lemmatize(w) for w in words if len(w)>2]\n",
    "\n",
    "            corpus.append(words)\n",
    "        return corpus\n",
    "    \n",
    "    corpus=_preprocess_text(text)\n",
    "    \n",
    "    dic=gensim.corpora.Dictionary(corpus)\n",
    "    bow_corpus = [dic.doc2bow(doc) for doc in corpus]\n",
    "    \n",
    "    lda_model =  gensim.models.LdaMulticore(bow_corpus, \n",
    "                                   num_topics = 4, \n",
    "                                   id2word = dic,                                    \n",
    "                                   passes = 10,\n",
    "                                   workers = 2)\n",
    "    \n",
    "    return lda_model, bow_corpus, dic\n",
    "\n",
    "def plot_lda_vis(lda_model, bow_corpus, dic):\n",
    "    pyLDAvis.enable_notebook()\n",
    "    vis = pyLDAvis.gensim_models.prepare(lda_model, bow_corpus, dic)\n",
    "    return vis"
   ]
  },
  {
   "cell_type": "code",
   "execution_count": 32,
   "id": "minor-fancy",
   "metadata": {},
   "outputs": [
    {
     "name": "stderr",
     "output_type": "stream",
     "text": [
      "C:\\anaconda3\\lib\\site-packages\\ipykernel\\ipkernel.py:287: DeprecationWarning: `should_run_async` will not call `transform_cell` automatically in the future. Please pass the result to `transformed_cell` argument and any exception that happen during thetransform in `preprocessing_exc_tuple` in IPython 7.17 and above.\n",
      "  and should_run_async(code)\n",
      "[nltk_data] Downloading package stopwords to\n",
      "[nltk_data]     C:\\Users\\icon\\AppData\\Roaming\\nltk_data...\n",
      "[nltk_data]   Package stopwords is already up-to-date!\n"
     ]
    }
   ],
   "source": [
    "lda_model, bow_corpus, dic = get_lda_objects(df['text'])"
   ]
  },
  {
   "cell_type": "code",
   "execution_count": 33,
   "id": "adjacent-parcel",
   "metadata": {},
   "outputs": [
    {
     "name": "stderr",
     "output_type": "stream",
     "text": [
      "C:\\anaconda3\\lib\\site-packages\\ipykernel\\ipkernel.py:287: DeprecationWarning: `should_run_async` will not call `transform_cell` automatically in the future. Please pass the result to `transformed_cell` argument and any exception that happen during thetransform in `preprocessing_exc_tuple` in IPython 7.17 and above.\n",
      "  and should_run_async(code)\n"
     ]
    },
    {
     "data": {
      "text/plain": [
       "[(0,\n",
       "  '0.017*\"phone\" + 0.011*\"good\" + 0.010*\"n\\'t\" + 0.009*\"camera\" + 0.009*\"battery\" + 0.008*\"OnePlus\" + 0.007*\"one\" + 0.006*\"The\" + 0.006*\"heating\" + 0.005*\"like\"'),\n",
       " (1,\n",
       "  '0.016*\"phone\" + 0.013*\"good\" + 0.009*\"camera\" + 0.008*\"quality\" + 0.008*\"device\" + 0.008*\"using\" + 0.007*\"issue\" + 0.007*\"n\\'t\" + 0.006*\"day\" + 0.006*\"charging\"'),\n",
       " (2,\n",
       "  '0.027*\"phone\" + 0.012*\"n\\'t\" + 0.011*\"issue\" + 0.010*\"camera\" + 0.010*\"good\" + 0.009*\"quality\" + 0.009*\"like\" + 0.008*\"...\" + 0.008*\"heating\" + 0.008*\"OnePlus\"'),\n",
       " (3,\n",
       "  '0.025*\"phone\" + 0.016*\"camera\" + 0.014*\"good\" + 0.010*\"one\" + 0.009*\"OnePlus\" + 0.008*\"plus\" + 0.008*\"day\" + 0.007*\"issue\" + 0.007*\"really\" + 0.006*\"The\"')]"
      ]
     },
     "execution_count": 33,
     "metadata": {},
     "output_type": "execute_result"
    }
   ],
   "source": [
    "lda_model.show_topics()"
   ]
  },
  {
   "cell_type": "code",
   "execution_count": null,
   "id": "jewish-workshop",
   "metadata": {},
   "outputs": [],
   "source": []
  },
  {
   "cell_type": "code",
   "execution_count": 34,
   "id": "vertical-trick",
   "metadata": {},
   "outputs": [
    {
     "name": "stderr",
     "output_type": "stream",
     "text": [
      "C:\\anaconda3\\lib\\site-packages\\ipykernel\\ipkernel.py:287: DeprecationWarning: `should_run_async` will not call `transform_cell` automatically in the future. Please pass the result to `transformed_cell` argument and any exception that happen during thetransform in `preprocessing_exc_tuple` in IPython 7.17 and above.\n",
      "  and should_run_async(code)\n"
     ]
    },
    {
     "data": {
      "text/html": [
       "\n",
       "<link rel=\"stylesheet\" type=\"text/css\" href=\"https://cdn.jsdelivr.net/gh/bmabey/pyLDAvis@3.3.1/pyLDAvis/js/ldavis.v1.0.0.css\">\n",
       "\n",
       "\n",
       "<div id=\"ldavis_el658018420861279843655334059\"></div>\n",
       "<script type=\"text/javascript\">\n",
       "\n",
       "var ldavis_el658018420861279843655334059_data = {\"mdsDat\": {\"x\": [-0.026919324965475135, -0.03624836178088742, -0.008260391567181483, 0.07142807831354397], \"y\": [0.024076858703427413, 0.029891868760200918, -0.07010482892729694, 0.016136101463668635], \"topics\": [1, 2, 3, 4], \"cluster\": [1, 1, 1, 1], \"Freq\": [29.658716598699623, 28.12943984368552, 24.984818481590164, 17.227025076024685]}, \"tinfo\": {\"Term\": [\"...\", \"plus\", \"device\", \"best\", \"Oneplus\", \"good\", \"using\", \"call\", \"really\", \"quality\", \"feel\", \"60hz\", \"definitely\", \"n't\", \"charging\", \"would\", \"camera\", \"battery\", \"bought\", \"negative\", \"oneplus\", \"say\", \"get\", \"product\", \"way\", \"issue\", \"Pro\", \"refresh\", \"le\", \"difference\", \"20k\", \"internet\", \"infact\", \"menu\", \"understand\", \"continuous\", \"sleek\", \"Same\", \"tone\", \"severe\", \"Disappointed\", \"preference\", \"instagram\", \"additional\", \"match\", \"regular\", \"About\", \"season\", \"black\", \"saturated\", \"paper\", \"entire\", \"cheap\", \"unable\", \"45mins\", \"booking\", \"Chinese\", \"disaster\", \"printer\", \"unacceptable\", \"Indian\", \"ONEPLUS\", \"set\", \"another\", \"...\", \"center\", \"poor\", \"feel\", \"like\", \"phone\", \"n't\", \"issue\", \"mobile\", \"premium\", \"normal\", \"heating\", \"thing\", \"quality\", \"use\", \"return\", \"feature\", \"take\", \"user\", \"better\", \"oneplus\", \"even\", \"OnePlus\", \"camera\", \"The\", \"good\", \"get\", \"problem\", \"much\", \"got\", \"charging\", \"day\", \"fast\", \"battery\", \"one\", \"buy\", \"using\", \"time\", \"really\", \"Camera\", \"stabilization\", \"struggle\", \"mainly\", \"lake\", \"port\", \"slowly\", \"propaganda\", \"everywhere\", \"vibrating\", \"lesser\", \"customisable\", \"honestly\", \"continuously\", \"morning\", \"carrier\", \"expecting\", \"memory\", \"concern\", \"hardly\", \"meeting\", \"Processor\", \"dont\", \"110\", \"12345\", \"loving\", \"drive\", \"Buds\", \"Guard\", \"EMI\", \"smoother\", \"pay\", \"Apple\", \"priority\", \"said\", \"class\", \"plus\", \"wrong\", \"delivery\", \"really\", \"love\", \"camera\", \"experience\", \"one\", \"best\", \"buying\", \"One\", \"phone\", \"Samsung\", \"good\", \"rating\", \"bought\", \"day\", \"OnePlus\", \"kind\", \"never\", \"The\", \"brand\", \"make\", \"better\", \"range\", \"price\", \"using\", \"issue\", \"Camera\", \"fast\", \"Battery\", \"life\", \"also\", \"time\", \"smooth\", \"performance\", \"charge\", \"quality\", \"use\", \"device\", \"get\", \"battery\", \"heating\", \"n't\", \"like\", \"charging\", \"60hz\", \"Lock\", \"packed\", \"Option\", \"juice\", \"goood\", \"Bgmi\", \"blur\", \"screencard\", \"lasted\", \"20K\", \"damn\", \"10/10\", \"plain\", \"ota\", \"temperture\", \"spare\", \"jio\", \"disply\", \"provider\", \"4500\", \"Operating\", \"msg\", \".Finger\", \"terrific\", \"disadvantage\", \"rich\", \"30K\", \"stuff\", \"keyboard\", \"Redmi\", \"5/5\", \"earphone\", \"4/5\", \"3.5mm\", \"advantage\", \"showing\", \"Realme\", \"Mobile\", \"refresh\", \"considering\", \"le\", \"aspect\", \"writing\", \"battery\", \"jack\", \"say\", \"rate\", \"call\", \"n't\", \"faster\", \"would\", \"awesome\", \"great\", \"phone\", \"good\", \"The\", \"OnePlus\", \"one\", \"feel\", \"display\", \"heating\", \"camera\", \"But\", \"average\", \"fast\", \"device\", \"Pro\", \"like\", \"update\", \"drain\", \"performance\", \"using\", \"day\", \"time\", \"charge\", \"quality\", \"issue\", \"charging\", \"get\", \"better\", \"also\", \"dialer\", \"thankyou\", \"warms\", \"Care\", \"circle\", \"reply\", \"upcoming\", \"filter\", \"Application\", \"remove\", \"upset\", \"centre\", \"pri\", \"48MP\", \"Running\", \"HEATING\", \"grab\", \"38K\", \"thin\", \"RECEIVED\", \"ISSUES\", \"google\", \"human\", \"877\", \"quality.Good\", \"raised\", \"rehashed\", \"maintained\", \"Where\", \"agree\", \"segment\", \"Dialer\", \"Vivo\", \"home\", \"scratch\", \"negative\", \"Oneplus\", \"Video\", \"device\", \"depends\", \"using\", \"nightscape\", \"message\", \"good\", \"definitely\", \"complaint\", \"charging\", \"quality\", \"20-30\", \"12gb\", \"THE\", \"best\", \"way\", \"editing\", \"Super\", \"Worst\", \"get\", \"product\", \"Fast\", \"hr\", \"phone\", \"time\", \"day\", \"mode\", \"issue\", \"camera\", \"n't\", \"performance\", \"oneplus\", \"screen\", \"think\", \"review\", \"heat\", \"would\", \"Camera\", \"update\", \"Phone\", \"battery\", \"better\", \"OnePlus\", \"great\", \"one\", \"fast\", \"work\", \"Battery\", \"like\", \"heating\", \"The\"], \"Freq\": [102.0, 98.0, 135.0, 98.0, 49.0, 325.0, 148.0, 51.0, 101.0, 191.0, 108.0, 10.0, 16.0, 242.0, 122.0, 57.0, 310.0, 158.0, 31.0, 11.0, 66.0, 59.0, 129.0, 58.0, 20.0, 214.0, 20.0, 34.0, 25.0, 16.0, 5.854553367048588, 5.11036099902771, 3.5963969513443512, 3.5958828196201855, 4.2889414919566065, 3.577419138978726, 3.5038889545735032, 2.754615670800241, 2.75435992322463, 2.753240098788592, 2.752676351555381, 2.752350614952518, 2.751351114118126, 2.749743763375816, 2.749105952411711, 6.140395745000839, 2.743375480961197, 2.742315099260633, 9.601085170945051, 2.7292283496066836, 3.308830254686437, 5.285985519741313, 6.535381696561103, 4.4389701625255915, 2.541973905635158, 1.9082682054490356, 1.9078209468022789, 1.9074221052223201, 1.9074067651615525, 1.9069644201280103, 4.450599366718166, 4.387318739790226, 6.71656603054918, 8.873093824602405, 64.55157397263018, 5.9364362145417955, 12.443292588728559, 52.5319460584439, 71.73389013443769, 221.1760641600937, 98.41764971866651, 88.71770744361196, 39.85210493890923, 21.887656987594738, 23.47211652422427, 63.417460269986854, 33.1188268709075, 74.52063460376196, 40.413746748779914, 11.78178794201429, 20.44158589167294, 20.58587642076103, 25.11035064387479, 47.8405412940566, 28.369068515360066, 37.575877691932256, 63.29020679588884, 81.86397538344745, 50.16726418606548, 81.53417174697343, 42.85388638007439, 22.769434360640645, 30.71669991019525, 18.454545635272463, 38.03806988784628, 45.57348740341868, 35.974870064749624, 40.76327003337076, 43.819646750807976, 27.823332430997837, 35.39194392056383, 32.11505574709928, 29.359277107942088, 27.83941073218993, 4.340576213535957, 4.985084047506114, 3.5186838367541555, 3.500232863557072, 3.4618769175501645, 2.7236245272471415, 2.7232032856457637, 2.7222991961429694, 2.721711322003109, 2.7203743970933947, 2.7178130753865846, 2.7156404871597286, 2.705734830636027, 2.700498977121227, 2.6977414700382765, 2.6901000155381687, 2.6715285576952517, 3.955033530730551, 2.58868604317418, 4.540844427863768, 4.3961605545790166, 9.486732774114465, 1.88702984106033, 1.8865706354290388, 1.8862498734756965, 1.8862198659789982, 1.886129616159383, 1.8858337467885289, 1.8856656366081628, 1.8853706765553904, 4.401638286703566, 2.5192170970111385, 3.104084349305005, 9.854527386599992, 4.737512651905874, 60.86758094173555, 3.0601258672668257, 6.837755986835534, 52.195956349524366, 8.500308156288677, 126.59533608869852, 41.67227997291552, 79.99095848756033, 45.10359539172614, 14.674865275983384, 26.260953435920666, 194.86834892923915, 10.095431207365694, 107.05619285498472, 7.788653092547744, 16.068314306978184, 58.837335548762994, 67.48595075623321, 5.390247541220794, 16.86210170781833, 49.21209453511608, 19.377431924688967, 16.597551979654426, 41.67910349580108, 18.258588770524305, 27.87654250906396, 44.37089234234661, 57.227147825025384, 32.055717491040966, 38.05264477937147, 29.97874587911886, 24.204863404428203, 30.13735641348488, 35.97688256049812, 26.654886396666516, 31.37193575446036, 27.43040923451634, 44.03487021295601, 28.46892141070176, 33.779300816846934, 32.861867980520785, 36.20870047499083, 35.59531086975578, 42.52434738825212, 34.797129643944544, 28.97958535223988, 9.886180577609233, 3.4972587435565625, 3.4962661240062873, 3.4961377053663414, 3.4932858423622557, 3.444764999569294, 2.673610259028665, 2.6732435793900766, 2.6721647416648695, 2.6720225927300865, 2.6713084154824616, 2.6688737111421004, 2.6657728855860436, 2.66095516742706, 2.658923285707284, 2.632369097408622, 2.616837912870866, 1.8532772368717028, 1.853276631123401, 1.8526026351797846, 1.8523435768227865, 1.8523225775483299, 1.8518559494399724, 1.8515524695408545, 1.8513436882928918, 1.8512770559797123, 1.8511557044032851, 1.8509144146631349, 1.850873627610825, 1.8506436451723052, 4.3228516801326995, 8.884796253241745, 5.124805894985932, 6.012694794566355, 5.077485241494605, 3.495744372802481, 3.4961978763643033, 3.4959652690164766, 5.958690718147016, 18.79527137606845, 5.801266426525564, 14.04533725970198, 6.573899192922177, 9.054068981643127, 60.648146707018554, 7.839406333921664, 25.803666152939773, 20.24654415639397, 22.127867539631254, 68.3318846117291, 7.581020761370526, 23.035570869990277, 17.73455279405946, 30.076314221497576, 119.75126371924932, 74.49367910092367, 44.05640027414771, 52.45727632418131, 49.025991647316545, 32.282220159352796, 28.01535819857219, 39.40667954147451, 60.825018749780014, 23.623684627065618, 17.086185657252937, 32.3047055363094, 34.22832953494628, 10.083771635279732, 36.412955131132954, 24.862472210480096, 13.92791416292713, 25.996059890182266, 31.860270430394863, 34.25684331900072, 28.018443476588505, 22.803444890147105, 33.507220911422124, 34.48212676602865, 25.77430916724946, 25.626664883873964, 25.166527166652312, 23.252557988279047, 3.9936544958897655, 2.4729962408020914, 2.468291960083262, 2.4304257719923643, 1.7139558829124182, 1.7137224091401342, 1.7135418393830368, 1.71352485440974, 1.7132532340580846, 1.7131781938891752, 1.71248027855199, 1.712320591958782, 1.7120911555981833, 1.7120613622843677, 1.711951934505587, 1.7119441381244016, 1.7118704901664181, 1.7117709470852118, 1.711336020391941, 1.711232857562327, 1.7111699296284735, 1.711127327974139, 1.7110450483084145, 1.710932140002319, 1.710876312344188, 1.7104866325060109, 1.7104423601985652, 1.7104168827386201, 1.7102169612496518, 1.7100976487732968, 3.962599838975234, 3.217998657483094, 3.219331560223611, 3.1662393181198256, 4.001958477178764, 6.8169602420936, 20.25382440739814, 5.501041361104604, 39.56790866730872, 3.2358317656759397, 36.43021496357265, 3.2380281176327386, 3.2194730088536887, 62.52671425742872, 6.981086874386641, 5.332194020003808, 29.266516793986774, 39.70928601618715, 2.474953132479625, 2.474619280299579, 2.4734459249311773, 23.688304067487298, 7.985102059019694, 2.47418713802816, 2.469361734958772, 6.134991288854314, 28.411730470970216, 16.236594211688118, 5.360665847208493, 5.843285231727873, 76.20413743486168, 24.62958567091209, 30.222529102776996, 9.733905538293337, 33.89166424378411, 41.10671383493195, 33.155033191400925, 19.685459308833067, 15.223152645317553, 15.797297089878484, 9.591392145299316, 15.032613544221512, 13.643223794478855, 13.317183588380685, 17.29633737214999, 16.468950873925124, 11.04895233835831, 20.783938232330193, 18.633598289749628, 22.402544930229627, 14.894296831842714, 20.26868208240002, 16.07438047720735, 12.408326020537205, 13.940976502098938, 15.894688369877672, 15.297038949811522, 14.340870713397596], \"Total\": [102.0, 98.0, 135.0, 98.0, 49.0, 325.0, 148.0, 51.0, 101.0, 191.0, 108.0, 10.0, 16.0, 242.0, 122.0, 57.0, 310.0, 158.0, 31.0, 11.0, 66.0, 59.0, 129.0, 58.0, 20.0, 214.0, 20.0, 34.0, 25.0, 16.0, 6.744367140658704, 5.891129840730689, 4.2119943116437435, 4.2123313323955, 5.044519583006572, 4.209985458921982, 4.201297584542051, 3.3637036622313756, 3.3637452543162016, 3.363720759896554, 3.3637275931811548, 3.3636815882664446, 3.3635960090797146, 3.363280700134709, 3.3634782423188976, 7.520168663563928, 3.362720967180638, 3.363236254986301, 11.82948017272098, 3.363138533764598, 4.182390681204853, 6.733027109470775, 8.338335334437055, 5.821957166073977, 3.341167320065886, 2.5150742336860414, 2.5149952579362442, 2.515022140930972, 2.5150507920920853, 2.51491910999934, 5.898936818698018, 5.877383552461963, 9.167666908272635, 12.622188278791807, 102.39273270634898, 8.413908756098747, 19.31470253765326, 108.64483983451304, 158.83866327939288, 611.9998142434438, 242.42891491004863, 214.3186462784501, 86.3504154330026, 41.670228669822585, 45.704713434033856, 153.71648963102865, 70.4083673119136, 191.77201174432724, 93.50525684502935, 20.064472099290683, 41.71655523396703, 42.13904581104733, 54.803279132510895, 133.31977024625962, 66.62754434413657, 98.71089308387731, 205.635978806533, 310.39104405685794, 157.7766297087269, 325.6107579603105, 129.75414971543935, 51.94444722645101, 82.05077461489657, 38.69749295898876, 122.0584812013224, 168.8901953739594, 122.40660085763784, 158.40405544771033, 193.10527896808486, 79.90772959465855, 148.05332165687796, 120.73996745509798, 101.17127172693131, 94.76230319979035, 5.0117573205371215, 5.849775114942797, 4.174283482971264, 4.168477038518317, 4.168301394961022, 3.3351977692287513, 3.3350763929924727, 3.3351142038691566, 3.3351780418910577, 3.3350659123153004, 3.3349464109498226, 3.3349032650178745, 3.3347617057460828, 3.3347970066436248, 3.3326085200996984, 3.334848784526873, 3.333386367307168, 5.005018441985912, 3.3243757548364323, 5.837345308670978, 5.77551113147225, 12.474892850452981, 2.496022729765871, 2.4959865464859776, 2.495983262601488, 2.4960158309809324, 2.4959909408974, 2.4960362713289403, 2.4959892396628165, 2.4959537334585478, 5.836994514202323, 3.336208243129289, 4.132594103153898, 14.044529561348444, 6.569615563578946, 98.34902146701191, 4.16475509346504, 10.002525378635763, 101.17127172693131, 13.368976980903344, 310.39104405685794, 87.95226970391876, 193.10527896808486, 98.05063850530033, 25.792701870529143, 52.51876367964991, 611.9998142434438, 16.72246856565553, 325.6107579603105, 12.410486110056585, 31.830451473399044, 168.8901953739594, 205.635978806533, 8.154846104720542, 36.76727147916034, 157.7766297087269, 45.02154947255558, 36.34937908018502, 133.31977024625962, 41.92640683562265, 76.81241279300207, 148.05332165687796, 214.3186462784501, 94.76230319979035, 122.40660085763784, 87.56211200646699, 63.771389736805844, 91.78478140581515, 120.73996745509798, 76.82538812095854, 101.89021944857467, 84.4460039590452, 191.77201174432724, 93.50525684502935, 135.0180122563758, 129.75414971543935, 158.40405544771033, 153.71648963102865, 242.42891491004863, 158.83866327939288, 122.0584812013224, 10.697169986552558, 4.115676447315955, 4.11565999544377, 4.115655836285152, 4.115620262400405, 4.111868108519016, 3.2910755499221556, 3.2910721569677728, 3.291010315868048, 3.2910698800445903, 3.29105115511053, 3.2912246312814455, 3.29119192885449, 3.291340687501567, 3.2912746565563284, 3.288272402651594, 3.2918001899533977, 2.46666018210973, 2.466672386481116, 2.4666499636790578, 2.466598383384515, 2.4666918021642803, 2.466483009368765, 2.466616068623387, 2.466669088927057, 2.466597769362596, 2.4665323432533883, 2.4666364036035198, 2.4666178626715425, 2.466535564752635, 5.787493497926419, 13.058547843894, 7.450187552454676, 8.891074230239221, 7.436361965578226, 4.95361359788822, 4.962987033441567, 4.962865028024965, 9.134215858384529, 34.66321438052728, 9.110085814511882, 25.77432667027753, 10.709873410187072, 15.567742911924393, 158.40405544771033, 13.193933259828524, 59.02844392472131, 45.28671299169415, 51.0664425634813, 242.42891491004863, 13.118136037346511, 57.9344543885868, 41.78558759231861, 85.52300587127455, 611.9998142434438, 325.6107579603105, 157.7766297087269, 205.635978806533, 193.10527896808486, 108.64483983451304, 91.570427627548, 153.71648963102865, 310.39104405685794, 75.06673544518445, 45.72741634805411, 122.40660085763784, 135.0180122563758, 20.722570740707635, 158.83866327939288, 87.96096671636168, 35.152821405055406, 101.89021944857467, 148.05332165687796, 168.8901953739594, 120.73996745509798, 84.4460039590452, 191.77201174432724, 214.3186462784501, 122.0584812013224, 129.75414971543935, 133.31977024625962, 91.78478140581515, 4.631348250072476, 3.105918202269467, 3.1064267251812456, 3.10985252010968, 2.343115263309066, 2.343131647236576, 2.343139151139714, 2.3431441832075555, 2.3431368466756424, 2.343182995653877, 2.3432422224441827, 2.3432659081037284, 2.3432861426063885, 2.343284324703176, 2.3432866336573337, 2.3433060790075246, 2.343286985369154, 2.3432518071786648, 2.34333462466316, 2.343383748289624, 2.3433807581656083, 2.3433646859642616, 2.343399916440556, 2.343362161301115, 2.343365883470122, 2.343447172003138, 2.3434458783734065, 2.3434257103630722, 2.343380176762334, 2.3435139846769717, 5.457813659830918, 4.693379111483255, 4.717084867182679, 4.72256621063264, 6.292089311904666, 11.919897555073446, 49.25571355027523, 10.326798468827967, 135.0180122563758, 5.530005667461445, 148.05332165687796, 5.553675056408232, 5.5663101505405805, 325.6107579603105, 16.163046784692234, 11.178838738188958, 122.0584812013224, 191.77201174432724, 3.9291893299878176, 3.9291963143694266, 3.929357101366471, 98.05063850530033, 20.980742012855607, 3.9533036848382848, 3.944254614721279, 14.484437286866994, 129.75414971543935, 58.83452673005577, 12.03822956485963, 13.650027688813182, 611.9998142434438, 120.73996745509798, 168.8901953739594, 30.0115300052422, 214.3186462784501, 310.39104405685794, 242.42891491004863, 101.89021944857467, 66.62754434413657, 73.12194713553534, 31.75588032996786, 71.31760258796638, 60.0139319353881, 57.9344543885868, 94.76230319979035, 87.96096671636168, 42.48031501090169, 158.40405544771033, 133.31977024625962, 205.635978806533, 85.52300587127455, 193.10527896808486, 122.40660085763784, 59.27059238201677, 87.56211200646699, 158.83866327939288, 153.71648963102865, 157.7766297087269], \"Category\": [\"Default\", \"Default\", \"Default\", \"Default\", \"Default\", \"Default\", \"Default\", \"Default\", \"Default\", \"Default\", \"Default\", \"Default\", \"Default\", \"Default\", \"Default\", \"Default\", \"Default\", \"Default\", \"Default\", \"Default\", \"Default\", \"Default\", \"Default\", \"Default\", \"Default\", \"Default\", \"Default\", \"Default\", \"Default\", \"Default\", \"Topic1\", \"Topic1\", \"Topic1\", \"Topic1\", \"Topic1\", \"Topic1\", \"Topic1\", \"Topic1\", \"Topic1\", \"Topic1\", \"Topic1\", \"Topic1\", \"Topic1\", \"Topic1\", \"Topic1\", \"Topic1\", \"Topic1\", \"Topic1\", \"Topic1\", \"Topic1\", \"Topic1\", \"Topic1\", \"Topic1\", \"Topic1\", \"Topic1\", \"Topic1\", \"Topic1\", \"Topic1\", \"Topic1\", \"Topic1\", \"Topic1\", \"Topic1\", \"Topic1\", \"Topic1\", \"Topic1\", \"Topic1\", \"Topic1\", \"Topic1\", \"Topic1\", \"Topic1\", \"Topic1\", \"Topic1\", \"Topic1\", \"Topic1\", \"Topic1\", \"Topic1\", \"Topic1\", \"Topic1\", \"Topic1\", \"Topic1\", \"Topic1\", \"Topic1\", \"Topic1\", \"Topic1\", \"Topic1\", \"Topic1\", \"Topic1\", \"Topic1\", \"Topic1\", \"Topic1\", \"Topic1\", \"Topic1\", \"Topic1\", \"Topic1\", \"Topic1\", \"Topic1\", \"Topic1\", \"Topic1\", \"Topic1\", \"Topic1\", \"Topic1\", \"Topic1\", \"Topic1\", \"Topic1\", \"Topic2\", \"Topic2\", \"Topic2\", \"Topic2\", \"Topic2\", \"Topic2\", \"Topic2\", \"Topic2\", \"Topic2\", \"Topic2\", \"Topic2\", \"Topic2\", \"Topic2\", \"Topic2\", \"Topic2\", \"Topic2\", \"Topic2\", \"Topic2\", \"Topic2\", \"Topic2\", \"Topic2\", \"Topic2\", \"Topic2\", \"Topic2\", \"Topic2\", \"Topic2\", \"Topic2\", \"Topic2\", \"Topic2\", \"Topic2\", \"Topic2\", \"Topic2\", \"Topic2\", \"Topic2\", \"Topic2\", \"Topic2\", \"Topic2\", \"Topic2\", \"Topic2\", \"Topic2\", \"Topic2\", \"Topic2\", \"Topic2\", \"Topic2\", \"Topic2\", \"Topic2\", \"Topic2\", \"Topic2\", \"Topic2\", \"Topic2\", \"Topic2\", \"Topic2\", \"Topic2\", \"Topic2\", \"Topic2\", \"Topic2\", \"Topic2\", \"Topic2\", \"Topic2\", \"Topic2\", \"Topic2\", \"Topic2\", \"Topic2\", \"Topic2\", \"Topic2\", \"Topic2\", \"Topic2\", \"Topic2\", \"Topic2\", \"Topic2\", \"Topic2\", \"Topic2\", \"Topic2\", \"Topic2\", \"Topic2\", \"Topic2\", \"Topic2\", \"Topic2\", \"Topic2\", \"Topic2\", \"Topic2\", \"Topic3\", \"Topic3\", \"Topic3\", \"Topic3\", \"Topic3\", \"Topic3\", \"Topic3\", \"Topic3\", \"Topic3\", \"Topic3\", \"Topic3\", \"Topic3\", \"Topic3\", \"Topic3\", \"Topic3\", \"Topic3\", \"Topic3\", \"Topic3\", \"Topic3\", \"Topic3\", \"Topic3\", \"Topic3\", \"Topic3\", \"Topic3\", \"Topic3\", \"Topic3\", \"Topic3\", \"Topic3\", \"Topic3\", \"Topic3\", \"Topic3\", \"Topic3\", \"Topic3\", \"Topic3\", \"Topic3\", \"Topic3\", \"Topic3\", \"Topic3\", \"Topic3\", \"Topic3\", \"Topic3\", \"Topic3\", \"Topic3\", \"Topic3\", \"Topic3\", \"Topic3\", \"Topic3\", \"Topic3\", \"Topic3\", \"Topic3\", \"Topic3\", \"Topic3\", \"Topic3\", \"Topic3\", \"Topic3\", \"Topic3\", \"Topic3\", \"Topic3\", \"Topic3\", \"Topic3\", \"Topic3\", \"Topic3\", \"Topic3\", \"Topic3\", \"Topic3\", \"Topic3\", \"Topic3\", \"Topic3\", \"Topic3\", \"Topic3\", \"Topic3\", \"Topic3\", \"Topic3\", \"Topic3\", \"Topic3\", \"Topic3\", \"Topic3\", \"Topic3\", \"Topic3\", \"Topic3\", \"Topic3\", \"Topic3\", \"Topic4\", \"Topic4\", \"Topic4\", \"Topic4\", \"Topic4\", \"Topic4\", \"Topic4\", \"Topic4\", \"Topic4\", \"Topic4\", \"Topic4\", \"Topic4\", \"Topic4\", \"Topic4\", \"Topic4\", \"Topic4\", \"Topic4\", \"Topic4\", \"Topic4\", \"Topic4\", \"Topic4\", \"Topic4\", \"Topic4\", \"Topic4\", \"Topic4\", \"Topic4\", \"Topic4\", \"Topic4\", \"Topic4\", \"Topic4\", \"Topic4\", \"Topic4\", \"Topic4\", \"Topic4\", \"Topic4\", \"Topic4\", \"Topic4\", \"Topic4\", \"Topic4\", \"Topic4\", \"Topic4\", \"Topic4\", \"Topic4\", \"Topic4\", \"Topic4\", \"Topic4\", \"Topic4\", \"Topic4\", \"Topic4\", \"Topic4\", \"Topic4\", \"Topic4\", \"Topic4\", \"Topic4\", \"Topic4\", \"Topic4\", \"Topic4\", \"Topic4\", \"Topic4\", \"Topic4\", \"Topic4\", \"Topic4\", \"Topic4\", \"Topic4\", \"Topic4\", \"Topic4\", \"Topic4\", \"Topic4\", \"Topic4\", \"Topic4\", \"Topic4\", \"Topic4\", \"Topic4\", \"Topic4\", \"Topic4\", \"Topic4\", \"Topic4\", \"Topic4\", \"Topic4\", \"Topic4\", \"Topic4\", \"Topic4\", \"Topic4\", \"Topic4\", \"Topic4\", \"Topic4\", \"Topic4\", \"Topic4\"], \"logprob\": [30.0, 29.0, 28.0, 27.0, 26.0, 25.0, 24.0, 23.0, 22.0, 21.0, 20.0, 19.0, 18.0, 17.0, 16.0, 15.0, 14.0, 13.0, 12.0, 11.0, 10.0, 9.0, 8.0, 7.0, 6.0, 5.0, 4.0, 3.0, 2.0, 1.0, -7.249, -7.385, -7.7363, -7.7364, -7.5602, -7.7416, -7.7624, -8.0029, -8.003, -8.0034, -8.0037, -8.0038, -8.0041, -8.0047, -8.0049, -7.2013, -8.007, -8.0074, -6.7543, -8.0122, -7.8196, -7.3512, -7.139, -7.5258, -8.0833, -8.37, -8.3703, -8.3705, -8.3705, -8.3707, -7.5232, -7.5375, -7.1116, -6.8332, -4.8488, -7.2351, -6.495, -5.0548, -4.7433, -3.6173, -4.427, -4.5308, -5.3311, -5.9303, -5.8604, -4.8665, -5.5161, -4.7051, -5.3171, -6.5497, -5.9987, -5.9916, -5.7929, -5.1484, -5.6709, -5.3899, -4.8685, -4.6112, -5.1009, -4.6152, -5.2584, -5.8908, -5.5914, -6.1009, -5.3776, -5.1969, -5.4334, -5.3084, -5.2361, -5.6904, -5.4497, -5.5469, -5.6366, -5.6898, -7.4953, -7.3568, -7.7052, -7.7105, -7.7215, -7.9613, -7.9615, -7.9618, -7.962, -7.9625, -7.9635, -7.9643, -7.9679, -7.9698, -7.9709, -7.9737, -7.9806, -7.5883, -8.0121, -7.4502, -7.4826, -6.7134, -8.3283, -8.3285, -8.3287, -8.3287, -8.3288, -8.3289, -8.329, -8.3292, -7.4813, -8.0393, -7.8306, -6.6754, -7.4078, -4.8546, -7.8448, -7.0408, -5.0083, -6.8232, -4.1223, -5.2334, -4.5814, -5.1543, -6.2771, -5.6952, -3.691, -6.6512, -4.2899, -6.9106, -6.1864, -4.8885, -4.7514, -7.2787, -6.1382, -5.0671, -5.9992, -6.154, -5.2333, -6.0587, -5.6355, -5.1707, -4.9163, -5.4958, -5.3243, -5.5628, -5.7767, -5.5575, -5.3804, -5.6803, -5.5174, -5.6516, -5.1783, -5.6145, -5.4434, -5.471, -5.374, -5.3911, -5.2132, -5.4138, -5.5967, -6.5536, -7.5928, -7.593, -7.5931, -7.5939, -7.6079, -7.8613, -7.8614, -7.8618, -7.8619, -7.8622, -7.8631, -7.8642, -7.8661, -7.8668, -7.8769, -7.8828, -8.2278, -8.2278, -8.2281, -8.2283, -8.2283, -8.2285, -8.2287, -8.2288, -8.2289, -8.2289, -8.2291, -8.2291, -8.2292, -7.3808, -6.6604, -7.2106, -7.0509, -7.2199, -7.5932, -7.5931, -7.5931, -7.0599, -5.9111, -7.0867, -6.2024, -6.9616, -6.6415, -4.7396, -6.7856, -5.5942, -5.8368, -5.7479, -4.6204, -6.8191, -5.7077, -5.9692, -5.441, -4.0593, -4.534, -5.0593, -4.8847, -4.9524, -5.3702, -5.512, -5.1708, -4.7367, -5.6825, -6.0065, -5.3695, -5.3117, -6.5338, -5.2498, -5.6314, -6.2108, -5.5868, -5.3834, -5.3109, -5.5119, -5.7178, -5.333, -5.3043, -5.5954, -5.6011, -5.6192, -5.6983, -7.0882, -7.5675, -7.5694, -7.5849, -7.9341, -7.9343, -7.9344, -7.9344, -7.9346, -7.9346, -7.935, -7.9351, -7.9352, -7.9353, -7.9353, -7.9353, -7.9354, -7.9354, -7.9357, -7.9357, -7.9358, -7.9358, -7.9358, -7.9359, -7.9359, -7.9362, -7.9362, -7.9362, -7.9363, -7.9364, -7.096, -7.3042, -7.3038, -7.3204, -7.0862, -6.5535, -5.4646, -6.768, -4.7949, -7.2987, -4.8776, -7.298, -7.3037, -4.3374, -6.5297, -6.7992, -5.0965, -4.7914, -7.5667, -7.5669, -7.5673, -5.308, -6.3954, -7.567, -7.569, -6.6589, -5.1261, -5.6857, -6.7939, -6.7077, -4.1395, -5.269, -5.0644, -6.1973, -4.9498, -4.7568, -4.9718, -5.4931, -5.7501, -5.7131, -6.2121, -5.7627, -5.8597, -5.8839, -5.6225, -5.6715, -6.0706, -5.4388, -5.548, -5.3638, -5.772, -5.4639, -5.6957, -5.9546, -5.8381, -5.707, -5.7453, -5.8098], \"loglift\": [30.0, 29.0, 28.0, 27.0, 26.0, 25.0, 24.0, 23.0, 22.0, 21.0, 20.0, 19.0, 18.0, 17.0, 16.0, 15.0, 14.0, 13.0, 12.0, 11.0, 10.0, 9.0, 8.0, 7.0, 6.0, 5.0, 4.0, 3.0, 2.0, 1.0, 1.0739, 1.0732, 1.0574, 1.0572, 1.0532, 1.0526, 1.0339, 1.0156, 1.0155, 1.0151, 1.0149, 1.0148, 1.0145, 1.014, 1.0137, 1.0127, 1.0119, 1.0113, 1.0067, 1.0066, 0.9811, 0.9734, 0.9718, 0.9442, 0.942, 0.9393, 0.9391, 0.9389, 0.9389, 0.9387, 0.9337, 0.923, 0.9043, 0.863, 0.7541, 0.8666, 0.7757, 0.4888, 0.4205, 0.1976, 0.3139, 0.3334, 0.4422, 0.5716, 0.549, 0.33, 0.4612, 0.2702, 0.3766, 0.683, 0.5021, 0.499, 0.4349, 0.1905, 0.3616, 0.2496, 0.037, -0.1174, 0.0696, -0.1693, 0.1076, 0.3907, 0.2329, 0.475, 0.0495, -0.0945, -0.0091, -0.142, -0.2677, 0.1604, -0.2157, -0.1089, -0.0218, -0.0095, 1.1246, 1.1084, 1.0975, 1.0936, 1.0827, 1.0658, 1.0657, 1.0653, 1.0651, 1.0646, 1.0637, 1.0629, 1.0593, 1.0574, 1.057, 1.0535, 1.047, 1.0329, 1.0182, 1.0172, 0.9955, 0.9945, 0.9887, 0.9884, 0.9883, 0.9882, 0.9882, 0.988, 0.9879, 0.9878, 0.9861, 0.9875, 0.9822, 0.9141, 0.9414, 0.7885, 0.9602, 0.888, 0.6065, 0.8155, 0.3715, 0.5214, 0.387, 0.4918, 0.7044, 0.5753, 0.1239, 0.7637, 0.156, 0.8025, 0.5848, 0.2139, 0.1542, 0.8543, 0.4888, 0.1033, 0.4253, 0.4844, 0.1056, 0.4371, 0.2548, 0.0634, -0.0521, 0.1845, 0.1, 0.1965, 0.2996, 0.1547, 0.0576, 0.2098, 0.0904, 0.1439, -0.203, 0.0791, -0.1172, -0.105, -0.2075, -0.1945, -0.4723, -0.25, -0.1696, 1.3081, 1.2241, 1.2238, 1.2238, 1.223, 1.2099, 1.1791, 1.179, 1.1786, 1.1785, 1.1783, 1.1773, 1.1761, 1.1743, 1.1735, 1.1644, 1.1574, 1.101, 1.101, 1.1006, 1.1005, 1.1005, 1.1003, 1.1001, 1.0999, 1.0999, 1.0999, 1.0997, 1.0997, 1.0996, 1.0951, 1.0018, 1.0128, 0.9957, 1.0053, 1.0383, 1.0366, 1.0365, 0.9597, 0.7748, 0.9356, 0.7798, 0.8988, 0.8449, 0.4268, 0.8663, 0.5594, 0.5819, 0.5506, 0.1206, 0.8386, 0.4646, 0.5299, 0.3419, -0.2444, -0.0881, 0.1112, 0.0208, 0.016, 0.1733, 0.2025, 0.0257, -0.2429, 0.2308, 0.4025, 0.0548, 0.0145, 0.6666, -0.0861, 0.1234, 0.4611, 0.021, -0.1493, -0.2085, -0.0739, 0.0777, -0.3576, -0.4401, -0.1682, -0.2351, -0.2803, 0.0139, 1.6105, 1.5308, 1.5287, 1.5122, 1.446, 1.4459, 1.4458, 1.4457, 1.4456, 1.4455, 1.4451, 1.445, 1.4449, 1.4448, 1.4448, 1.4448, 1.4447, 1.4447, 1.4444, 1.4443, 1.4443, 1.4443, 1.4442, 1.4441, 1.4441, 1.4438, 1.4438, 1.4438, 1.4437, 1.4436, 1.4385, 1.3813, 1.3767, 1.3589, 1.3062, 1.1999, 0.87, 1.1289, 0.5313, 1.2228, 0.3565, 1.2192, 1.2112, 0.1086, 0.9192, 1.0184, 0.3306, 0.184, 1.2965, 1.2963, 1.2958, 0.3382, 0.7927, 1.2901, 1.2904, 0.8996, 0.2399, 0.4712, 0.9497, 0.9102, -0.3246, 0.169, 0.038, 0.6327, -0.0856, -0.263, -0.2308, 0.1147, 0.2824, 0.2264, 0.5615, 0.2018, 0.2774, 0.2884, 0.0578, 0.0833, 0.412, -0.2723, -0.2091, -0.4582, 0.0109, -0.4955, -0.2714, 0.1949, -0.0788, -0.5432, -0.5488, -0.6394]}, \"token.table\": {\"Topic\": [1, 2, 3, 4, 3, 3, 2, 2, 3, 4, 3, 4, 3, 1, 2, 3, 3, 4, 3, 4, 3, 1, 4, 1, 2, 3, 4, 3, 4, 1, 2, 4, 1, 2, 3, 4, 3, 2, 1, 2, 3, 4, 1, 2, 3, 4, 4, 1, 3, 4, 1, 2, 1, 2, 3, 4, 2, 4, 4, 1, 2, 3, 1, 3, 1, 3, 1, 2, 3, 4, 1, 2, 3, 4, 1, 2, 3, 4, 3, 3, 1, 2, 3, 4, 1, 3, 4, 2, 4, 4, 1, 3, 1, 3, 4, 1, 1, 2, 3, 2, 4, 3, 4, 1, 2, 3, 4, 1, 3, 4, 1, 4, 4, 1, 2, 3, 4, 1, 2, 3, 4, 1, 2, 3, 4, 1, 2, 3, 1, 2, 3, 4, 1, 2, 3, 4, 1, 2, 3, 4, 1, 2, 3, 4, 1, 2, 3, 4, 1, 2, 3, 4, 1, 2, 3, 1, 1, 2, 3, 4, 1, 2, 3, 4, 1, 2, 3, 4, 1, 2, 3, 4, 1, 2, 3, 4, 1, 2, 3, 4, 2, 1, 2, 3, 4, 1, 2, 3, 4, 1, 2, 3, 4, 1, 4, 4, 2, 4, 2, 3, 4, 2, 3, 1, 2, 3, 1, 2, 2, 3, 1, 2, 3, 4, 1, 2, 4, 2, 3, 2, 3, 4, 1, 2, 3, 4, 4, 1, 3, 4, 3, 1, 1, 2, 3, 4, 3, 1, 2, 3, 4, 1, 2, 3, 4, 2, 1, 2, 3, 1, 4, 1, 3, 1, 2, 3, 4, 2, 2, 1, 2, 3, 4, 1, 2, 3, 4, 2, 3, 4, 1, 2, 3, 4, 1, 2, 3, 4, 4, 1, 2, 3, 4, 1, 2, 3, 4, 4, 3, 1, 2, 3, 4, 4, 1, 2, 3, 4, 2, 1, 2, 3, 4, 1, 2, 3, 4, 1, 4, 2, 1, 2, 3, 4, 4, 1, 1, 1, 1, 2, 3, 4, 1, 2, 3, 4, 3, 3, 3, 2, 4, 2, 3, 1, 2, 3, 4, 2, 1, 2, 3, 4, 1, 2, 3, 4, 1, 2, 3, 2, 2, 4, 1, 2, 3, 4, 1, 2, 3, 2, 1, 1, 4, 1, 2, 3, 4, 1, 2, 3, 4, 2, 3, 1, 2, 3, 4, 1, 2, 3, 4, 1, 2, 4, 1, 2, 3, 4, 1, 2, 4, 1, 2, 3, 4, 1, 2, 3, 4, 1, 2, 3, 4, 3, 3, 1, 2, 3, 1, 2, 3, 4, 1, 2, 3, 4, 3, 1, 2, 3, 4, 1, 2, 4, 2, 1, 1, 2, 3, 4, 4, 1, 2, 3, 4, 1, 2, 4, 1, 2, 3, 4, 1, 2, 3, 4, 2, 3, 1, 2, 3, 4, 4, 4, 1, 2, 3, 4, 1, 2, 3, 4, 1, 2, 3, 4, 1, 2, 3, 4, 1, 2, 3, 4, 1, 4, 4, 4, 4, 1, 2, 3, 4, 1, 2, 3, 4, 3, 1, 2, 3, 4, 1, 1, 2, 3, 4, 2, 3, 4, 1, 2, 3, 4, 3, 1, 3, 4, 1, 3, 4, 1, 1, 3, 1, 2, 1, 2, 3, 4, 2, 3, 2, 2, 3, 1, 2, 3, 4, 3, 3, 4, 4, 1, 2, 3, 4, 1, 2, 3, 4, 1, 2, 3, 4, 1, 1, 4, 1, 1, 4, 1, 2, 3, 4, 4, 1, 2, 3, 4, 1, 2, 3, 4, 1, 2, 3, 4, 2, 4, 1, 2, 3, 4, 1, 2, 3, 4, 1, 2, 3, 4, 1, 2, 3, 4, 2, 3], \"Freq\": [0.6348106773008276, 0.14649477168480637, 0.08789686301088383, 0.13672845357248595, 0.8108274430873207, 0.9115238688143477, 0.8012747544921603, 0.8012863702393501, 0.2545049725163666, 0.5090099450327332, 0.25450542491499145, 0.5090108498299829, 0.9115628589793965, 0.8896312841317231, 0.2689487156835146, 0.6723717892087865, 0.8108207586161428, 0.853514758368223, 0.6748340914299807, 0.2249446971433269, 0.8108332566308272, 0.8978897830057915, 0.8535029142284474, 0.07657819322288477, 0.07657819322288477, 0.6892037390059629, 0.15315638644576954, 0.9348266889813874, 0.8534745644649018, 0.8921346817887332, 0.8992244432517997, 0.853556634064087, 0.30835254405473783, 0.34261393783859756, 0.1827274335139187, 0.15988650432467888, 0.9115561020988897, 0.8012849595042708, 0.3063940354352449, 0.2264651566260506, 0.3197155152367773, 0.14653627781685627, 0.2954761445694995, 0.3376870223651423, 0.18994895008039253, 0.17939623063148186, 0.6431173141064139, 0.7952301276469049, 0.2130661035997087, 0.6391983107991261, 0.8918677023910937, 0.8012855056499283, 0.08306869333336728, 0.41534346666683636, 0.08306869333336728, 0.41534346666683636, 0.801270407394825, 0.8534949906531514, 0.8534677913654947, 0.678088293355015, 0.16952207333875374, 0.7289202731075848, 0.32843541761126915, 0.6568708352225383, 0.6805749470484106, 0.17014373676210265, 0.19040813795612677, 0.49506115868592965, 0.2665713931385775, 0.03808162759122535, 0.3063666210827427, 0.3258184700403772, 0.25287403644924794, 0.10698516926698952, 0.3248354119095001, 0.1827199191990938, 0.08120885297737503, 0.4060442648868751, 0.8108025486788403, 0.7289239235095619, 0.23540315078722246, 0.3060240960233892, 0.2118628357085002, 0.2589434658659447, 0.43430904942311555, 0.48256561047012836, 0.09651312209402567, 0.6925793940908482, 0.17314484852271206, 0.8534667023528473, 0.20149651347620118, 0.6044895404286036, 0.17278637122586601, 0.6911454849034641, 0.8535020732305625, 0.8918740475520647, 0.17939935053377082, 0.5979978351125694, 0.23919913404502777, 0.2535333282663003, 0.5070666565326006, 0.2544945583215739, 0.5089891166431478, 0.3169037143986757, 0.3105656401107022, 0.2788752686708346, 0.0887330400316292, 0.19367086576126324, 0.29050629864189487, 0.5810125972837897, 0.21199533783187133, 0.635986013495614, 0.8534680031147334, 0.20711885043128966, 0.27615846724171955, 0.13807923362085978, 0.41423770086257933, 0.8919862085492423, 0.20187283086155752, 0.6056184925846726, 0.8534192725441229, 0.2832713615674933, 0.32685157103941537, 0.2505862044635518, 0.13074062841576614, 0.713030086480494, 0.07922556516449933, 0.15845113032899866, 0.09337178523966631, 0.18674357047933263, 0.6536024966776642, 0.09337178523966631, 0.262424623089615, 0.3061620602712175, 0.37176821604362126, 0.06560615577240375, 0.11965848246008974, 0.28718035790421537, 0.43077053685632305, 0.16752187544412564, 0.2588317570791881, 0.22726690865489685, 0.385091150776353, 0.13257236338202316, 0.09178930537523718, 0.45894652687618587, 0.2039762341671937, 0.24477148100063245, 0.36003662406061393, 0.3150320460530372, 0.18751907503156975, 0.14251449702399302, 0.8453456833259843, 0.16906913666519685, 0.911557041874174, 0.7952051566560884, 0.0628329133713801, 0.5026633069710408, 0.15708228342845024, 0.2513316534855204, 0.333173784015225, 0.42202012641928505, 0.17769268480812, 0.06663475680304501, 0.3504041491609551, 0.3128608474651385, 0.2628031118707163, 0.07508660339163324, 0.23262394262214253, 0.5815598565553564, 0.07754131420738085, 0.11631197131107127, 0.3916466273353144, 0.01958233136676572, 0.43081129006884583, 0.15665865093412576, 0.26418288017672026, 0.40916129002979845, 0.19652628891195043, 0.13209144008836013, 0.9001957421360286, 0.7131049520415768, 0.1188508253402628, 0.1188508253402628, 0.8535096222257107, 0.2842052776308938, 0.31973093733475555, 0.27236339106293994, 0.11841886567953909, 0.31132617435508697, 0.2375910277973032, 0.21301264561137528, 0.2375910277973032, 0.8394961007492978, 0.11992801439275684, 0.8535644965137134, 0.7610795413538837, 0.15221590827077672, 0.35781891962850026, 0.17890945981425013, 0.4472736495356253, 0.7991978543864993, 0.19979946359662482, 0.10976845008496552, 0.21953690016993105, 0.6586107005097932, 0.9501220465080297, 0.8996145046378398, 0.899564679705175, 0.9115148116863551, 0.27236631409032397, 0.3493394028549807, 0.20131423215371771, 0.17763020484151562, 0.4949561865759538, 0.061869523321994226, 0.4330866632539596, 0.6998232681269863, 0.2999242577687084, 0.18083164107480038, 0.18083164107480038, 0.5424949232244012, 0.1999733187356638, 0.25181825322268775, 0.25181825322268775, 0.29625676849727967, 0.8636793831984896, 0.24738579985859566, 0.4329251497525424, 0.3092322498232446, 0.8108334584754078, 0.7952216274563972, 0.2839344608693099, 0.2620933484947476, 0.30577557324387217, 0.15288778662193608, 0.8108089306716335, 0.08016100915557672, 0.7214490824001905, 0.08016100915557672, 0.08016100915557672, 0.1991305312123059, 0.1991305312123059, 0.3982610624246118, 0.1991305312123059, 0.8012769691504726, 0.13422480883323823, 0.13422480883323823, 0.6711240441661912, 0.2529529931725714, 0.5059059863451428, 0.7426080303414977, 0.14852160606829953, 0.38496257923338184, 0.2735260431395081, 0.22287307218774738, 0.12156713028422583, 0.8995194217096429, 0.8995910141171876, 0.21602626133425917, 0.477531735580994, 0.20465645810614028, 0.10232822905307014, 0.29410178656842995, 0.3104407747111205, 0.26142381028304884, 0.13071190514152442, 0.3049213690582451, 0.6098427381164901, 0.15246068452912254, 0.4794259710043202, 0.14382779130129608, 0.33559817970302414, 0.04794259710043202, 0.48782804669535323, 0.1748817525889002, 0.29453768857077933, 0.04602151383918427, 0.8535539615245437, 0.3313959522242814, 0.2543271261256113, 0.20037894785654226, 0.2157927130762763, 0.2518344311277184, 0.32861322110568136, 0.22726521833477029, 0.19348255074446657, 0.8534736449598019, 0.7295953860447433, 0.4651464119155272, 0.129207336643202, 0.1808902713004828, 0.2067317386291232, 0.8535019451255675, 0.3040117654322634, 0.1753914031339981, 0.3507828062679962, 0.1753914031339981, 0.9024250630018229, 0.36658154682625244, 0.2832675589111951, 0.11663958308108033, 0.23327916616216066, 0.40984542485468684, 0.23419738563124962, 0.25371383443385376, 0.09758224401302068, 0.2117492810897063, 0.6352478432691189, 0.899576317990717, 0.2197797739603588, 0.07325992465345293, 0.29303969861381174, 0.4395595479207176, 0.8534608139091537, 0.9496688988734622, 0.8919025923154205, 0.8487336275344832, 0.4152695136211721, 0.2659591267012001, 0.15864228610247025, 0.15864228610247025, 0.15158482013012647, 0.15158482013012647, 0.6063392805205059, 0.07579241006506324, 0.8108129423362255, 0.7289302240557713, 0.8108539072294209, 0.6131323553862877, 0.2452529421545151, 0.959583071476339, 0.91155767253394, 0.27158808412528845, 0.1939914886609203, 0.5431761682505769, 0.038798297732184066, 0.8995324466967768, 0.25089621013489616, 0.37634431520234424, 0.25089621013489616, 0.10976709193401707, 0.4532901405330638, 0.22034937387023937, 0.2266450702665319, 0.10073114234068085, 0.14960007806557385, 0.6732003512950823, 0.22440011709836077, 0.8012874244659238, 0.9582482877163847, 0.8534514199258041, 0.13755393149825848, 0.4676833670940789, 0.27510786299651696, 0.11004314519860679, 0.8919338208448456, 0.8565537475696087, 0.17131074951392172, 0.8999856810548817, 0.9495929176409895, 0.35930444871200123, 0.5389566730680019, 0.4632288078687372, 0.28951800491796076, 0.1158072019671843, 0.13896864236062118, 0.19992316282948464, 0.2665642171059795, 0.23324368996773207, 0.33320527138247436, 0.8996049816595619, 0.8108711847611106, 0.37781483655087705, 0.24375150745217875, 0.2681266581973966, 0.12187575372608937, 0.4042422086340738, 0.17737158133944053, 0.28049459374609204, 0.13612237637677996, 0.1677866769206203, 0.25168001538093043, 0.5872533692221711, 0.32637722401570074, 0.46236773402224274, 0.16318861200785037, 0.05439620400261679, 0.18006094880292423, 0.18006094880292423, 0.5401828464087727, 0.5032303732348342, 0.17503665155994236, 0.17503665155994236, 0.13127748866995675, 0.22785498270750032, 0.41428178674090965, 0.2537475943788072, 0.10357044668522741, 0.4202466153544212, 0.24014092305966925, 0.1050616538386053, 0.2251321153684399, 0.9115009572427815, 0.7289231868816038, 0.7172931054675569, 0.6852841801148473, 0.17132104502871182, 0.2453621175349203, 0.30424902574330115, 0.2551766022363171, 0.19628969402793625, 0.3611112207169555, 0.3186275476914313, 0.19607849088703466, 0.12418304422845529, 0.911482670691644, 0.16268590944106848, 0.6202400297440737, 0.16268590944106848, 0.061007216040400686, 0.6212883670668221, 0.2588701529445092, 0.05177403058890184, 0.7197176297344144, 0.8918799004236674, 0.5279548661544138, 0.1919835876925141, 0.16798563923094986, 0.09599179384625706, 0.8535022520875072, 0.26037458364830957, 0.3645244171076334, 0.22131839610106313, 0.14320602100657026, 0.7952125683856855, 0.7259362824213661, 0.24197876080712202, 0.4427807249489413, 0.17326202280610745, 0.19251335867345273, 0.19251335867345273, 0.32293962501263396, 0.23795551316720398, 0.15297140132177398, 0.271949157905376, 0.8995296198622251, 0.8108163012383646, 0.39108939473394533, 0.22943911157724795, 0.17729385894605523, 0.20858101052477085, 0.8534732088180544, 0.8534436038899204, 0.1908105321632958, 0.4293236973674155, 0.16695921564288382, 0.1908105321632958, 0.1766522556288695, 0.24289685148969553, 0.4416306390721737, 0.1324891917216521, 0.16115404201446554, 0.6446161680578621, 0.08057702100723277, 0.16115404201446554, 0.2866426358489703, 0.513979898763671, 0.14826343233567432, 0.03953691528951315, 0.17309416068956993, 0.2019431874711649, 0.5481315088503048, 0.08654708034478496, 0.7978544456151205, 0.13297574093585343, 0.8534440750081271, 0.8535398232701368, 0.8535585281171649, 0.5980720519641393, 0.24919668831839137, 0.049839337663678276, 0.09967867532735655, 0.23837032349806525, 0.25239210723324557, 0.29445745843878646, 0.21032675602770462, 0.8108549662730041, 0.07120210012246134, 0.7120210012246134, 0.07120210012246134, 0.14240420024492267, 0.8920239145313733, 0.20329182343521612, 0.18635083814894812, 0.44046561744296825, 0.18635083814894812, 0.15892972118307264, 0.15892972118307264, 0.6357188847322905, 0.32821883087323633, 0.27351569239436363, 0.17778520005633636, 0.21881255391549087, 0.9115741708663437, 0.8919979961420282, 0.18322355110067642, 0.7328942044027057, 0.7635530468153685, 0.10907900668790979, 0.10907900668790979, 0.8918695141900722, 0.2014915600749723, 0.6044746802249169, 0.9520868063993633, 0.8994968837166546, 0.3123967296099168, 0.35144632081115645, 0.1692148952053716, 0.1561983648049584, 0.8012969043415226, 0.9113554368081105, 0.7981232418435039, 0.8547337122803043, 0.8108268533472152, 0.4983501547273897, 0.21357863774030986, 0.1186547987446166, 0.18984767799138655, 0.9123331745815411, 0.8108100145974396, 0.6439319614208184, 0.853484593685585, 0.46869429387288414, 0.19884000346122357, 0.1704342886810488, 0.15623143129096137, 0.22043161541310308, 0.3149023077330044, 0.1574511538665022, 0.3149023077330044, 0.2650323722498972, 0.29816141878113434, 0.23190332571866004, 0.20705654082023217, 0.8918630196952457, 0.687054178843674, 0.1717635447109185, 0.795254206009244, 0.7929397307673786, 0.8535557945959763, 0.2728482973293169, 0.2501109392185405, 0.2842169763847051, 0.18189886488621126, 0.8535182495618594, 0.42778343538795766, 0.29944840477157036, 0.2031971318092799, 0.06416751530819365, 0.45617708275359886, 0.20071791641158349, 0.21896499972172745, 0.10948249986086372, 0.23640131547412696, 0.2971902251674739, 0.21613834557634465, 0.24315563877338775, 0.8995022041758794, 0.6438265495811137, 0.28597653964400294, 0.04766275660733382, 0.28597653964400294, 0.3813020528586706, 0.38805078666597576, 0.2699483733328527, 0.15184595999972966, 0.20246127999963953, 0.172608857812425, 0.20713062937490997, 0.3970003729685775, 0.2243915151561525, 0.06423538759970349, 0.19270616279911046, 0.5781184883973314, 0.12847077519940697, 0.7203304714621349, 0.240110157154045], \"Term\": [\"...\", \"...\", \"...\", \"...\", \".Finger\", \"10/10\", \"110\", \"12345\", \"12gb\", \"12gb\", \"20-30\", \"20-30\", \"20K\", \"20k\", \"3.5mm\", \"3.5mm\", \"30K\", \"38K\", \"4/5\", \"4/5\", \"4500\", \"45mins\", \"48MP\", \"5/5\", \"5/5\", \"5/5\", \"5/5\", \"60hz\", \"877\", \"About\", \"Apple\", \"Application\", \"Battery\", \"Battery\", \"Battery\", \"Battery\", \"Bgmi\", \"Buds\", \"But\", \"But\", \"But\", \"But\", \"Camera\", \"Camera\", \"Camera\", \"Camera\", \"Care\", \"Chinese\", \"Dialer\", \"Dialer\", \"Disappointed\", \"EMI\", \"Fast\", \"Fast\", \"Fast\", \"Fast\", \"Guard\", \"HEATING\", \"ISSUES\", \"Indian\", \"Indian\", \"Lock\", \"Mobile\", \"Mobile\", \"ONEPLUS\", \"ONEPLUS\", \"One\", \"One\", \"One\", \"One\", \"OnePlus\", \"OnePlus\", \"OnePlus\", \"OnePlus\", \"Oneplus\", \"Oneplus\", \"Oneplus\", \"Oneplus\", \"Operating\", \"Option\", \"Phone\", \"Phone\", \"Phone\", \"Phone\", \"Pro\", \"Pro\", \"Pro\", \"Processor\", \"Processor\", \"RECEIVED\", \"Realme\", \"Realme\", \"Redmi\", \"Redmi\", \"Running\", \"Same\", \"Samsung\", \"Samsung\", \"Samsung\", \"Super\", \"Super\", \"THE\", \"THE\", \"The\", \"The\", \"The\", \"The\", \"Video\", \"Video\", \"Video\", \"Vivo\", \"Vivo\", \"Where\", \"Worst\", \"Worst\", \"Worst\", \"Worst\", \"additional\", \"advantage\", \"advantage\", \"agree\", \"also\", \"also\", \"also\", \"also\", \"another\", \"another\", \"another\", \"aspect\", \"aspect\", \"aspect\", \"aspect\", \"average\", \"average\", \"average\", \"average\", \"awesome\", \"awesome\", \"awesome\", \"awesome\", \"battery\", \"battery\", \"battery\", \"battery\", \"best\", \"best\", \"best\", \"best\", \"better\", \"better\", \"better\", \"better\", \"black\", \"black\", \"blur\", \"booking\", \"bought\", \"bought\", \"bought\", \"bought\", \"brand\", \"brand\", \"brand\", \"brand\", \"buy\", \"buy\", \"buy\", \"buy\", \"buying\", \"buying\", \"buying\", \"buying\", \"call\", \"call\", \"call\", \"call\", \"camera\", \"camera\", \"camera\", \"camera\", \"carrier\", \"center\", \"center\", \"center\", \"centre\", \"charge\", \"charge\", \"charge\", \"charge\", \"charging\", \"charging\", \"charging\", \"charging\", \"cheap\", \"cheap\", \"circle\", \"class\", \"class\", \"complaint\", \"complaint\", \"complaint\", \"concern\", \"concern\", \"considering\", \"considering\", \"considering\", \"continuous\", \"continuously\", \"customisable\", \"damn\", \"day\", \"day\", \"day\", \"day\", \"definitely\", \"definitely\", \"definitely\", \"delivery\", \"delivery\", \"depends\", \"depends\", \"depends\", \"device\", \"device\", \"device\", \"device\", \"dialer\", \"difference\", \"difference\", \"difference\", \"disadvantage\", \"disaster\", \"display\", \"display\", \"display\", \"display\", \"disply\", \"dont\", \"dont\", \"dont\", \"dont\", \"drain\", \"drain\", \"drain\", \"drain\", \"drive\", \"earphone\", \"earphone\", \"earphone\", \"editing\", \"editing\", \"entire\", \"entire\", \"even\", \"even\", \"even\", \"even\", \"everywhere\", \"expecting\", \"experience\", \"experience\", \"experience\", \"experience\", \"fast\", \"fast\", \"fast\", \"fast\", \"faster\", \"faster\", \"faster\", \"feature\", \"feature\", \"feature\", \"feature\", \"feel\", \"feel\", \"feel\", \"feel\", \"filter\", \"get\", \"get\", \"get\", \"get\", \"good\", \"good\", \"good\", \"good\", \"google\", \"goood\", \"got\", \"got\", \"got\", \"got\", \"grab\", \"great\", \"great\", \"great\", \"great\", \"hardly\", \"heat\", \"heat\", \"heat\", \"heat\", \"heating\", \"heating\", \"heating\", \"heating\", \"home\", \"home\", \"honestly\", \"hr\", \"hr\", \"hr\", \"hr\", \"human\", \"infact\", \"instagram\", \"internet\", \"issue\", \"issue\", \"issue\", \"issue\", \"jack\", \"jack\", \"jack\", \"jack\", \"jio\", \"juice\", \"keyboard\", \"kind\", \"kind\", \"lake\", \"lasted\", \"le\", \"le\", \"le\", \"le\", \"lesser\", \"life\", \"life\", \"life\", \"life\", \"like\", \"like\", \"like\", \"like\", \"love\", \"love\", \"love\", \"loving\", \"mainly\", \"maintained\", \"make\", \"make\", \"make\", \"make\", \"match\", \"meeting\", \"meeting\", \"memory\", \"menu\", \"message\", \"message\", \"mobile\", \"mobile\", \"mobile\", \"mobile\", \"mode\", \"mode\", \"mode\", \"mode\", \"morning\", \"msg\", \"much\", \"much\", \"much\", \"much\", \"n't\", \"n't\", \"n't\", \"n't\", \"negative\", \"negative\", \"negative\", \"never\", \"never\", \"never\", \"never\", \"nightscape\", \"nightscape\", \"nightscape\", \"normal\", \"normal\", \"normal\", \"normal\", \"one\", \"one\", \"one\", \"one\", \"oneplus\", \"oneplus\", \"oneplus\", \"oneplus\", \"ota\", \"packed\", \"paper\", \"pay\", \"pay\", \"performance\", \"performance\", \"performance\", \"performance\", \"phone\", \"phone\", \"phone\", \"phone\", \"plain\", \"plus\", \"plus\", \"plus\", \"plus\", \"poor\", \"poor\", \"poor\", \"port\", \"preference\", \"premium\", \"premium\", \"premium\", \"premium\", \"pri\", \"price\", \"price\", \"price\", \"price\", \"printer\", \"priority\", \"priority\", \"problem\", \"problem\", \"problem\", \"problem\", \"product\", \"product\", \"product\", \"product\", \"propaganda\", \"provider\", \"quality\", \"quality\", \"quality\", \"quality\", \"quality.Good\", \"raised\", \"range\", \"range\", \"range\", \"range\", \"rate\", \"rate\", \"rate\", \"rate\", \"rating\", \"rating\", \"rating\", \"rating\", \"really\", \"really\", \"really\", \"really\", \"refresh\", \"refresh\", \"refresh\", \"refresh\", \"regular\", \"regular\", \"rehashed\", \"remove\", \"reply\", \"return\", \"return\", \"return\", \"return\", \"review\", \"review\", \"review\", \"review\", \"rich\", \"said\", \"said\", \"said\", \"said\", \"saturated\", \"say\", \"say\", \"say\", \"say\", \"scratch\", \"scratch\", \"scratch\", \"screen\", \"screen\", \"screen\", \"screen\", \"screencard\", \"season\", \"segment\", \"segment\", \"set\", \"set\", \"set\", \"severe\", \"showing\", \"showing\", \"sleek\", \"slowly\", \"smooth\", \"smooth\", \"smooth\", \"smooth\", \"smoother\", \"spare\", \"stabilization\", \"struggle\", \"stuff\", \"take\", \"take\", \"take\", \"take\", \"temperture\", \"terrific\", \"thankyou\", \"thin\", \"thing\", \"thing\", \"thing\", \"thing\", \"think\", \"think\", \"think\", \"think\", \"time\", \"time\", \"time\", \"time\", \"tone\", \"unable\", \"unable\", \"unacceptable\", \"understand\", \"upcoming\", \"update\", \"update\", \"update\", \"update\", \"upset\", \"use\", \"use\", \"use\", \"use\", \"user\", \"user\", \"user\", \"user\", \"using\", \"using\", \"using\", \"using\", \"vibrating\", \"warms\", \"way\", \"way\", \"way\", \"way\", \"work\", \"work\", \"work\", \"work\", \"would\", \"would\", \"would\", \"would\", \"writing\", \"writing\", \"writing\", \"writing\", \"wrong\", \"wrong\"]}, \"R\": 30, \"lambda.step\": 0.01, \"plot.opts\": {\"xlab\": \"PC1\", \"ylab\": \"PC2\"}, \"topic.order\": [3, 4, 1, 2]};\n",
       "\n",
       "function LDAvis_load_lib(url, callback){\n",
       "  var s = document.createElement('script');\n",
       "  s.src = url;\n",
       "  s.async = true;\n",
       "  s.onreadystatechange = s.onload = callback;\n",
       "  s.onerror = function(){console.warn(\"failed to load library \" + url);};\n",
       "  document.getElementsByTagName(\"head\")[0].appendChild(s);\n",
       "}\n",
       "\n",
       "if(typeof(LDAvis) !== \"undefined\"){\n",
       "   // already loaded: just create the visualization\n",
       "   !function(LDAvis){\n",
       "       new LDAvis(\"#\" + \"ldavis_el658018420861279843655334059\", ldavis_el658018420861279843655334059_data);\n",
       "   }(LDAvis);\n",
       "}else if(typeof define === \"function\" && define.amd){\n",
       "   // require.js is available: use it to load d3/LDAvis\n",
       "   require.config({paths: {d3: \"https://d3js.org/d3.v5\"}});\n",
       "   require([\"d3\"], function(d3){\n",
       "      window.d3 = d3;\n",
       "      LDAvis_load_lib(\"https://cdn.jsdelivr.net/gh/bmabey/pyLDAvis@3.3.1/pyLDAvis/js/ldavis.v3.0.0.js\", function(){\n",
       "        new LDAvis(\"#\" + \"ldavis_el658018420861279843655334059\", ldavis_el658018420861279843655334059_data);\n",
       "      });\n",
       "    });\n",
       "}else{\n",
       "    // require.js not available: dynamically load d3 & LDAvis\n",
       "    LDAvis_load_lib(\"https://d3js.org/d3.v5.js\", function(){\n",
       "         LDAvis_load_lib(\"https://cdn.jsdelivr.net/gh/bmabey/pyLDAvis@3.3.1/pyLDAvis/js/ldavis.v3.0.0.js\", function(){\n",
       "                 new LDAvis(\"#\" + \"ldavis_el658018420861279843655334059\", ldavis_el658018420861279843655334059_data);\n",
       "            })\n",
       "         });\n",
       "}\n",
       "</script>"
      ],
      "text/plain": [
       "PreparedData(topic_coordinates=              x         y  topics  cluster       Freq\n",
       "topic                                                \n",
       "2     -0.026919  0.024077       1        1  29.658717\n",
       "3     -0.036248  0.029892       2        1  28.129440\n",
       "0     -0.008260 -0.070105       3        1  24.984818\n",
       "1      0.071428  0.016136       4        1  17.227025, topic_info=        Term        Freq       Total Category  logprob  loglift\n",
       "90       ...  102.000000  102.000000  Default  30.0000  30.0000\n",
       "310     plus   98.000000   98.000000  Default  29.0000  29.0000\n",
       "289   device  135.000000  135.000000  Default  28.0000  28.0000\n",
       "201     best   98.000000   98.000000  Default  27.0000  27.0000\n",
       "104  Oneplus   49.000000   49.000000  Default  26.0000  26.0000\n",
       "..       ...         ...         ...      ...      ...      ...\n",
       "158     work   12.408326   59.270592   Topic4  -5.9546   0.1949\n",
       "2    Battery   13.940977   87.562112   Topic4  -5.8381  -0.0788\n",
       "69      like   15.894688  158.838663   Topic4  -5.7070  -0.5432\n",
       "16   heating   15.297039  153.716490   Topic4  -5.7453  -0.5488\n",
       "40       The   14.340871  157.776630   Topic4  -5.8098  -0.6394\n",
       "\n",
       "[355 rows x 6 columns], token_table=      Topic      Freq     Term\n",
       "term                          \n",
       "90        1  0.634811      ...\n",
       "90        2  0.146495      ...\n",
       "90        3  0.087897      ...\n",
       "90        4  0.136728      ...\n",
       "5021      3  0.810827  .Finger\n",
       "...     ...       ...      ...\n",
       "229       2  0.192706  writing\n",
       "229       3  0.578118  writing\n",
       "229       4  0.128471  writing\n",
       "418       2  0.720330    wrong\n",
       "418       3  0.240110    wrong\n",
       "\n",
       "[588 rows x 3 columns], R=30, lambda_step=0.01, plot_opts={'xlab': 'PC1', 'ylab': 'PC2'}, topic_order=[3, 4, 1, 2])"
      ]
     },
     "execution_count": 34,
     "metadata": {},
     "output_type": "execute_result"
    }
   ],
   "source": [
    "plot_lda_vis(lda_model, bow_corpus, dic)"
   ]
  },
  {
   "cell_type": "code",
   "execution_count": 35,
   "id": "silver-camel",
   "metadata": {},
   "outputs": [
    {
     "name": "stderr",
     "output_type": "stream",
     "text": [
      "C:\\anaconda3\\lib\\site-packages\\ipykernel\\ipkernel.py:287: DeprecationWarning: `should_run_async` will not call `transform_cell` automatically in the future. Please pass the result to `transformed_cell` argument and any exception that happen during thetransform in `preprocessing_exc_tuple` in IPython 7.17 and above.\n",
      "  and should_run_async(code)\n"
     ]
    }
   ],
   "source": [
    "#Polarity Histogram using TextBlob\n",
    "\n",
    "from textblob import TextBlob\n",
    "    \n",
    "def plot_polarity_histogram(text):\n",
    "    \n",
    "    def _polarity(text):\n",
    "        return TextBlob(text).sentiment.polarity\n",
    "        \n",
    "    polarity_score =text.apply(lambda x : _polarity(x))\n",
    "    polarity_score.hist()"
   ]
  },
  {
   "cell_type": "code",
   "execution_count": 36,
   "id": "adopted-canada",
   "metadata": {},
   "outputs": [
    {
     "name": "stderr",
     "output_type": "stream",
     "text": [
      "C:\\anaconda3\\lib\\site-packages\\ipykernel\\ipkernel.py:287: DeprecationWarning: `should_run_async` will not call `transform_cell` automatically in the future. Please pass the result to `transformed_cell` argument and any exception that happen during thetransform in `preprocessing_exc_tuple` in IPython 7.17 and above.\n",
      "  and should_run_async(code)\n"
     ]
    },
    {
     "data": {
      "image/png": "[encoded data removed]",
      "text/plain": [
       "<Figure size 432x288 with 1 Axes>"
      ]
     },
     "metadata": {
      "needs_background": "light"
     },
     "output_type": "display_data"
    }
   ],
   "source": [
    "plot_polarity_histogram(df['text'])"
   ]
  },
  {
   "cell_type": "code",
   "execution_count": 37,
   "id": "fossil-botswana",
   "metadata": {},
   "outputs": [
    {
     "name": "stderr",
     "output_type": "stream",
     "text": [
      "C:\\anaconda3\\lib\\site-packages\\ipykernel\\ipkernel.py:287: DeprecationWarning: `should_run_async` will not call `transform_cell` automatically in the future. Please pass the result to `transformed_cell` argument and any exception that happen during thetransform in `preprocessing_exc_tuple` in IPython 7.17 and above.\n",
      "  and should_run_async(code)\n"
     ]
    }
   ],
   "source": [
    "# Sentiment Barchart\n",
    "\n",
    "from textblob import TextBlob\n",
    "import matplotlib.pyplot as plt\n",
    "from nltk.sentiment.vader import SentimentIntensityAnalyzer\n",
    "import nltk\n",
    "\n",
    "def sentiment_vader(text, sid):\n",
    "    ss = sid.polarity_scores(text)\n",
    "    ss.pop('compound')\n",
    "    return max(ss, key=ss.get)\n",
    "\n",
    "def sentiment_textblob(text):\n",
    "        x = TextBlob(text).sentiment.polarity\n",
    "        \n",
    "        if x<0:\n",
    "            return 'neg'\n",
    "        elif x==0:\n",
    "            return 'neu'\n",
    "        else:\n",
    "            return 'pos'\n",
    "\n",
    "def plot_sentiment_barchart(text, method='TextBlob'):\n",
    "    if method == 'TextBlob':\n",
    "        sentiment = text.map(lambda x: sentiment_textblob(x))\n",
    "    elif method == 'Vader':\n",
    "        nltk.download('vader_lexicon')\n",
    "        sid = SentimentIntensityAnalyzer()\n",
    "        sentiment = text.map(lambda x: sentiment_vader(x, sid=sid))\n",
    "    else:\n",
    "        raise ValueError('Textblob or Vader')\n",
    "    \n",
    "    plt.bar(sentiment.value_counts().index,\n",
    "            sentiment.value_counts())"
   ]
  },
  {
   "cell_type": "code",
   "execution_count": 38,
   "id": "fleet-history",
   "metadata": {},
   "outputs": [
    {
     "name": "stderr",
     "output_type": "stream",
     "text": [
      "C:\\anaconda3\\lib\\site-packages\\ipykernel\\ipkernel.py:287: DeprecationWarning: `should_run_async` will not call `transform_cell` automatically in the future. Please pass the result to `transformed_cell` argument and any exception that happen during thetransform in `preprocessing_exc_tuple` in IPython 7.17 and above.\n",
      "  and should_run_async(code)\n",
      "[nltk_data] Downloading package vader_lexicon to\n",
      "[nltk_data]     C:\\Users\\icon\\AppData\\Roaming\\nltk_data...\n",
      "[nltk_data]   Package vader_lexicon is already up-to-date!\n"
     ]
    },
    {
     "data": {
      "image/png": "[encoded data removed]",
      "text/plain": [
       "<Figure size 432x288 with 1 Axes>"
      ]
     },
     "metadata": {
      "needs_background": "light"
     },
     "output_type": "display_data"
    }
   ],
   "source": [
    "plot_sentiment_barchart(df['text'], method='Vader')"
   ]
  },
  {
   "cell_type": "code",
   "execution_count": 39,
   "id": "artificial-kansas",
   "metadata": {},
   "outputs": [
    {
     "name": "stderr",
     "output_type": "stream",
     "text": [
      "C:\\anaconda3\\lib\\site-packages\\ipykernel\\ipkernel.py:287: DeprecationWarning: `should_run_async` will not call `transform_cell` automatically in the future. Please pass the result to `transformed_cell` argument and any exception that happen during thetransform in `preprocessing_exc_tuple` in IPython 7.17 and above.\n",
      "  and should_run_async(code)\n"
     ]
    }
   ],
   "source": [
    "#Calculating Sentiment of Text\n",
    "import pandas as pd\n",
    "from nltk.sentiment.vader import SentimentIntensityAnalyzer"
   ]
  },
  {
   "cell_type": "code",
   "execution_count": 40,
   "id": "fitting-glance",
   "metadata": {},
   "outputs": [
    {
     "name": "stderr",
     "output_type": "stream",
     "text": [
      "C:\\anaconda3\\lib\\site-packages\\ipykernel\\ipkernel.py:287: DeprecationWarning: `should_run_async` will not call `transform_cell` automatically in the future. Please pass the result to `transformed_cell` argument and any exception that happen during thetransform in `preprocessing_exc_tuple` in IPython 7.17 and above.\n",
      "  and should_run_async(code)\n"
     ]
    }
   ],
   "source": [
    "sent = SentimentIntensityAnalyzer()"
   ]
  },
  {
   "cell_type": "code",
   "execution_count": 41,
   "id": "answering-milwaukee",
   "metadata": {},
   "outputs": [
    {
     "name": "stderr",
     "output_type": "stream",
     "text": [
      "C:\\anaconda3\\lib\\site-packages\\ipykernel\\ipkernel.py:287: DeprecationWarning: `should_run_async` will not call `transform_cell` automatically in the future. Please pass the result to `transformed_cell` argument and any exception that happen during thetransform in `preprocessing_exc_tuple` in IPython 7.17 and above.\n",
      "  and should_run_async(code)\n"
     ]
    }
   ],
   "source": [
    "polarity = [round(sent.polarity_scores(i)['compound'], 2) for i in df['text']]\n",
    "df['sentiment_score'] = polarity"
   ]
  },
  {
   "cell_type": "code",
   "execution_count": 42,
   "id": "junior-finding",
   "metadata": {
    "scrolled": true
   },
   "outputs": [
    {
     "name": "stderr",
     "output_type": "stream",
     "text": [
      "C:\\anaconda3\\lib\\site-packages\\ipykernel\\ipkernel.py:287: DeprecationWarning: `should_run_async` will not call `transform_cell` automatically in the future. Please pass the result to `transformed_cell` argument and any exception that happen during thetransform in `preprocessing_exc_tuple` in IPython 7.17 and above.\n",
      "  and should_run_async(code)\n"
     ]
    },
    {
     "data": {
      "text/html": [
       "<div>\n",
       "<style scoped>\n",
       "    .dataframe tbody tr th:only-of-type {\n",
       "        vertical-align: middle;\n",
       "    }\n",
       "\n",
       "    .dataframe tbody tr th {\n",
       "        vertical-align: top;\n",
       "    }\n",
       "\n",
       "    .dataframe thead th {\n",
       "        text-align: right;\n",
       "    }\n",
       "</style>\n",
       "<table border=\"1\" class=\"dataframe\">\n",
       "  <thead>\n",
       "    <tr style=\"text-align: right;\">\n",
       "      <th></th>\n",
       "      <th>id</th>\n",
       "      <th>profileName</th>\n",
       "      <th>text</th>\n",
       "      <th>date</th>\n",
       "      <th>title</th>\n",
       "      <th>rating</th>\n",
       "      <th>images</th>\n",
       "      <th>helpful</th>\n",
       "      <th>Style name</th>\n",
       "      <th>Colour</th>\n",
       "      <th>year</th>\n",
       "      <th>rating_class_num</th>\n",
       "      <th>sentiment_score</th>\n",
       "    </tr>\n",
       "  </thead>\n",
       "  <tbody>\n",
       "    <tr>\n",
       "      <th>0</th>\n",
       "      <td>R3A7LKHO3QIEI6</td>\n",
       "      <td>Vijay Gandhi</td>\n",
       "      <td>\\n  Battery Issue.... Phone is Heating during ...</td>\n",
       "      <td>Reviewed in India on 19 April 2021</td>\n",
       "      <td>OnePlus 9R - Not As per Expectations</td>\n",
       "      <td>1</td>\n",
       "      <td>NaN</td>\n",
       "      <td>2</td>\n",
       "      <td>12GB RAM, 256GB Storage</td>\n",
       "      <td>Lake Blue</td>\n",
       "      <td>2021</td>\n",
       "      <td>NaN</td>\n",
       "      <td>0.00</td>\n",
       "    </tr>\n",
       "    <tr>\n",
       "      <th>1</th>\n",
       "      <td>RTC2JFCZRT3ML</td>\n",
       "      <td>NeHaaL</td>\n",
       "      <td>\\n  Facing heating issue while using camera ap...</td>\n",
       "      <td>Reviewed in India on 19 April 2021</td>\n",
       "      <td>Heating issue</td>\n",
       "      <td>1</td>\n",
       "      <td>NaN</td>\n",
       "      <td>1</td>\n",
       "      <td>8GB RAM, 128GB Storage</td>\n",
       "      <td>Lake Blue</td>\n",
       "      <td>2021</td>\n",
       "      <td>NaN</td>\n",
       "      <td>0.40</td>\n",
       "    </tr>\n",
       "    <tr>\n",
       "      <th>2</th>\n",
       "      <td>RKFNBV8UHH917</td>\n",
       "      <td>Mohit MJ</td>\n",
       "      <td>\\n  My first time buying a OnePlus phone and I...</td>\n",
       "      <td>Reviewed in India on 19 April 2021</td>\n",
       "      <td>Amazing - True Flagship</td>\n",
       "      <td>5</td>\n",
       "      <td>NaN</td>\n",
       "      <td>916</td>\n",
       "      <td>8GB RAM, 128GB Storage</td>\n",
       "      <td>Lake Blue</td>\n",
       "      <td>2021</td>\n",
       "      <td>NaN</td>\n",
       "      <td>0.49</td>\n",
       "    </tr>\n",
       "    <tr>\n",
       "      <th>3</th>\n",
       "      <td>R2575KONXPQXVE</td>\n",
       "      <td>ASHANNITA</td>\n",
       "      <td>\\n  HiPlease consider this message with a seri...</td>\n",
       "      <td>Reviewed in India on 30 May 2021</td>\n",
       "      <td>Claim for Replacement of Oneplus 9R phone...</td>\n",
       "      <td>1</td>\n",
       "      <td>NaN</td>\n",
       "      <td>817</td>\n",
       "      <td>8GB RAM, 128GB Storage</td>\n",
       "      <td>Lake Blue</td>\n",
       "      <td>2021</td>\n",
       "      <td>NaN</td>\n",
       "      <td>0.98</td>\n",
       "    </tr>\n",
       "    <tr>\n",
       "      <th>4</th>\n",
       "      <td>RWXB385NSDLJL</td>\n",
       "      <td>AshokA</td>\n",
       "      <td>\\n  Within 10 minutes of usage. It’s felt like...</td>\n",
       "      <td>Reviewed in India on 19 April 2021</td>\n",
       "      <td>Over heat mobile</td>\n",
       "      <td>1</td>\n",
       "      <td>https://images-na.ssl-images-amazon.com/images...</td>\n",
       "      <td>462</td>\n",
       "      <td>8GB RAM, 128GB Storage</td>\n",
       "      <td>Lake Blue</td>\n",
       "      <td>2021</td>\n",
       "      <td>NaN</td>\n",
       "      <td>0.61</td>\n",
       "    </tr>\n",
       "  </tbody>\n",
       "</table>\n",
       "</div>"
      ],
      "text/plain": [
       "               id   profileName  \\\n",
       "0  R3A7LKHO3QIEI6  Vijay Gandhi   \n",
       "1   RTC2JFCZRT3ML        NeHaaL   \n",
       "2   RKFNBV8UHH917      Mohit MJ   \n",
       "3  R2575KONXPQXVE     ASHANNITA   \n",
       "4   RWXB385NSDLJL        AshokA   \n",
       "\n",
       "                                                text  \\\n",
       "0  \\n  Battery Issue.... Phone is Heating during ...   \n",
       "1  \\n  Facing heating issue while using camera ap...   \n",
       "2  \\n  My first time buying a OnePlus phone and I...   \n",
       "3  \\n  HiPlease consider this message with a seri...   \n",
       "4  \\n  Within 10 minutes of usage. It’s felt like...   \n",
       "\n",
       "                                 date  \\\n",
       "0  Reviewed in India on 19 April 2021   \n",
       "1  Reviewed in India on 19 April 2021   \n",
       "2  Reviewed in India on 19 April 2021   \n",
       "3    Reviewed in India on 30 May 2021   \n",
       "4  Reviewed in India on 19 April 2021   \n",
       "\n",
       "                                          title  rating  \\\n",
       "0          OnePlus 9R - Not As per Expectations       1   \n",
       "1                                 Heating issue       1   \n",
       "2                       Amazing - True Flagship       5   \n",
       "3  Claim for Replacement of Oneplus 9R phone...       1   \n",
       "4                              Over heat mobile       1   \n",
       "\n",
       "                                              images  helpful  \\\n",
       "0                                                NaN        2   \n",
       "1                                                NaN        1   \n",
       "2                                                NaN      916   \n",
       "3                                                NaN      817   \n",
       "4  https://images-na.ssl-images-amazon.com/images...      462   \n",
       "\n",
       "                Style name     Colour  year  rating_class_num  sentiment_score  \n",
       "0  12GB RAM, 256GB Storage  Lake Blue  2021               NaN             0.00  \n",
       "1   8GB RAM, 128GB Storage  Lake Blue  2021               NaN             0.40  \n",
       "2   8GB RAM, 128GB Storage  Lake Blue  2021               NaN             0.49  \n",
       "3   8GB RAM, 128GB Storage  Lake Blue  2021               NaN             0.98  \n",
       "4   8GB RAM, 128GB Storage  Lake Blue  2021               NaN             0.61  "
      ]
     },
     "execution_count": 42,
     "metadata": {},
     "output_type": "execute_result"
    }
   ],
   "source": [
    "import pandas as pd\n",
    "from nltk.sentiment.vader import SentimentIntensityAnalyzer\n",
    "sent = SentimentIntensityAnalyzer()\n",
    "#df = pd.read_csv('', usecols = ['text'])\n",
    "polarity = [round(sent.polarity_scores(i)['compound'], 2) for i in df['text']]\n",
    "df['sentiment_score'] = polarity\n",
    "df.head()"
   ]
  },
  {
   "cell_type": "code",
   "execution_count": 43,
   "id": "dependent-reggae",
   "metadata": {},
   "outputs": [
    {
     "name": "stderr",
     "output_type": "stream",
     "text": [
      "C:\\anaconda3\\lib\\site-packages\\ipykernel\\ipkernel.py:287: DeprecationWarning: `should_run_async` will not call `transform_cell` automatically in the future. Please pass the result to `transformed_cell` argument and any exception that happen during thetransform in `preprocessing_exc_tuple` in IPython 7.17 and above.\n",
      "  and should_run_async(code)\n"
     ]
    }
   ],
   "source": [
    "\n",
    "#Calculating Sentiment of Text\n",
    "#Using Positive and Negative Word Count – With Normalization for Calculating Sentiment Score\n",
    "import pandas as pd\n",
    "from nltk.corpus import stopwords\n",
    "from nltk.tokenize import word_tokenize\n",
    "from nltk.stem import WordNetLemmatizer\n",
    "import re"
   ]
  },
  {
   "cell_type": "code",
   "execution_count": 44,
   "id": "breathing-programming",
   "metadata": {},
   "outputs": [
    {
     "name": "stderr",
     "output_type": "stream",
     "text": [
      "C:\\anaconda3\\lib\\site-packages\\ipykernel\\ipkernel.py:287: DeprecationWarning: `should_run_async` will not call `transform_cell` automatically in the future. Please pass the result to `transformed_cell` argument and any exception that happen during thetransform in `preprocessing_exc_tuple` in IPython 7.17 and above.\n",
      "  and should_run_async(code)\n"
     ]
    }
   ],
   "source": [
    "lemma = WordNetLemmatizer()\n",
    "stop_words = stopwords.words('english')"
   ]
  },
  {
   "cell_type": "code",
   "execution_count": 45,
   "id": "mexican-equation",
   "metadata": {},
   "outputs": [
    {
     "name": "stderr",
     "output_type": "stream",
     "text": [
      "C:\\anaconda3\\lib\\site-packages\\ipykernel\\ipkernel.py:287: DeprecationWarning: `should_run_async` will not call `transform_cell` automatically in the future. Please pass the result to `transformed_cell` argument and any exception that happen during thetransform in `preprocessing_exc_tuple` in IPython 7.17 and above.\n",
      "  and should_run_async(code)\n"
     ]
    }
   ],
   "source": [
    "def text_prep(x):\n",
    "     corp = str(x).lower() \n",
    "     corp = re.sub('[^a-zA-Z]+',' ', corp).strip() \n",
    "     tokens = word_tokenize(corp)\n",
    "     words = [t for t in tokens if t not in stop_words]\n",
    "     lemmatize = [lemma.lemmatize(w) for w in words]\n",
    "    \n",
    "     return lemmatize"
   ]
  },
  {
   "cell_type": "code",
   "execution_count": 46,
   "id": "eligible-content",
   "metadata": {},
   "outputs": [
    {
     "name": "stderr",
     "output_type": "stream",
     "text": [
      "C:\\anaconda3\\lib\\site-packages\\ipykernel\\ipkernel.py:287: DeprecationWarning: `should_run_async` will not call `transform_cell` automatically in the future. Please pass the result to `transformed_cell` argument and any exception that happen during thetransform in `preprocessing_exc_tuple` in IPython 7.17 and above.\n",
      "  and should_run_async(code)\n"
     ]
    }
   ],
   "source": [
    "preprocess_tag = [text_prep(i) for i in df['text']]\n",
    "df[\"preprocess_txt\"] = preprocess_tag"
   ]
  },
  {
   "cell_type": "code",
   "execution_count": 47,
   "id": "several-broadcasting",
   "metadata": {},
   "outputs": [
    {
     "name": "stderr",
     "output_type": "stream",
     "text": [
      "C:\\anaconda3\\lib\\site-packages\\ipykernel\\ipkernel.py:287: DeprecationWarning: `should_run_async` will not call `transform_cell` automatically in the future. Please pass the result to `transformed_cell` argument and any exception that happen during thetransform in `preprocessing_exc_tuple` in IPython 7.17 and above.\n",
      "  and should_run_async(code)\n"
     ]
    }
   ],
   "source": [
    "df['total_len'] = df['preprocess_txt'].map(lambda x: len(x))"
   ]
  },
  {
   "cell_type": "code",
   "execution_count": 48,
   "id": "contemporary-japan",
   "metadata": {},
   "outputs": [
    {
     "name": "stderr",
     "output_type": "stream",
     "text": [
      "C:\\anaconda3\\lib\\site-packages\\ipykernel\\ipkernel.py:287: DeprecationWarning: `should_run_async` will not call `transform_cell` automatically in the future. Please pass the result to `transformed_cell` argument and any exception that happen during thetransform in `preprocessing_exc_tuple` in IPython 7.17 and above.\n",
      "  and should_run_async(code)\n"
     ]
    }
   ],
   "source": [
    "file = open('negative-words.txt', 'r')\n",
    "neg_words = file.read().split()\n",
    "file = open('positive-words.txt', 'r')\n",
    "pos_words = file.read().split()"
   ]
  },
  {
   "cell_type": "code",
   "execution_count": 49,
   "id": "pointed-edinburgh",
   "metadata": {},
   "outputs": [
    {
     "name": "stderr",
     "output_type": "stream",
     "text": [
      "C:\\anaconda3\\lib\\site-packages\\ipykernel\\ipkernel.py:287: DeprecationWarning: `should_run_async` will not call `transform_cell` automatically in the future. Please pass the result to `transformed_cell` argument and any exception that happen during thetransform in `preprocessing_exc_tuple` in IPython 7.17 and above.\n",
      "  and should_run_async(code)\n"
     ]
    }
   ],
   "source": [
    "num_pos = df['preprocess_txt'].map(lambda x: len([i for i in x if i in pos_words]))\n",
    "df['pos_count'] = num_pos\n",
    "num_neg = df['preprocess_txt'].map(lambda x: len([i for i in x if i in neg_words]))\n",
    "df['neg_count'] = num_neg"
   ]
  },
  {
   "cell_type": "code",
   "execution_count": 50,
   "id": "twelve-anderson",
   "metadata": {},
   "outputs": [
    {
     "name": "stderr",
     "output_type": "stream",
     "text": [
      "C:\\anaconda3\\lib\\site-packages\\ipykernel\\ipkernel.py:287: DeprecationWarning: `should_run_async` will not call `transform_cell` automatically in the future. Please pass the result to `transformed_cell` argument and any exception that happen during thetransform in `preprocessing_exc_tuple` in IPython 7.17 and above.\n",
      "  and should_run_async(code)\n"
     ]
    }
   ],
   "source": [
    "df['sentiment'] = round((df['pos_count'] - df['neg_count']) / df['total_len'], 2)"
   ]
  },
  {
   "cell_type": "code",
   "execution_count": 51,
   "id": "empirical-ethernet",
   "metadata": {},
   "outputs": [
    {
     "name": "stderr",
     "output_type": "stream",
     "text": [
      "C:\\anaconda3\\lib\\site-packages\\ipykernel\\ipkernel.py:287: DeprecationWarning: `should_run_async` will not call `transform_cell` automatically in the future. Please pass the result to `transformed_cell` argument and any exception that happen during thetransform in `preprocessing_exc_tuple` in IPython 7.17 and above.\n",
      "  and should_run_async(code)\n"
     ]
    },
    {
     "data": {
      "text/html": [
       "<div>\n",
       "<style scoped>\n",
       "    .dataframe tbody tr th:only-of-type {\n",
       "        vertical-align: middle;\n",
       "    }\n",
       "\n",
       "    .dataframe tbody tr th {\n",
       "        vertical-align: top;\n",
       "    }\n",
       "\n",
       "    .dataframe thead th {\n",
       "        text-align: right;\n",
       "    }\n",
       "</style>\n",
       "<table border=\"1\" class=\"dataframe\">\n",
       "  <thead>\n",
       "    <tr style=\"text-align: right;\">\n",
       "      <th></th>\n",
       "      <th>text</th>\n",
       "      <th>preprocess_txt</th>\n",
       "      <th>total_len</th>\n",
       "      <th>pos_count</th>\n",
       "      <th>neg_count</th>\n",
       "      <th>sentiment</th>\n",
       "    </tr>\n",
       "  </thead>\n",
       "  <tbody>\n",
       "    <tr>\n",
       "      <th>0</th>\n",
       "      <td>\\n  Battery Issue.... Phone is Heating during ...</td>\n",
       "      <td>[battery, issue, phone, heating, charging, run...</td>\n",
       "      <td>7</td>\n",
       "      <td>0</td>\n",
       "      <td>1</td>\n",
       "      <td>-0.14</td>\n",
       "    </tr>\n",
       "    <tr>\n",
       "      <th>1</th>\n",
       "      <td>\\n  Facing heating issue while using camera ap...</td>\n",
       "      <td>[facing, heating, issue, using, camera, app, g...</td>\n",
       "      <td>20</td>\n",
       "      <td>3</td>\n",
       "      <td>5</td>\n",
       "      <td>-0.10</td>\n",
       "    </tr>\n",
       "    <tr>\n",
       "      <th>2</th>\n",
       "      <td>\\n  My first time buying a OnePlus phone and I...</td>\n",
       "      <td>[first, time, buying, oneplus, phone, really, ...</td>\n",
       "      <td>76</td>\n",
       "      <td>10</td>\n",
       "      <td>6</td>\n",
       "      <td>0.05</td>\n",
       "    </tr>\n",
       "    <tr>\n",
       "      <th>3</th>\n",
       "      <td>\\n  HiPlease consider this message with a seri...</td>\n",
       "      <td>[hiplease, consider, message, serious, note, o...</td>\n",
       "      <td>111</td>\n",
       "      <td>7</td>\n",
       "      <td>4</td>\n",
       "      <td>0.03</td>\n",
       "    </tr>\n",
       "    <tr>\n",
       "      <th>4</th>\n",
       "      <td>\\n  Within 10 minutes of usage. It’s felt like...</td>\n",
       "      <td>[within, minute, usage, felt, like, heat, expe...</td>\n",
       "      <td>9</td>\n",
       "      <td>2</td>\n",
       "      <td>0</td>\n",
       "      <td>0.22</td>\n",
       "    </tr>\n",
       "    <tr>\n",
       "      <th>5</th>\n",
       "      <td>\\n  I don't why no reviewer is speaking about ...</td>\n",
       "      <td>[reviewer, speaking, heating, normal, usage]</td>\n",
       "      <td>5</td>\n",
       "      <td>0</td>\n",
       "      <td>0</td>\n",
       "      <td>0.00</td>\n",
       "    </tr>\n",
       "    <tr>\n",
       "      <th>6</th>\n",
       "      <td>\\n  Iam OnePlus user since 4 years, I exchange...</td>\n",
       "      <td>[iam, oneplus, user, since, year, exchange, on...</td>\n",
       "      <td>34</td>\n",
       "      <td>7</td>\n",
       "      <td>4</td>\n",
       "      <td>0.09</td>\n",
       "    </tr>\n",
       "    <tr>\n",
       "      <th>7</th>\n",
       "      <td>\\n  After 5 days of usage writing this review....</td>\n",
       "      <td>[day, usage, writing, review, best, camera, qu...</td>\n",
       "      <td>60</td>\n",
       "      <td>9</td>\n",
       "      <td>4</td>\n",
       "      <td>0.08</td>\n",
       "    </tr>\n",
       "    <tr>\n",
       "      <th>8</th>\n",
       "      <td>\\n  Writing after 4 Days of use1. Heating Issu...</td>\n",
       "      <td>[writing, day, use, heating, issue, start, not...</td>\n",
       "      <td>56</td>\n",
       "      <td>13</td>\n",
       "      <td>5</td>\n",
       "      <td>0.14</td>\n",
       "    </tr>\n",
       "    <tr>\n",
       "      <th>9</th>\n",
       "      <td>\\n  I am writing down this after using for a c...</td>\n",
       "      <td>[writing, using, couple, day, got, carbon, bla...</td>\n",
       "      <td>88</td>\n",
       "      <td>17</td>\n",
       "      <td>7</td>\n",
       "      <td>0.11</td>\n",
       "    </tr>\n",
       "    <tr>\n",
       "      <th>10</th>\n",
       "      <td>\\n  OnePlus 9r is best of both world that you ...</td>\n",
       "      <td>[oneplus, r, best, world, get, samsung, apple,...</td>\n",
       "      <td>34</td>\n",
       "      <td>1</td>\n",
       "      <td>5</td>\n",
       "      <td>-0.12</td>\n",
       "    </tr>\n",
       "    <tr>\n",
       "      <th>11</th>\n",
       "      <td>\\n  Worst phone by one plusHeating issues :yes...</td>\n",
       "      <td>[worst, phone, one, plusheating, issue, yesbat...</td>\n",
       "      <td>26</td>\n",
       "      <td>2</td>\n",
       "      <td>9</td>\n",
       "      <td>-0.27</td>\n",
       "    </tr>\n",
       "    <tr>\n",
       "      <th>12</th>\n",
       "      <td>\\n  I have recieved this new phone yesterday. ...</td>\n",
       "      <td>[recieved, new, phone, yesterday, since, start...</td>\n",
       "      <td>16</td>\n",
       "      <td>2</td>\n",
       "      <td>0</td>\n",
       "      <td>0.12</td>\n",
       "    </tr>\n",
       "    <tr>\n",
       "      <th>13</th>\n",
       "      <td>\\n  Disappointed. This was my first purchase o...</td>\n",
       "      <td>[disappointed, first, purchase, oneplus, phone...</td>\n",
       "      <td>57</td>\n",
       "      <td>10</td>\n",
       "      <td>7</td>\n",
       "      <td>0.05</td>\n",
       "    </tr>\n",
       "    <tr>\n",
       "      <th>14</th>\n",
       "      <td>\\n  First of all, it is hearing every time I u...</td>\n",
       "      <td>[first, hearing, every, time, use, camera, pla...</td>\n",
       "      <td>30</td>\n",
       "      <td>2</td>\n",
       "      <td>6</td>\n",
       "      <td>-0.13</td>\n",
       "    </tr>\n",
       "    <tr>\n",
       "      <th>15</th>\n",
       "      <td>\\n  An overall decent phone. The clean softwar...</td>\n",
       "      <td>[overall, decent, phone, clean, software, expe...</td>\n",
       "      <td>60</td>\n",
       "      <td>9</td>\n",
       "      <td>1</td>\n",
       "      <td>0.13</td>\n",
       "    </tr>\n",
       "    <tr>\n",
       "      <th>16</th>\n",
       "      <td>\\n  Review after 3 days usePros1) Build qualit...</td>\n",
       "      <td>[review, day, usepros, build, quality, awesome...</td>\n",
       "      <td>71</td>\n",
       "      <td>9</td>\n",
       "      <td>3</td>\n",
       "      <td>0.08</td>\n",
       "    </tr>\n",
       "    <tr>\n",
       "      <th>17</th>\n",
       "      <td>\\n  Battery issues\\n</td>\n",
       "      <td>[battery, issue]</td>\n",
       "      <td>2</td>\n",
       "      <td>0</td>\n",
       "      <td>1</td>\n",
       "      <td>-0.50</td>\n",
       "    </tr>\n",
       "    <tr>\n",
       "      <th>18</th>\n",
       "      <td>\\n  From One plus 3Then One Plus 6And Now One ...</td>\n",
       "      <td>[one, plus, one, plus, one, plus, r, always, l...</td>\n",
       "      <td>12</td>\n",
       "      <td>3</td>\n",
       "      <td>4</td>\n",
       "      <td>-0.08</td>\n",
       "    </tr>\n",
       "    <tr>\n",
       "      <th>19</th>\n",
       "      <td>\\n  As I'm a OnePlus user for more than 4 year...</td>\n",
       "      <td>[oneplus, user, year, purchased, oneplus, plus...</td>\n",
       "      <td>40</td>\n",
       "      <td>5</td>\n",
       "      <td>1</td>\n",
       "      <td>0.10</td>\n",
       "    </tr>\n",
       "  </tbody>\n",
       "</table>\n",
       "</div>"
      ],
      "text/plain": [
       "                                                 text  \\\n",
       "0   \\n  Battery Issue.... Phone is Heating during ...   \n",
       "1   \\n  Facing heating issue while using camera ap...   \n",
       "2   \\n  My first time buying a OnePlus phone and I...   \n",
       "3   \\n  HiPlease consider this message with a seri...   \n",
       "4   \\n  Within 10 minutes of usage. It’s felt like...   \n",
       "5   \\n  I don't why no reviewer is speaking about ...   \n",
       "6   \\n  Iam OnePlus user since 4 years, I exchange...   \n",
       "7   \\n  After 5 days of usage writing this review....   \n",
       "8   \\n  Writing after 4 Days of use1. Heating Issu...   \n",
       "9   \\n  I am writing down this after using for a c...   \n",
       "10  \\n  OnePlus 9r is best of both world that you ...   \n",
       "11  \\n  Worst phone by one plusHeating issues :yes...   \n",
       "12  \\n  I have recieved this new phone yesterday. ...   \n",
       "13  \\n  Disappointed. This was my first purchase o...   \n",
       "14  \\n  First of all, it is hearing every time I u...   \n",
       "15  \\n  An overall decent phone. The clean softwar...   \n",
       "16  \\n  Review after 3 days usePros1) Build qualit...   \n",
       "17                               \\n  Battery issues\\n   \n",
       "18  \\n  From One plus 3Then One Plus 6And Now One ...   \n",
       "19  \\n  As I'm a OnePlus user for more than 4 year...   \n",
       "\n",
       "                                       preprocess_txt  total_len  pos_count  \\\n",
       "0   [battery, issue, phone, heating, charging, run...          7          0   \n",
       "1   [facing, heating, issue, using, camera, app, g...         20          3   \n",
       "2   [first, time, buying, oneplus, phone, really, ...         76         10   \n",
       "3   [hiplease, consider, message, serious, note, o...        111          7   \n",
       "4   [within, minute, usage, felt, like, heat, expe...          9          2   \n",
       "5        [reviewer, speaking, heating, normal, usage]          5          0   \n",
       "6   [iam, oneplus, user, since, year, exchange, on...         34          7   \n",
       "7   [day, usage, writing, review, best, camera, qu...         60          9   \n",
       "8   [writing, day, use, heating, issue, start, not...         56         13   \n",
       "9   [writing, using, couple, day, got, carbon, bla...         88         17   \n",
       "10  [oneplus, r, best, world, get, samsung, apple,...         34          1   \n",
       "11  [worst, phone, one, plusheating, issue, yesbat...         26          2   \n",
       "12  [recieved, new, phone, yesterday, since, start...         16          2   \n",
       "13  [disappointed, first, purchase, oneplus, phone...         57         10   \n",
       "14  [first, hearing, every, time, use, camera, pla...         30          2   \n",
       "15  [overall, decent, phone, clean, software, expe...         60          9   \n",
       "16  [review, day, usepros, build, quality, awesome...         71          9   \n",
       "17                                   [battery, issue]          2          0   \n",
       "18  [one, plus, one, plus, one, plus, r, always, l...         12          3   \n",
       "19  [oneplus, user, year, purchased, oneplus, plus...         40          5   \n",
       "\n",
       "    neg_count  sentiment  \n",
       "0           1      -0.14  \n",
       "1           5      -0.10  \n",
       "2           6       0.05  \n",
       "3           4       0.03  \n",
       "4           0       0.22  \n",
       "5           0       0.00  \n",
       "6           4       0.09  \n",
       "7           4       0.08  \n",
       "8           5       0.14  \n",
       "9           7       0.11  \n",
       "10          5      -0.12  \n",
       "11          9      -0.27  \n",
       "12          0       0.12  \n",
       "13          7       0.05  \n",
       "14          6      -0.13  \n",
       "15          1       0.13  \n",
       "16          3       0.08  \n",
       "17          1      -0.50  \n",
       "18          4      -0.08  \n",
       "19          1       0.10  "
      ]
     },
     "execution_count": 51,
     "metadata": {},
     "output_type": "execute_result"
    }
   ],
   "source": [
    "import pandas as pd\n",
    "from nltk.corpus import stopwords\n",
    "from nltk.tokenize import word_tokenize\n",
    "from nltk.stem import WordNetLemmatizer\n",
    "import re\n",
    "df = pd.read_csv('reviews_500.csv', usecols=['text'])\n",
    "lemma = WordNetLemmatizer()\n",
    "stop_words = stopwords.words('english')\n",
    "def text_prep(x: str) -> list:\n",
    "     corp = str(x).lower() \n",
    "     corp = re.sub('[^a-zA-Z]+',' ', corp).strip() \n",
    "     tokens = word_tokenize(corp)\n",
    "     words = [t for t in tokens if t not in stop_words]\n",
    "     lemmatize = [lemma.lemmatize(w) for w in words]\n",
    "     return lemmatize\n",
    "preprocess_tag = [text_prep(i) for i in df['text']]\n",
    "df[\"preprocess_txt\"] = preprocess_tag\n",
    "df['total_len'] = df['preprocess_txt'].map(lambda x: len(x))\n",
    "file = open('negative-words.txt', 'r')\n",
    "neg_words = file.read().split()\n",
    "file = open('positive-words.txt', 'r')\n",
    "pos_words = file.read().split()\n",
    "num_pos = df['preprocess_txt'].map(lambda x: len([i for i in x if i in pos_words]))\n",
    "df['pos_count'] = num_pos\n",
    "num_neg = df['preprocess_txt'].map(lambda x: len([i for i in x if i in neg_words]))\n",
    "df['neg_count'] = num_neg\n",
    "df['sentiment'] = round((df['pos_count'] - df['neg_count']) / df['total_len'], 2)\n",
    "df.head(20)\n"
   ]
  },
  {
   "cell_type": "code",
   "execution_count": 52,
   "id": "broad-grant",
   "metadata": {},
   "outputs": [
    {
     "name": "stderr",
     "output_type": "stream",
     "text": [
      "C:\\anaconda3\\lib\\site-packages\\ipykernel\\ipkernel.py:287: DeprecationWarning: `should_run_async` will not call `transform_cell` automatically in the future. Please pass the result to `transformed_cell` argument and any exception that happen during thetransform in `preprocessing_exc_tuple` in IPython 7.17 and above.\n",
      "  and should_run_async(code)\n"
     ]
    },
    {
     "data": {
      "text/plain": [
       "500"
      ]
     },
     "execution_count": 52,
     "metadata": {},
     "output_type": "execute_result"
    }
   ],
   "source": [
    "#total negetive count\n",
    "df['neg_count'].count()"
   ]
  },
  {
   "cell_type": "code",
   "execution_count": 53,
   "id": "exclusive-techno",
   "metadata": {},
   "outputs": [
    {
     "name": "stderr",
     "output_type": "stream",
     "text": [
      "C:\\anaconda3\\lib\\site-packages\\ipykernel\\ipkernel.py:287: DeprecationWarning: `should_run_async` will not call `transform_cell` automatically in the future. Please pass the result to `transformed_cell` argument and any exception that happen during thetransform in `preprocessing_exc_tuple` in IPython 7.17 and above.\n",
      "  and should_run_async(code)\n"
     ]
    },
    {
     "data": {
      "text/plain": [
       "500"
      ]
     },
     "execution_count": 53,
     "metadata": {},
     "output_type": "execute_result"
    }
   ],
   "source": [
    "#total positive count\n",
    "df['pos_count'].count()"
   ]
  },
  {
   "cell_type": "code",
   "execution_count": null,
   "id": "backed-territory",
   "metadata": {},
   "outputs": [],
   "source": []
  },
  {
   "cell_type": "code",
   "execution_count": 54,
   "id": "published-lambda",
   "metadata": {},
   "outputs": [
    {
     "name": "stderr",
     "output_type": "stream",
     "text": [
      "C:\\anaconda3\\lib\\site-packages\\ipykernel\\ipkernel.py:287: DeprecationWarning: `should_run_async` will not call `transform_cell` automatically in the future. Please pass the result to `transformed_cell` argument and any exception that happen during thetransform in `preprocessing_exc_tuple` in IPython 7.17 and above.\n",
      "  and should_run_async(code)\n"
     ]
    }
   ],
   "source": [
    "#Using Positive and Negative Word Counts – With Semi Normalization to calculate Sentiment Score\n",
    "import pandas as pd\n",
    "from nltk.corpus import stopwords\n",
    "from nltk.tokenize import word_tokenize\n",
    "from nltk.stem import WordNetLemmatizer\n",
    "import re\n",
    "df = pd.read_csv('reviews_500.csv', usecols=['text'])\n",
    "lemma = WordNetLemmatizer()\n",
    "stop_words = stopwords.words('english')\n",
    "def text_prep(x: str) -> list:\n",
    "     corp = str(x).lower() \n",
    "     corp = re.sub('[^a-zA-Z]+',' ', corp).strip() \n",
    "     tokens = word_tokenize(corp)\n",
    "     words = [t for t in tokens if t not in stop_words]\n",
    "     lemmatize = [lemma.lemmatize(w) for w in words]\n",
    "     return lemmatize\n",
    "preprocess_tag = [text_prep(i) for i in df['text']]\n",
    "df[\"preprocess_txt\"] = preprocess_tag\n",
    "file = open('negative-words.txt', 'r')\n",
    "neg_words = file.read().split()\n",
    "file = open('positive-words.txt', 'r')\n",
    "pos_words = file.read().split()\n",
    "num_pos = df['preprocess_txt'].map(lambda x: len([i for i in x if i in pos_words]))\n",
    "df['pos_count'] = num_pos\n",
    "num_neg = df['preprocess_txt'].map(lambda x: len([i for i in x if i in neg_words]))\n",
    "df['neg_count'] = num_neg"
   ]
  },
  {
   "cell_type": "code",
   "execution_count": 55,
   "id": "meaningful-kernel",
   "metadata": {},
   "outputs": [
    {
     "name": "stderr",
     "output_type": "stream",
     "text": [
      "C:\\anaconda3\\lib\\site-packages\\ipykernel\\ipkernel.py:287: DeprecationWarning: `should_run_async` will not call `transform_cell` automatically in the future. Please pass the result to `transformed_cell` argument and any exception that happen during thetransform in `preprocessing_exc_tuple` in IPython 7.17 and above.\n",
      "  and should_run_async(code)\n"
     ]
    }
   ],
   "source": [
    "df['sentiment'] = round(df['pos_count'] / (df['neg_count']+1), 2)"
   ]
  },
  {
   "cell_type": "code",
   "execution_count": 56,
   "id": "major-weekly",
   "metadata": {},
   "outputs": [
    {
     "name": "stderr",
     "output_type": "stream",
     "text": [
      "C:\\anaconda3\\lib\\site-packages\\ipykernel\\ipkernel.py:287: DeprecationWarning: `should_run_async` will not call `transform_cell` automatically in the future. Please pass the result to `transformed_cell` argument and any exception that happen during thetransform in `preprocessing_exc_tuple` in IPython 7.17 and above.\n",
      "  and should_run_async(code)\n"
     ]
    },
    {
     "data": {
      "text/html": [
       "<div>\n",
       "<style scoped>\n",
       "    .dataframe tbody tr th:only-of-type {\n",
       "        vertical-align: middle;\n",
       "    }\n",
       "\n",
       "    .dataframe tbody tr th {\n",
       "        vertical-align: top;\n",
       "    }\n",
       "\n",
       "    .dataframe thead th {\n",
       "        text-align: right;\n",
       "    }\n",
       "</style>\n",
       "<table border=\"1\" class=\"dataframe\">\n",
       "  <thead>\n",
       "    <tr style=\"text-align: right;\">\n",
       "      <th></th>\n",
       "      <th>text</th>\n",
       "      <th>preprocess_txt</th>\n",
       "      <th>pos_count</th>\n",
       "      <th>neg_count</th>\n",
       "      <th>sentiment</th>\n",
       "    </tr>\n",
       "  </thead>\n",
       "  <tbody>\n",
       "    <tr>\n",
       "      <th>0</th>\n",
       "      <td>\\n  Battery Issue.... Phone is Heating during ...</td>\n",
       "      <td>[battery, issue, phone, heating, charging, run...</td>\n",
       "      <td>0</td>\n",
       "      <td>1</td>\n",
       "      <td>0.00</td>\n",
       "    </tr>\n",
       "    <tr>\n",
       "      <th>1</th>\n",
       "      <td>\\n  Facing heating issue while using camera ap...</td>\n",
       "      <td>[facing, heating, issue, using, camera, app, g...</td>\n",
       "      <td>3</td>\n",
       "      <td>5</td>\n",
       "      <td>0.50</td>\n",
       "    </tr>\n",
       "    <tr>\n",
       "      <th>2</th>\n",
       "      <td>\\n  My first time buying a OnePlus phone and I...</td>\n",
       "      <td>[first, time, buying, oneplus, phone, really, ...</td>\n",
       "      <td>10</td>\n",
       "      <td>6</td>\n",
       "      <td>1.43</td>\n",
       "    </tr>\n",
       "    <tr>\n",
       "      <th>3</th>\n",
       "      <td>\\n  HiPlease consider this message with a seri...</td>\n",
       "      <td>[hiplease, consider, message, serious, note, o...</td>\n",
       "      <td>7</td>\n",
       "      <td>4</td>\n",
       "      <td>1.40</td>\n",
       "    </tr>\n",
       "    <tr>\n",
       "      <th>4</th>\n",
       "      <td>\\n  Within 10 minutes of usage. It’s felt like...</td>\n",
       "      <td>[within, minute, usage, felt, like, heat, expe...</td>\n",
       "      <td>2</td>\n",
       "      <td>0</td>\n",
       "      <td>2.00</td>\n",
       "    </tr>\n",
       "    <tr>\n",
       "      <th>5</th>\n",
       "      <td>\\n  I don't why no reviewer is speaking about ...</td>\n",
       "      <td>[reviewer, speaking, heating, normal, usage]</td>\n",
       "      <td>0</td>\n",
       "      <td>0</td>\n",
       "      <td>0.00</td>\n",
       "    </tr>\n",
       "    <tr>\n",
       "      <th>6</th>\n",
       "      <td>\\n  Iam OnePlus user since 4 years, I exchange...</td>\n",
       "      <td>[iam, oneplus, user, since, year, exchange, on...</td>\n",
       "      <td>7</td>\n",
       "      <td>4</td>\n",
       "      <td>1.40</td>\n",
       "    </tr>\n",
       "    <tr>\n",
       "      <th>7</th>\n",
       "      <td>\\n  After 5 days of usage writing this review....</td>\n",
       "      <td>[day, usage, writing, review, best, camera, qu...</td>\n",
       "      <td>9</td>\n",
       "      <td>4</td>\n",
       "      <td>1.80</td>\n",
       "    </tr>\n",
       "    <tr>\n",
       "      <th>8</th>\n",
       "      <td>\\n  Writing after 4 Days of use1. Heating Issu...</td>\n",
       "      <td>[writing, day, use, heating, issue, start, not...</td>\n",
       "      <td>13</td>\n",
       "      <td>5</td>\n",
       "      <td>2.17</td>\n",
       "    </tr>\n",
       "    <tr>\n",
       "      <th>9</th>\n",
       "      <td>\\n  I am writing down this after using for a c...</td>\n",
       "      <td>[writing, using, couple, day, got, carbon, bla...</td>\n",
       "      <td>17</td>\n",
       "      <td>7</td>\n",
       "      <td>2.12</td>\n",
       "    </tr>\n",
       "    <tr>\n",
       "      <th>10</th>\n",
       "      <td>\\n  OnePlus 9r is best of both world that you ...</td>\n",
       "      <td>[oneplus, r, best, world, get, samsung, apple,...</td>\n",
       "      <td>1</td>\n",
       "      <td>5</td>\n",
       "      <td>0.17</td>\n",
       "    </tr>\n",
       "    <tr>\n",
       "      <th>11</th>\n",
       "      <td>\\n  Worst phone by one plusHeating issues :yes...</td>\n",
       "      <td>[worst, phone, one, plusheating, issue, yesbat...</td>\n",
       "      <td>2</td>\n",
       "      <td>9</td>\n",
       "      <td>0.20</td>\n",
       "    </tr>\n",
       "    <tr>\n",
       "      <th>12</th>\n",
       "      <td>\\n  I have recieved this new phone yesterday. ...</td>\n",
       "      <td>[recieved, new, phone, yesterday, since, start...</td>\n",
       "      <td>2</td>\n",
       "      <td>0</td>\n",
       "      <td>2.00</td>\n",
       "    </tr>\n",
       "    <tr>\n",
       "      <th>13</th>\n",
       "      <td>\\n  Disappointed. This was my first purchase o...</td>\n",
       "      <td>[disappointed, first, purchase, oneplus, phone...</td>\n",
       "      <td>10</td>\n",
       "      <td>7</td>\n",
       "      <td>1.25</td>\n",
       "    </tr>\n",
       "    <tr>\n",
       "      <th>14</th>\n",
       "      <td>\\n  First of all, it is hearing every time I u...</td>\n",
       "      <td>[first, hearing, every, time, use, camera, pla...</td>\n",
       "      <td>2</td>\n",
       "      <td>6</td>\n",
       "      <td>0.29</td>\n",
       "    </tr>\n",
       "    <tr>\n",
       "      <th>15</th>\n",
       "      <td>\\n  An overall decent phone. The clean softwar...</td>\n",
       "      <td>[overall, decent, phone, clean, software, expe...</td>\n",
       "      <td>9</td>\n",
       "      <td>1</td>\n",
       "      <td>4.50</td>\n",
       "    </tr>\n",
       "    <tr>\n",
       "      <th>16</th>\n",
       "      <td>\\n  Review after 3 days usePros1) Build qualit...</td>\n",
       "      <td>[review, day, usepros, build, quality, awesome...</td>\n",
       "      <td>9</td>\n",
       "      <td>3</td>\n",
       "      <td>2.25</td>\n",
       "    </tr>\n",
       "    <tr>\n",
       "      <th>17</th>\n",
       "      <td>\\n  Battery issues\\n</td>\n",
       "      <td>[battery, issue]</td>\n",
       "      <td>0</td>\n",
       "      <td>1</td>\n",
       "      <td>0.00</td>\n",
       "    </tr>\n",
       "    <tr>\n",
       "      <th>18</th>\n",
       "      <td>\\n  From One plus 3Then One Plus 6And Now One ...</td>\n",
       "      <td>[one, plus, one, plus, one, plus, r, always, l...</td>\n",
       "      <td>3</td>\n",
       "      <td>4</td>\n",
       "      <td>0.60</td>\n",
       "    </tr>\n",
       "    <tr>\n",
       "      <th>19</th>\n",
       "      <td>\\n  As I'm a OnePlus user for more than 4 year...</td>\n",
       "      <td>[oneplus, user, year, purchased, oneplus, plus...</td>\n",
       "      <td>5</td>\n",
       "      <td>1</td>\n",
       "      <td>2.50</td>\n",
       "    </tr>\n",
       "  </tbody>\n",
       "</table>\n",
       "</div>"
      ],
      "text/plain": [
       "                                                 text  \\\n",
       "0   \\n  Battery Issue.... Phone is Heating during ...   \n",
       "1   \\n  Facing heating issue while using camera ap...   \n",
       "2   \\n  My first time buying a OnePlus phone and I...   \n",
       "3   \\n  HiPlease consider this message with a seri...   \n",
       "4   \\n  Within 10 minutes of usage. It’s felt like...   \n",
       "5   \\n  I don't why no reviewer is speaking about ...   \n",
       "6   \\n  Iam OnePlus user since 4 years, I exchange...   \n",
       "7   \\n  After 5 days of usage writing this review....   \n",
       "8   \\n  Writing after 4 Days of use1. Heating Issu...   \n",
       "9   \\n  I am writing down this after using for a c...   \n",
       "10  \\n  OnePlus 9r is best of both world that you ...   \n",
       "11  \\n  Worst phone by one plusHeating issues :yes...   \n",
       "12  \\n  I have recieved this new phone yesterday. ...   \n",
       "13  \\n  Disappointed. This was my first purchase o...   \n",
       "14  \\n  First of all, it is hearing every time I u...   \n",
       "15  \\n  An overall decent phone. The clean softwar...   \n",
       "16  \\n  Review after 3 days usePros1) Build qualit...   \n",
       "17                               \\n  Battery issues\\n   \n",
       "18  \\n  From One plus 3Then One Plus 6And Now One ...   \n",
       "19  \\n  As I'm a OnePlus user for more than 4 year...   \n",
       "\n",
       "                                       preprocess_txt  pos_count  neg_count  \\\n",
       "0   [battery, issue, phone, heating, charging, run...          0          1   \n",
       "1   [facing, heating, issue, using, camera, app, g...          3          5   \n",
       "2   [first, time, buying, oneplus, phone, really, ...         10          6   \n",
       "3   [hiplease, consider, message, serious, note, o...          7          4   \n",
       "4   [within, minute, usage, felt, like, heat, expe...          2          0   \n",
       "5        [reviewer, speaking, heating, normal, usage]          0          0   \n",
       "6   [iam, oneplus, user, since, year, exchange, on...          7          4   \n",
       "7   [day, usage, writing, review, best, camera, qu...          9          4   \n",
       "8   [writing, day, use, heating, issue, start, not...         13          5   \n",
       "9   [writing, using, couple, day, got, carbon, bla...         17          7   \n",
       "10  [oneplus, r, best, world, get, samsung, apple,...          1          5   \n",
       "11  [worst, phone, one, plusheating, issue, yesbat...          2          9   \n",
       "12  [recieved, new, phone, yesterday, since, start...          2          0   \n",
       "13  [disappointed, first, purchase, oneplus, phone...         10          7   \n",
       "14  [first, hearing, every, time, use, camera, pla...          2          6   \n",
       "15  [overall, decent, phone, clean, software, expe...          9          1   \n",
       "16  [review, day, usepros, build, quality, awesome...          9          3   \n",
       "17                                   [battery, issue]          0          1   \n",
       "18  [one, plus, one, plus, one, plus, r, always, l...          3          4   \n",
       "19  [oneplus, user, year, purchased, oneplus, plus...          5          1   \n",
       "\n",
       "    sentiment  \n",
       "0        0.00  \n",
       "1        0.50  \n",
       "2        1.43  \n",
       "3        1.40  \n",
       "4        2.00  \n",
       "5        0.00  \n",
       "6        1.40  \n",
       "7        1.80  \n",
       "8        2.17  \n",
       "9        2.12  \n",
       "10       0.17  \n",
       "11       0.20  \n",
       "12       2.00  \n",
       "13       1.25  \n",
       "14       0.29  \n",
       "15       4.50  \n",
       "16       2.25  \n",
       "17       0.00  \n",
       "18       0.60  \n",
       "19       2.50  "
      ]
     },
     "execution_count": 56,
     "metadata": {},
     "output_type": "execute_result"
    }
   ],
   "source": [
    "import pandas as pd\n",
    "from nltk.corpus import stopwords\n",
    "from nltk.tokenize import word_tokenize\n",
    "from nltk.stem import WordNetLemmatizer\n",
    "import re\n",
    "df = pd.read_csv('reviews_500.csv', usecols=['text'])\n",
    "lemma = WordNetLemmatizer()\n",
    "stop_words = stopwords.words('english')\n",
    "def text_prep(x: str) -> list:\n",
    "     corp = str(x).lower() \n",
    "     corp = re.sub('[^a-zA-Z]+',' ', corp).strip() \n",
    "     tokens = word_tokenize(corp)\n",
    "     words = [t for t in tokens if t not in stop_words]\n",
    "     lemmatize = [lemma.lemmatize(w) for w in words]\n",
    "     return lemmatize\n",
    "preprocess_tag = [text_prep(i) for i in df['text']]\n",
    "df[\"preprocess_txt\"] = preprocess_tag\n",
    "file = open('negative-words.txt', 'r')\n",
    "neg_words = file.read().split()\n",
    "file = open('positive-words.txt', 'r')\n",
    "pos_words = file.read().split()\n",
    "num_pos = df['preprocess_txt'].map(lambda x: len([i for i in x if i in pos_words]))\n",
    "df['pos_count'] = num_pos\n",
    "num_neg = df['preprocess_txt'].map(lambda x: len([i for i in x if i in neg_words]))\n",
    "df['neg_count'] = num_neg\n",
    "df['sentiment'] = round(df['pos_count'] / (df['neg_count']+1), 2)\n",
    "df.head(20)"
   ]
  },
  {
   "cell_type": "code",
   "execution_count": 57,
   "id": "fourth-brook",
   "metadata": {},
   "outputs": [
    {
     "name": "stderr",
     "output_type": "stream",
     "text": [
      "C:\\anaconda3\\lib\\site-packages\\ipykernel\\ipkernel.py:287: DeprecationWarning: `should_run_async` will not call `transform_cell` automatically in the future. Please pass the result to `transformed_cell` argument and any exception that happen during thetransform in `preprocessing_exc_tuple` in IPython 7.17 and above.\n",
      "  and should_run_async(code)\n"
     ]
    },
    {
     "data": {
      "text/plain": [
       "500"
      ]
     },
     "execution_count": 57,
     "metadata": {},
     "output_type": "execute_result"
    }
   ],
   "source": [
    "#total negetive count\n",
    "df['neg_count'].count()"
   ]
  },
  {
   "cell_type": "code",
   "execution_count": 58,
   "id": "usual-repository",
   "metadata": {},
   "outputs": [
    {
     "name": "stderr",
     "output_type": "stream",
     "text": [
      "C:\\anaconda3\\lib\\site-packages\\ipykernel\\ipkernel.py:287: DeprecationWarning: `should_run_async` will not call `transform_cell` automatically in the future. Please pass the result to `transformed_cell` argument and any exception that happen during thetransform in `preprocessing_exc_tuple` in IPython 7.17 and above.\n",
      "  and should_run_async(code)\n"
     ]
    },
    {
     "data": {
      "text/plain": [
       "500"
      ]
     },
     "execution_count": 58,
     "metadata": {},
     "output_type": "execute_result"
    }
   ],
   "source": [
    "#total positive count\n",
    "df['pos_count'].count()"
   ]
  },
  {
   "cell_type": "code",
   "execution_count": null,
   "id": "first-spread",
   "metadata": {},
   "outputs": [],
   "source": []
  },
  {
   "cell_type": "code",
   "execution_count": 59,
   "id": "fresh-palestinian",
   "metadata": {},
   "outputs": [
    {
     "name": "stderr",
     "output_type": "stream",
     "text": [
      "C:\\anaconda3\\lib\\site-packages\\ipykernel\\ipkernel.py:287: DeprecationWarning: `should_run_async` will not call `transform_cell` automatically in the future. Please pass the result to `transformed_cell` argument and any exception that happen during thetransform in `preprocessing_exc_tuple` in IPython 7.17 and above.\n",
      "  and should_run_async(code)\n"
     ]
    }
   ],
   "source": [
    "#Using VADER SentimentIntensityAnalyser to calculate Sentiment Score\n",
    "import pandas as pd\n",
    "from nltk.sentiment.vader import SentimentIntensityAnalyzer"
   ]
  },
  {
   "cell_type": "code",
   "execution_count": 60,
   "id": "actual-belief",
   "metadata": {},
   "outputs": [
    {
     "name": "stderr",
     "output_type": "stream",
     "text": [
      "C:\\anaconda3\\lib\\site-packages\\ipykernel\\ipkernel.py:287: DeprecationWarning: `should_run_async` will not call `transform_cell` automatically in the future. Please pass the result to `transformed_cell` argument and any exception that happen during thetransform in `preprocessing_exc_tuple` in IPython 7.17 and above.\n",
      "  and should_run_async(code)\n"
     ]
    }
   ],
   "source": [
    "sent = SentimentIntensityAnalyzer()"
   ]
  },
  {
   "cell_type": "code",
   "execution_count": 61,
   "id": "charitable-denmark",
   "metadata": {},
   "outputs": [
    {
     "name": "stderr",
     "output_type": "stream",
     "text": [
      "C:\\anaconda3\\lib\\site-packages\\ipykernel\\ipkernel.py:287: DeprecationWarning: `should_run_async` will not call `transform_cell` automatically in the future. Please pass the result to `transformed_cell` argument and any exception that happen during thetransform in `preprocessing_exc_tuple` in IPython 7.17 and above.\n",
      "  and should_run_async(code)\n"
     ]
    }
   ],
   "source": [
    "df = pd.read_csv('reviews_500.csv', usecols=['text'])"
   ]
  },
  {
   "cell_type": "code",
   "execution_count": 62,
   "id": "ready-metropolitan",
   "metadata": {},
   "outputs": [
    {
     "name": "stderr",
     "output_type": "stream",
     "text": [
      "C:\\anaconda3\\lib\\site-packages\\ipykernel\\ipkernel.py:287: DeprecationWarning: `should_run_async` will not call `transform_cell` automatically in the future. Please pass the result to `transformed_cell` argument and any exception that happen during thetransform in `preprocessing_exc_tuple` in IPython 7.17 and above.\n",
      "  and should_run_async(code)\n"
     ]
    }
   ],
   "source": [
    "polarity = [round(sent.polarity_scores(i)['compound'], 2) for i in df['text']]\n",
    "df['sentiment_score'] = polarity"
   ]
  },
  {
   "cell_type": "code",
   "execution_count": 63,
   "id": "italic-coral",
   "metadata": {},
   "outputs": [
    {
     "name": "stderr",
     "output_type": "stream",
     "text": [
      "C:\\anaconda3\\lib\\site-packages\\ipykernel\\ipkernel.py:287: DeprecationWarning: `should_run_async` will not call `transform_cell` automatically in the future. Please pass the result to `transformed_cell` argument and any exception that happen during thetransform in `preprocessing_exc_tuple` in IPython 7.17 and above.\n",
      "  and should_run_async(code)\n"
     ]
    },
    {
     "data": {
      "text/html": [
       "<div>\n",
       "<style scoped>\n",
       "    .dataframe tbody tr th:only-of-type {\n",
       "        vertical-align: middle;\n",
       "    }\n",
       "\n",
       "    .dataframe tbody tr th {\n",
       "        vertical-align: top;\n",
       "    }\n",
       "\n",
       "    .dataframe thead th {\n",
       "        text-align: right;\n",
       "    }\n",
       "</style>\n",
       "<table border=\"1\" class=\"dataframe\">\n",
       "  <thead>\n",
       "    <tr style=\"text-align: right;\">\n",
       "      <th></th>\n",
       "      <th>text</th>\n",
       "      <th>sentiment_score</th>\n",
       "    </tr>\n",
       "  </thead>\n",
       "  <tbody>\n",
       "    <tr>\n",
       "      <th>0</th>\n",
       "      <td>\\n  Battery Issue.... Phone is Heating during ...</td>\n",
       "      <td>0.00</td>\n",
       "    </tr>\n",
       "    <tr>\n",
       "      <th>1</th>\n",
       "      <td>\\n  Facing heating issue while using camera ap...</td>\n",
       "      <td>0.40</td>\n",
       "    </tr>\n",
       "    <tr>\n",
       "      <th>2</th>\n",
       "      <td>\\n  My first time buying a OnePlus phone and I...</td>\n",
       "      <td>0.49</td>\n",
       "    </tr>\n",
       "    <tr>\n",
       "      <th>3</th>\n",
       "      <td>\\n  HiPlease consider this message with a seri...</td>\n",
       "      <td>0.98</td>\n",
       "    </tr>\n",
       "    <tr>\n",
       "      <th>4</th>\n",
       "      <td>\\n  Within 10 minutes of usage. It’s felt like...</td>\n",
       "      <td>0.61</td>\n",
       "    </tr>\n",
       "  </tbody>\n",
       "</table>\n",
       "</div>"
      ],
      "text/plain": [
       "                                                text  sentiment_score\n",
       "0  \\n  Battery Issue.... Phone is Heating during ...             0.00\n",
       "1  \\n  Facing heating issue while using camera ap...             0.40\n",
       "2  \\n  My first time buying a OnePlus phone and I...             0.49\n",
       "3  \\n  HiPlease consider this message with a seri...             0.98\n",
       "4  \\n  Within 10 minutes of usage. It’s felt like...             0.61"
      ]
     },
     "execution_count": 63,
     "metadata": {},
     "output_type": "execute_result"
    }
   ],
   "source": [
    "import pandas as pd\n",
    "from nltk.sentiment.vader import SentimentIntensityAnalyzer\n",
    "sent = SentimentIntensityAnalyzer()\n",
    "df = pd.read_csv('reviews_500.csv', usecols=['text'])\n",
    "polarity = [round(sent.polarity_scores(i)['compound'], 2) for i in df['text']]\n",
    "df['sentiment_score'] = polarity\n",
    "df.head()"
   ]
  },
  {
   "cell_type": "code",
   "execution_count": null,
   "id": "living-indie",
   "metadata": {},
   "outputs": [],
   "source": []
  },
  {
   "cell_type": "code",
   "execution_count": null,
   "id": "liked-failing",
   "metadata": {},
   "outputs": [],
   "source": []
  },
  {
   "cell_type": "code",
   "execution_count": null,
   "id": "amateur-commission",
   "metadata": {},
   "outputs": [],
   "source": []
  },
  {
   "cell_type": "code",
   "execution_count": null,
   "id": "entertaining-contemporary",
   "metadata": {},
   "outputs": [],
   "source": []
  },
  {
   "cell_type": "code",
   "execution_count": null,
   "id": "annual-headset",
   "metadata": {},
   "outputs": [],
   "source": []
  },
  {
   "cell_type": "code",
   "execution_count": 64,
   "id": "naked-carpet",
   "metadata": {},
   "outputs": [
    {
     "name": "stderr",
     "output_type": "stream",
     "text": [
      "C:\\anaconda3\\lib\\site-packages\\ipykernel\\ipkernel.py:287: DeprecationWarning: `should_run_async` will not call `transform_cell` automatically in the future. Please pass the result to `transformed_cell` argument and any exception that happen during thetransform in `preprocessing_exc_tuple` in IPython 7.17 and above.\n",
      "  and should_run_async(code)\n"
     ]
    },
    {
     "data": {
      "image/png": "[encoded data removed]",
      "text/plain": [
       "<Figure size 432x288 with 1 Axes>"
      ]
     },
     "metadata": {
      "needs_background": "light"
     },
     "output_type": "display_data"
    }
   ],
   "source": [
    "# all reivie joint into 1 sentence\n",
    "txt = ' '.join(review for review in df.text)\n",
    "\n",
    "wordcloud = WordCloud(\n",
    "            background_color = 'white',\n",
    "            max_font_size = 100,\n",
    "            max_words = 100,\n",
    "            width = 800,\n",
    "            height = 500\n",
    "            ).generate(txt)\n",
    "\n",
    "\n",
    "plt.imshow(wordcloud,interpolation = 'bilinear')\n",
    "plt.axis('off')\n",
    "plt.show()"
   ]
  },
  {
   "cell_type": "code",
   "execution_count": 65,
   "id": "color-marshall",
   "metadata": {},
   "outputs": [
    {
     "name": "stderr",
     "output_type": "stream",
     "text": [
      "C:\\anaconda3\\lib\\site-packages\\ipykernel\\ipkernel.py:287: DeprecationWarning: `should_run_async` will not call `transform_cell` automatically in the future. Please pass the result to `transformed_cell` argument and any exception that happen during thetransform in `preprocessing_exc_tuple` in IPython 7.17 and above.\n",
      "  and should_run_async(code)\n"
     ]
    }
   ],
   "source": [
    "#Data Preprocessing and Transformation"
   ]
  },
  {
   "cell_type": "code",
   "execution_count": 125,
   "id": "cloudy-patrol",
   "metadata": {},
   "outputs": [
    {
     "name": "stderr",
     "output_type": "stream",
     "text": [
      "C:\\anaconda3\\lib\\site-packages\\ipykernel\\ipkernel.py:287: DeprecationWarning: `should_run_async` will not call `transform_cell` automatically in the future. Please pass the result to `transformed_cell` argument and any exception that happen during thetransform in `preprocessing_exc_tuple` in IPython 7.17 and above.\n",
      "  and should_run_async(code)\n"
     ]
    }
   ],
   "source": [
    "df3 = pd.read_csv('reviews_500.csv')"
   ]
  },
  {
   "cell_type": "code",
   "execution_count": 126,
   "id": "joined-crystal",
   "metadata": {},
   "outputs": [
    {
     "name": "stderr",
     "output_type": "stream",
     "text": [
      "C:\\anaconda3\\lib\\site-packages\\ipykernel\\ipkernel.py:287: DeprecationWarning: `should_run_async` will not call `transform_cell` automatically in the future. Please pass the result to `transformed_cell` argument and any exception that happen during thetransform in `preprocessing_exc_tuple` in IPython 7.17 and above.\n",
      "  and should_run_async(code)\n"
     ]
    }
   ],
   "source": [
    "df2 = pd.DataFrame(df3,columns = ['rating','text'])\n",
    "df2.rename(columns = {'rating':'Rating','text':'Review'},inplace = True)"
   ]
  },
  {
   "cell_type": "code",
   "execution_count": 127,
   "id": "disciplinary-blast",
   "metadata": {},
   "outputs": [
    {
     "name": "stderr",
     "output_type": "stream",
     "text": [
      "C:\\anaconda3\\lib\\site-packages\\ipykernel\\ipkernel.py:287: DeprecationWarning: `should_run_async` will not call `transform_cell` automatically in the future. Please pass the result to `transformed_cell` argument and any exception that happen during thetransform in `preprocessing_exc_tuple` in IPython 7.17 and above.\n",
      "  and should_run_async(code)\n"
     ]
    }
   ],
   "source": [
    "def apply_sentiment(Rating):\n",
    "    if(Rating <=2 ):\n",
    "        return 0\n",
    "    else:\n",
    "        return 1"
   ]
  },
  {
   "cell_type": "code",
   "execution_count": 128,
   "id": "referenced-victim",
   "metadata": {},
   "outputs": [
    {
     "name": "stderr",
     "output_type": "stream",
     "text": [
      "C:\\anaconda3\\lib\\site-packages\\ipykernel\\ipkernel.py:287: DeprecationWarning: `should_run_async` will not call `transform_cell` automatically in the future. Please pass the result to `transformed_cell` argument and any exception that happen during thetransform in `preprocessing_exc_tuple` in IPython 7.17 and above.\n",
      "  and should_run_async(code)\n"
     ]
    }
   ],
   "source": [
    "df2['Sentiment'] = df2['Rating'].apply(apply_sentiment)\n",
    "df2.drop(['Rating'],axis = 1, inplace = True)"
   ]
  },
  {
   "cell_type": "code",
   "execution_count": 129,
   "id": "other-exception",
   "metadata": {},
   "outputs": [
    {
     "name": "stderr",
     "output_type": "stream",
     "text": [
      "C:\\anaconda3\\lib\\site-packages\\ipykernel\\ipkernel.py:287: DeprecationWarning: `should_run_async` will not call `transform_cell` automatically in the future. Please pass the result to `transformed_cell` argument and any exception that happen during thetransform in `preprocessing_exc_tuple` in IPython 7.17 and above.\n",
      "  and should_run_async(code)\n"
     ]
    },
    {
     "data": {
      "text/plain": [
       "1    349\n",
       "0    151\n",
       "Name: Sentiment, dtype: int64"
      ]
     },
     "execution_count": 129,
     "metadata": {},
     "output_type": "execute_result"
    }
   ],
   "source": [
    "sentiment = df2['Sentiment'].value_counts()\n",
    "sentiment"
   ]
  },
  {
   "cell_type": "code",
   "execution_count": 130,
   "id": "serious-fireplace",
   "metadata": {},
   "outputs": [
    {
     "name": "stderr",
     "output_type": "stream",
     "text": [
      "C:\\anaconda3\\lib\\site-packages\\ipykernel\\ipkernel.py:287: DeprecationWarning: `should_run_async` will not call `transform_cell` automatically in the future. Please pass the result to `transformed_cell` argument and any exception that happen during thetransform in `preprocessing_exc_tuple` in IPython 7.17 and above.\n",
      "  and should_run_async(code)\n"
     ]
    },
    {
     "data": {
      "image/png": "[encoded data removed]",
      "text/plain": [
       "<Figure size 720x576 with 1 Axes>"
      ]
     },
     "metadata": {
      "needs_background": "light"
     },
     "output_type": "display_data"
    }
   ],
   "source": [
    "plt.figure(figsize = ( 10,8))\n",
    "sns.countplot(data = df2, x = 'Sentiment')\n",
    "plt.show()"
   ]
  },
  {
   "cell_type": "code",
   "execution_count": 131,
   "id": "visible-charm",
   "metadata": {},
   "outputs": [
    {
     "name": "stderr",
     "output_type": "stream",
     "text": [
      "C:\\anaconda3\\lib\\site-packages\\ipykernel\\ipkernel.py:287: DeprecationWarning: `should_run_async` will not call `transform_cell` automatically in the future. Please pass the result to `transformed_cell` argument and any exception that happen during thetransform in `preprocessing_exc_tuple` in IPython 7.17 and above.\n",
      "  and should_run_async(code)\n",
      "<>:4: DeprecationWarning: invalid escape sequence \\[\n",
      "<>:5: DeprecationWarning: invalid escape sequence \\S\n",
      "<>:9: DeprecationWarning: invalid escape sequence \\w\n",
      "<>:4: DeprecationWarning: invalid escape sequence \\[\n",
      "<>:5: DeprecationWarning: invalid escape sequence \\S\n",
      "<>:9: DeprecationWarning: invalid escape sequence \\w\n",
      "<ipython-input-131-a830069e5956>:4: DeprecationWarning: invalid escape sequence \\[\n",
      "  Review = re.sub('\\[.*?\\]', '', Review)\n",
      "<ipython-input-131-a830069e5956>:5: DeprecationWarning: invalid escape sequence \\S\n",
      "  Review = re.sub('https?://\\S+|www\\.\\S+', '', Review) # Remove URls\n",
      "<ipython-input-131-a830069e5956>:9: DeprecationWarning: invalid escape sequence \\w\n",
      "  Review = re.sub('\\w*\\d\\w*', '', Review)\n"
     ]
    }
   ],
   "source": [
    "def clean_text(Review):\n",
    "   \n",
    "    Review = str(Review).lower() # convert to lowercase\n",
    "    Review = re.sub('\\[.*?\\]', '', Review) \n",
    "    Review = re.sub('https?://\\S+|www\\.\\S+', '', Review) # Remove URls\n",
    "    Review = re.sub('<.*?>+', '', Review)\n",
    "    Review = re.sub(r'[^a-z0-9\\s]', '', Review) # Remove punctuation\n",
    "    Review = re.sub('\\n', '', Review)\n",
    "    Review = re.sub('\\w*\\d\\w*', '', Review)\n",
    "    return Review"
   ]
  },
  {
   "cell_type": "code",
   "execution_count": 132,
   "id": "induced-gathering",
   "metadata": {},
   "outputs": [
    {
     "name": "stderr",
     "output_type": "stream",
     "text": [
      "C:\\anaconda3\\lib\\site-packages\\ipykernel\\ipkernel.py:287: DeprecationWarning: `should_run_async` will not call `transform_cell` automatically in the future. Please pass the result to `transformed_cell` argument and any exception that happen during thetransform in `preprocessing_exc_tuple` in IPython 7.17 and above.\n",
      "  and should_run_async(code)\n"
     ]
    },
    {
     "data": {
      "text/plain": [
       "0      \\n  Battery Issue.... Phone is Heating during ...\n",
       "1      \\n  Facing heating issue while using camera ap...\n",
       "2      \\n  My first time buying a OnePlus phone and I...\n",
       "3      \\n  HiPlease consider this message with a seri...\n",
       "4      \\n  Within 10 minutes of usage. It’s felt like...\n",
       "                             ...                        \n",
       "495    \\n  Amazon Has selling Duplicate And Damaged o...\n",
       "496    \\n  1st day review..The battery got charged in...\n",
       "497    \\n  Ear phones could have been provided by One...\n",
       "498    \\n  Face recognition sometimes works even when...\n",
       "499    \\n  It's a good choice for a casual mobile use...\n",
       "Name: Review, Length: 500, dtype: object"
      ]
     },
     "execution_count": 132,
     "metadata": {},
     "output_type": "execute_result"
    }
   ],
   "source": [
    "df2['Review']"
   ]
  },
  {
   "cell_type": "code",
   "execution_count": 133,
   "id": "micro-petersburg",
   "metadata": {},
   "outputs": [
    {
     "name": "stderr",
     "output_type": "stream",
     "text": [
      "C:\\anaconda3\\lib\\site-packages\\ipykernel\\ipkernel.py:287: DeprecationWarning: `should_run_async` will not call `transform_cell` automatically in the future. Please pass the result to `transformed_cell` argument and any exception that happen during thetransform in `preprocessing_exc_tuple` in IPython 7.17 and above.\n",
      "  and should_run_async(code)\n"
     ]
    }
   ],
   "source": [
    "df2['Review'] = df2['Review'].apply(clean_text)"
   ]
  },
  {
   "cell_type": "code",
   "execution_count": 134,
   "id": "simple-jenny",
   "metadata": {},
   "outputs": [
    {
     "name": "stderr",
     "output_type": "stream",
     "text": [
      "C:\\anaconda3\\lib\\site-packages\\ipykernel\\ipkernel.py:287: DeprecationWarning: `should_run_async` will not call `transform_cell` automatically in the future. Please pass the result to `transformed_cell` argument and any exception that happen during thetransform in `preprocessing_exc_tuple` in IPython 7.17 and above.\n",
      "  and should_run_async(code)\n"
     ]
    },
    {
     "data": {
      "text/html": [
       "<div>\n",
       "<style scoped>\n",
       "    .dataframe tbody tr th:only-of-type {\n",
       "        vertical-align: middle;\n",
       "    }\n",
       "\n",
       "    .dataframe tbody tr th {\n",
       "        vertical-align: top;\n",
       "    }\n",
       "\n",
       "    .dataframe thead th {\n",
       "        text-align: right;\n",
       "    }\n",
       "</style>\n",
       "<table border=\"1\" class=\"dataframe\">\n",
       "  <thead>\n",
       "    <tr style=\"text-align: right;\">\n",
       "      <th></th>\n",
       "      <th>Review</th>\n",
       "      <th>Sentiment</th>\n",
       "    </tr>\n",
       "  </thead>\n",
       "  <tbody>\n",
       "    <tr>\n",
       "      <th>0</th>\n",
       "      <td>battery issue phone is heating during chargi...</td>\n",
       "      <td>0</td>\n",
       "    </tr>\n",
       "    <tr>\n",
       "      <th>1</th>\n",
       "      <td>facing heating issue while using camera app ...</td>\n",
       "      <td>0</td>\n",
       "    </tr>\n",
       "    <tr>\n",
       "      <th>2</th>\n",
       "      <td>my first time buying a oneplus phone and i r...</td>\n",
       "      <td>1</td>\n",
       "    </tr>\n",
       "    <tr>\n",
       "      <th>3</th>\n",
       "      <td>hiplease consider this message with a seriou...</td>\n",
       "      <td>0</td>\n",
       "    </tr>\n",
       "    <tr>\n",
       "      <th>4</th>\n",
       "      <td>within  minutes of usage its felt like over ...</td>\n",
       "      <td>0</td>\n",
       "    </tr>\n",
       "    <tr>\n",
       "      <th>5</th>\n",
       "      <td>i dont why no reviewer is speaking about it ...</td>\n",
       "      <td>0</td>\n",
       "    </tr>\n",
       "    <tr>\n",
       "      <th>6</th>\n",
       "      <td>iam oneplus user since  years i exchange my ...</td>\n",
       "      <td>0</td>\n",
       "    </tr>\n",
       "    <tr>\n",
       "      <th>7</th>\n",
       "      <td>after  days of usage writing this  best came...</td>\n",
       "      <td>1</td>\n",
       "    </tr>\n",
       "    <tr>\n",
       "      <th>8</th>\n",
       "      <td>writing after  days of  heating issues you w...</td>\n",
       "      <td>1</td>\n",
       "    </tr>\n",
       "    <tr>\n",
       "      <th>9</th>\n",
       "      <td>i am writing down this after using for a cou...</td>\n",
       "      <td>1</td>\n",
       "    </tr>\n",
       "  </tbody>\n",
       "</table>\n",
       "</div>"
      ],
      "text/plain": [
       "                                              Review  Sentiment\n",
       "0    battery issue phone is heating during chargi...          0\n",
       "1    facing heating issue while using camera app ...          0\n",
       "2    my first time buying a oneplus phone and i r...          1\n",
       "3    hiplease consider this message with a seriou...          0\n",
       "4    within  minutes of usage its felt like over ...          0\n",
       "5    i dont why no reviewer is speaking about it ...          0\n",
       "6    iam oneplus user since  years i exchange my ...          0\n",
       "7    after  days of usage writing this  best came...          1\n",
       "8    writing after  days of  heating issues you w...          1\n",
       "9    i am writing down this after using for a cou...          1"
      ]
     },
     "execution_count": 134,
     "metadata": {},
     "output_type": "execute_result"
    }
   ],
   "source": [
    "df2.head(10)"
   ]
  },
  {
   "cell_type": "code",
   "execution_count": 135,
   "id": "handled-father",
   "metadata": {},
   "outputs": [
    {
     "name": "stderr",
     "output_type": "stream",
     "text": [
      "C:\\anaconda3\\lib\\site-packages\\ipykernel\\ipkernel.py:287: DeprecationWarning: `should_run_async` will not call `transform_cell` automatically in the future. Please pass the result to `transformed_cell` argument and any exception that happen during thetransform in `preprocessing_exc_tuple` in IPython 7.17 and above.\n",
      "  and should_run_async(code)\n"
     ]
    }
   ],
   "source": [
    "from nltk.corpus import stopwords\n",
    "stop_words = set(stopwords.words('english'))\n",
    "stopword = []\n",
    "sentence = df2['Review'][0]\n",
    "\n",
    "\n",
    "#words = nltk.word_tokenize(sentence)\n",
    "\n",
    "\n",
    "def remove_stopword(stop_words, sentence):\n",
    "    return [word for word in nltk.word_tokenize(sentence) if word not in stop_words]\n",
    "\n",
    "df2['reviews_text'] = df2['Review'].apply(lambda row: remove_stopword(stop_words, row))\n",
    "\n",
    "## need to convert list into string\n",
    "df2['reviews_text'] = df2['reviews_text'].apply(lambda row: ','.join(row))"
   ]
  },
  {
   "cell_type": "code",
   "execution_count": 136,
   "id": "dominican-estonia",
   "metadata": {},
   "outputs": [
    {
     "name": "stderr",
     "output_type": "stream",
     "text": [
      "C:\\anaconda3\\lib\\site-packages\\ipykernel\\ipkernel.py:287: DeprecationWarning: `should_run_async` will not call `transform_cell` automatically in the future. Please pass the result to `transformed_cell` argument and any exception that happen during thetransform in `preprocessing_exc_tuple` in IPython 7.17 and above.\n",
      "  and should_run_async(code)\n"
     ]
    },
    {
     "data": {
      "text/html": [
       "<div>\n",
       "<style scoped>\n",
       "    .dataframe tbody tr th:only-of-type {\n",
       "        vertical-align: middle;\n",
       "    }\n",
       "\n",
       "    .dataframe tbody tr th {\n",
       "        vertical-align: top;\n",
       "    }\n",
       "\n",
       "    .dataframe thead th {\n",
       "        text-align: right;\n",
       "    }\n",
       "</style>\n",
       "<table border=\"1\" class=\"dataframe\">\n",
       "  <thead>\n",
       "    <tr style=\"text-align: right;\">\n",
       "      <th></th>\n",
       "      <th>Review</th>\n",
       "      <th>Sentiment</th>\n",
       "      <th>reviews_text</th>\n",
       "    </tr>\n",
       "  </thead>\n",
       "  <tbody>\n",
       "    <tr>\n",
       "      <th>0</th>\n",
       "      <td>battery issue phone is heating during chargi...</td>\n",
       "      <td>0</td>\n",
       "      <td>battery,issue,phone,heating,charging,running,a...</td>\n",
       "    </tr>\n",
       "    <tr>\n",
       "      <th>1</th>\n",
       "      <td>facing heating issue while using camera app ...</td>\n",
       "      <td>0</td>\n",
       "      <td>facing,heating,issue,using,camera,app,general,...</td>\n",
       "    </tr>\n",
       "    <tr>\n",
       "      <th>2</th>\n",
       "      <td>my first time buying a oneplus phone and i r...</td>\n",
       "      <td>1</td>\n",
       "      <td>first,time,buying,oneplus,phone,really,like,fi...</td>\n",
       "    </tr>\n",
       "    <tr>\n",
       "      <th>3</th>\n",
       "      <td>hiplease consider this message with a seriou...</td>\n",
       "      <td>0</td>\n",
       "      <td>hiplease,consider,message,serious,note,one,plu...</td>\n",
       "    </tr>\n",
       "    <tr>\n",
       "      <th>4</th>\n",
       "      <td>within  minutes of usage its felt like over ...</td>\n",
       "      <td>0</td>\n",
       "      <td>within,minutes,usage,felt,like,heat,cant,exper...</td>\n",
       "    </tr>\n",
       "    <tr>\n",
       "      <th>5</th>\n",
       "      <td>i dont why no reviewer is speaking about it ...</td>\n",
       "      <td>0</td>\n",
       "      <td>dont,reviewer,speaking,heating,normal,usage</td>\n",
       "    </tr>\n",
       "    <tr>\n",
       "      <th>6</th>\n",
       "      <td>iam oneplus user since  years i exchange my ...</td>\n",
       "      <td>0</td>\n",
       "      <td>iam,oneplus,user,since,years,exchange,one,plus...</td>\n",
       "    </tr>\n",
       "    <tr>\n",
       "      <th>7</th>\n",
       "      <td>after  days of usage writing this  best came...</td>\n",
       "      <td>1</td>\n",
       "      <td>days,usage,writing,best,camera,quality,snapdra...</td>\n",
       "    </tr>\n",
       "    <tr>\n",
       "      <th>8</th>\n",
       "      <td>writing after  days of  heating issues you w...</td>\n",
       "      <td>1</td>\n",
       "      <td>writing,days,heating,issues,start,noticing,fir...</td>\n",
       "    </tr>\n",
       "    <tr>\n",
       "      <th>9</th>\n",
       "      <td>i am writing down this after using for a cou...</td>\n",
       "      <td>1</td>\n",
       "      <td>writing,using,couple,days,got,carbon,black,one...</td>\n",
       "    </tr>\n",
       "    <tr>\n",
       "      <th>10</th>\n",
       "      <td>oneplus  is best of both world that you get ...</td>\n",
       "      <td>0</td>\n",
       "      <td>oneplus,best,world,get,samsung,apple,would,rat...</td>\n",
       "    </tr>\n",
       "    <tr>\n",
       "      <th>11</th>\n",
       "      <td>worst phone by one plusheating issues yesbat...</td>\n",
       "      <td>0</td>\n",
       "      <td>worst,phone,one,plusheating,issues,yesbattery,...</td>\n",
       "    </tr>\n",
       "    <tr>\n",
       "      <th>12</th>\n",
       "      <td>i have recieved this new phone yesterday sin...</td>\n",
       "      <td>1</td>\n",
       "      <td>recieved,new,phone,yesterday,since,started,usi...</td>\n",
       "    </tr>\n",
       "    <tr>\n",
       "      <th>13</th>\n",
       "      <td>disappointed this was my first purchase of o...</td>\n",
       "      <td>0</td>\n",
       "      <td>disappointed,first,purchase,oneplus,phone,eage...</td>\n",
       "    </tr>\n",
       "    <tr>\n",
       "      <th>14</th>\n",
       "      <td>first of all it is hearing every time i use ...</td>\n",
       "      <td>0</td>\n",
       "      <td>first,hearing,every,time,use,camera,play,games...</td>\n",
       "    </tr>\n",
       "    <tr>\n",
       "      <th>15</th>\n",
       "      <td>an overall decent phone the clean software e...</td>\n",
       "      <td>1</td>\n",
       "      <td>overall,decent,phone,clean,software,experience...</td>\n",
       "    </tr>\n",
       "    <tr>\n",
       "      <th>16</th>\n",
       "      <td>review after  days  build quality is awesome...</td>\n",
       "      <td>1</td>\n",
       "      <td>review,days,build,quality,awesome,aluminum,fra...</td>\n",
       "    </tr>\n",
       "    <tr>\n",
       "      <th>17</th>\n",
       "      <td>battery issues</td>\n",
       "      <td>0</td>\n",
       "      <td>battery,issues</td>\n",
       "    </tr>\n",
       "    <tr>\n",
       "      <th>18</th>\n",
       "      <td>from one plus  one plus  now one plus  launc...</td>\n",
       "      <td>1</td>\n",
       "      <td>one,plus,one,plus,one,plus,launched,bookedno,i...</td>\n",
       "    </tr>\n",
       "    <tr>\n",
       "      <th>19</th>\n",
       "      <td>as im a oneplus user for more than  years no...</td>\n",
       "      <td>1</td>\n",
       "      <td>im,oneplus,user,years,purchased,oneplus,plus,p...</td>\n",
       "    </tr>\n",
       "    <tr>\n",
       "      <th>20</th>\n",
       "      <td>worrest decision taken by oneplus not provid...</td>\n",
       "      <td>0</td>\n",
       "      <td>worrest,decision,taken,oneplus,providing,netwo...</td>\n",
       "    </tr>\n",
       "    <tr>\n",
       "      <th>21</th>\n",
       "      <td>okay first of all i was using oneplus  befo...</td>\n",
       "      <td>1</td>\n",
       "      <td>okay,first,using,oneplus,planning,upgrade,eage...</td>\n",
       "    </tr>\n",
       "    <tr>\n",
       "      <th>22</th>\n",
       "      <td>review  phone has very good performance i or...</td>\n",
       "      <td>1</td>\n",
       "      <td>review,phone,good,performance,ordered,lake,blu...</td>\n",
       "    </tr>\n",
       "    <tr>\n",
       "      <th>23</th>\n",
       "      <td>i just switched from  when i brought the  wh...</td>\n",
       "      <td>0</td>\n",
       "      <td>switched,brought,zero,complaints,im,many,issue...</td>\n",
       "    </tr>\n",
       "    <tr>\n",
       "      <th>24</th>\n",
       "      <td>i got a defective phone it is struggling in ...</td>\n",
       "      <td>0</td>\n",
       "      <td>got,defective,phone,struggling,moderate,weak,n...</td>\n",
       "    </tr>\n",
       "    <tr>\n",
       "      <th>25</th>\n",
       "      <td>worst camera  even a  phone will beat this p...</td>\n",
       "      <td>0</td>\n",
       "      <td>worst,camera,even,phone,beat,phone,camera,segm...</td>\n",
       "    </tr>\n",
       "    <tr>\n",
       "      <th>26</th>\n",
       "      <td>got a defective product and amazon is not re...</td>\n",
       "      <td>0</td>\n",
       "      <td>got,defective,product,amazon,ready,exchange,sa...</td>\n",
       "    </tr>\n",
       "    <tr>\n",
       "      <th>27</th>\n",
       "      <td>ordered carbon black  variantrecieved a day ...</td>\n",
       "      <td>1</td>\n",
       "      <td>ordered,carbon,black,variantrecieved,day,early...</td>\n",
       "    </tr>\n",
       "    <tr>\n",
       "      <th>28</th>\n",
       "      <td>the only reason i went for oneplus  is that ...</td>\n",
       "      <td>1</td>\n",
       "      <td>reason,went,oneplus,using,oneplus,last,years,p...</td>\n",
       "    </tr>\n",
       "    <tr>\n",
       "      <th>29</th>\n",
       "      <td>oneplus did a blunder with this one battery ...</td>\n",
       "      <td>0</td>\n",
       "      <td>oneplus,blunder,one,battery,quality,bad,chargi...</td>\n",
       "    </tr>\n",
       "    <tr>\n",
       "      <th>30</th>\n",
       "      <td>the oneplus  is a fair proposition in terms ...</td>\n",
       "      <td>1</td>\n",
       "      <td>oneplus,fair,proposition,terms,phones,pricing,...</td>\n",
       "    </tr>\n",
       "    <tr>\n",
       "      <th>31</th>\n",
       "      <td>heats like hell initial set up heats up mobi...</td>\n",
       "      <td>0</td>\n",
       "      <td>heats,like,hell,initial,set,heats,mobile,hold,...</td>\n",
       "    </tr>\n",
       "    <tr>\n",
       "      <th>32</th>\n",
       "      <td>just recieved latest flagship phone but disa...</td>\n",
       "      <td>0</td>\n",
       "      <td>recieved,latest,flagship,phone,disappointed,qu...</td>\n",
       "    </tr>\n",
       "    <tr>\n",
       "      <th>33</th>\n",
       "      <td>i never expected that oneplus phones will be...</td>\n",
       "      <td>0</td>\n",
       "      <td>never,expected,oneplus,phones,heating,issue,de...</td>\n",
       "    </tr>\n",
       "    <tr>\n",
       "      <th>34</th>\n",
       "      <td>well to start withi got this phone delivered...</td>\n",
       "      <td>0</td>\n",
       "      <td>well,start,withi,got,phone,delivered,todayno,i...</td>\n",
       "    </tr>\n",
       "    <tr>\n",
       "      <th>35</th>\n",
       "      <td>i have an oneplus  and an one plus  and this...</td>\n",
       "      <td>1</td>\n",
       "      <td>oneplus,one,plus,third,purchase,oneplus,phone,...</td>\n",
       "    </tr>\n",
       "    <tr>\n",
       "      <th>36</th>\n",
       "      <td>extremely worst battery battery drain s very...</td>\n",
       "      <td>0</td>\n",
       "      <td>extremely,worst,battery,battery,drain,quickly,...</td>\n",
       "    </tr>\n",
       "    <tr>\n",
       "      <th>37</th>\n",
       "      <td>after getting to know that oneplus is not pr...</td>\n",
       "      <td>0</td>\n",
       "      <td>getting,know,oneplus,providing,additional,band...</td>\n",
       "    </tr>\n",
       "    <tr>\n",
       "      <th>38</th>\n",
       "      <td>review after  days of extensive usage  i wou...</td>\n",
       "      <td>1</td>\n",
       "      <td>review,days,extensive,usage,would,say,performa...</td>\n",
       "    </tr>\n",
       "    <tr>\n",
       "      <th>39</th>\n",
       "      <td>none of the features are good and looks real...</td>\n",
       "      <td>0</td>\n",
       "      <td>none,features,good,looks,really,cheap,youre,on...</td>\n",
       "    </tr>\n",
       "    <tr>\n",
       "      <th>40</th>\n",
       "      <td>phone was getting heat when charging and con...</td>\n",
       "      <td>0</td>\n",
       "      <td>phone,getting,heat,charging,continuse,use,appl...</td>\n",
       "    </tr>\n",
       "    <tr>\n",
       "      <th>41</th>\n",
       "      <td>camera quality is very poor poorer than   se...</td>\n",
       "      <td>0</td>\n",
       "      <td>camera,quality,poor,poorer,seems,need,software...</td>\n",
       "    </tr>\n",
       "    <tr>\n",
       "      <th>42</th>\n",
       "      <td>i have been using realme  pro for the past  ...</td>\n",
       "      <td>1</td>\n",
       "      <td>using,realme,pro,past,half,years,felt,like,nee...</td>\n",
       "    </tr>\n",
       "    <tr>\n",
       "      <th>43</th>\n",
       "      <td>heres my final review after more than one mo...</td>\n",
       "      <td>1</td>\n",
       "      <td>heres,final,review,one,month,continuos,usage,p...</td>\n",
       "    </tr>\n",
       "    <tr>\n",
       "      <th>44</th>\n",
       "      <td>this is the best smartphone you can purchase...</td>\n",
       "      <td>1</td>\n",
       "      <td>best,smartphone,purchase,researched,alot,found...</td>\n",
       "    </tr>\n",
       "    <tr>\n",
       "      <th>45</th>\n",
       "      <td>you may get phones with better on paper spec...</td>\n",
       "      <td>1</td>\n",
       "      <td>may,get,phones,better,paper,specs,price,none,q...</td>\n",
       "    </tr>\n",
       "    <tr>\n",
       "      <th>46</th>\n",
       "      <td>extremely slow and disappointing product i h...</td>\n",
       "      <td>0</td>\n",
       "      <td>extremely,slow,disappointing,product,using,one...</td>\n",
       "    </tr>\n",
       "    <tr>\n",
       "      <th>47</th>\n",
       "      <td>i felt like this oneplus  is best in oneplus...</td>\n",
       "      <td>1</td>\n",
       "      <td>felt,like,oneplus,best,oneplus,series,worth,wa...</td>\n",
       "    </tr>\n",
       "    <tr>\n",
       "      <th>48</th>\n",
       "      <td>it has been more than  months since i am usi...</td>\n",
       "      <td>1</td>\n",
       "      <td>months,since,using,op,ordered,first,saleso,mus...</td>\n",
       "    </tr>\n",
       "    <tr>\n",
       "      <th>49</th>\n",
       "      <td>switched from one plus  overheating issue bu...</td>\n",
       "      <td>1</td>\n",
       "      <td>switched,one,plus,overheating,issue,case,well,...</td>\n",
       "    </tr>\n",
       "  </tbody>\n",
       "</table>\n",
       "</div>"
      ],
      "text/plain": [
       "                                               Review  Sentiment  \\\n",
       "0     battery issue phone is heating during chargi...          0   \n",
       "1     facing heating issue while using camera app ...          0   \n",
       "2     my first time buying a oneplus phone and i r...          1   \n",
       "3     hiplease consider this message with a seriou...          0   \n",
       "4     within  minutes of usage its felt like over ...          0   \n",
       "5     i dont why no reviewer is speaking about it ...          0   \n",
       "6     iam oneplus user since  years i exchange my ...          0   \n",
       "7     after  days of usage writing this  best came...          1   \n",
       "8     writing after  days of  heating issues you w...          1   \n",
       "9     i am writing down this after using for a cou...          1   \n",
       "10    oneplus  is best of both world that you get ...          0   \n",
       "11    worst phone by one plusheating issues yesbat...          0   \n",
       "12    i have recieved this new phone yesterday sin...          1   \n",
       "13    disappointed this was my first purchase of o...          0   \n",
       "14    first of all it is hearing every time i use ...          0   \n",
       "15    an overall decent phone the clean software e...          1   \n",
       "16    review after  days  build quality is awesome...          1   \n",
       "17                                     battery issues          0   \n",
       "18    from one plus  one plus  now one plus  launc...          1   \n",
       "19    as im a oneplus user for more than  years no...          1   \n",
       "20    worrest decision taken by oneplus not provid...          0   \n",
       "21     okay first of all i was using oneplus  befo...          1   \n",
       "22    review  phone has very good performance i or...          1   \n",
       "23    i just switched from  when i brought the  wh...          0   \n",
       "24    i got a defective phone it is struggling in ...          0   \n",
       "25    worst camera  even a  phone will beat this p...          0   \n",
       "26    got a defective product and amazon is not re...          0   \n",
       "27    ordered carbon black  variantrecieved a day ...          1   \n",
       "28    the only reason i went for oneplus  is that ...          1   \n",
       "29    oneplus did a blunder with this one battery ...          0   \n",
       "30    the oneplus  is a fair proposition in terms ...          1   \n",
       "31    heats like hell initial set up heats up mobi...          0   \n",
       "32    just recieved latest flagship phone but disa...          0   \n",
       "33    i never expected that oneplus phones will be...          0   \n",
       "34    well to start withi got this phone delivered...          0   \n",
       "35    i have an oneplus  and an one plus  and this...          1   \n",
       "36    extremely worst battery battery drain s very...          0   \n",
       "37    after getting to know that oneplus is not pr...          0   \n",
       "38    review after  days of extensive usage  i wou...          1   \n",
       "39    none of the features are good and looks real...          0   \n",
       "40    phone was getting heat when charging and con...          0   \n",
       "41    camera quality is very poor poorer than   se...          0   \n",
       "42    i have been using realme  pro for the past  ...          1   \n",
       "43    heres my final review after more than one mo...          1   \n",
       "44    this is the best smartphone you can purchase...          1   \n",
       "45    you may get phones with better on paper spec...          1   \n",
       "46    extremely slow and disappointing product i h...          0   \n",
       "47    i felt like this oneplus  is best in oneplus...          1   \n",
       "48    it has been more than  months since i am usi...          1   \n",
       "49    switched from one plus  overheating issue bu...          1   \n",
       "\n",
       "                                         reviews_text  \n",
       "0   battery,issue,phone,heating,charging,running,a...  \n",
       "1   facing,heating,issue,using,camera,app,general,...  \n",
       "2   first,time,buying,oneplus,phone,really,like,fi...  \n",
       "3   hiplease,consider,message,serious,note,one,plu...  \n",
       "4   within,minutes,usage,felt,like,heat,cant,exper...  \n",
       "5         dont,reviewer,speaking,heating,normal,usage  \n",
       "6   iam,oneplus,user,since,years,exchange,one,plus...  \n",
       "7   days,usage,writing,best,camera,quality,snapdra...  \n",
       "8   writing,days,heating,issues,start,noticing,fir...  \n",
       "9   writing,using,couple,days,got,carbon,black,one...  \n",
       "10  oneplus,best,world,get,samsung,apple,would,rat...  \n",
       "11  worst,phone,one,plusheating,issues,yesbattery,...  \n",
       "12  recieved,new,phone,yesterday,since,started,usi...  \n",
       "13  disappointed,first,purchase,oneplus,phone,eage...  \n",
       "14  first,hearing,every,time,use,camera,play,games...  \n",
       "15  overall,decent,phone,clean,software,experience...  \n",
       "16  review,days,build,quality,awesome,aluminum,fra...  \n",
       "17                                     battery,issues  \n",
       "18  one,plus,one,plus,one,plus,launched,bookedno,i...  \n",
       "19  im,oneplus,user,years,purchased,oneplus,plus,p...  \n",
       "20  worrest,decision,taken,oneplus,providing,netwo...  \n",
       "21  okay,first,using,oneplus,planning,upgrade,eage...  \n",
       "22  review,phone,good,performance,ordered,lake,blu...  \n",
       "23  switched,brought,zero,complaints,im,many,issue...  \n",
       "24  got,defective,phone,struggling,moderate,weak,n...  \n",
       "25  worst,camera,even,phone,beat,phone,camera,segm...  \n",
       "26  got,defective,product,amazon,ready,exchange,sa...  \n",
       "27  ordered,carbon,black,variantrecieved,day,early...  \n",
       "28  reason,went,oneplus,using,oneplus,last,years,p...  \n",
       "29  oneplus,blunder,one,battery,quality,bad,chargi...  \n",
       "30  oneplus,fair,proposition,terms,phones,pricing,...  \n",
       "31  heats,like,hell,initial,set,heats,mobile,hold,...  \n",
       "32  recieved,latest,flagship,phone,disappointed,qu...  \n",
       "33  never,expected,oneplus,phones,heating,issue,de...  \n",
       "34  well,start,withi,got,phone,delivered,todayno,i...  \n",
       "35  oneplus,one,plus,third,purchase,oneplus,phone,...  \n",
       "36  extremely,worst,battery,battery,drain,quickly,...  \n",
       "37  getting,know,oneplus,providing,additional,band...  \n",
       "38  review,days,extensive,usage,would,say,performa...  \n",
       "39  none,features,good,looks,really,cheap,youre,on...  \n",
       "40  phone,getting,heat,charging,continuse,use,appl...  \n",
       "41  camera,quality,poor,poorer,seems,need,software...  \n",
       "42  using,realme,pro,past,half,years,felt,like,nee...  \n",
       "43  heres,final,review,one,month,continuos,usage,p...  \n",
       "44  best,smartphone,purchase,researched,alot,found...  \n",
       "45  may,get,phones,better,paper,specs,price,none,q...  \n",
       "46  extremely,slow,disappointing,product,using,one...  \n",
       "47  felt,like,oneplus,best,oneplus,series,worth,wa...  \n",
       "48  months,since,using,op,ordered,first,saleso,mus...  \n",
       "49  switched,one,plus,overheating,issue,case,well,...  "
      ]
     },
     "execution_count": 136,
     "metadata": {},
     "output_type": "execute_result"
    }
   ],
   "source": [
    "df2.head(50)"
   ]
  },
  {
   "cell_type": "code",
   "execution_count": 137,
   "id": "premium-fashion",
   "metadata": {},
   "outputs": [
    {
     "name": "stderr",
     "output_type": "stream",
     "text": [
      "C:\\anaconda3\\lib\\site-packages\\ipykernel\\ipkernel.py:287: DeprecationWarning: `should_run_async` will not call `transform_cell` automatically in the future. Please pass the result to `transformed_cell` argument and any exception that happen during thetransform in `preprocessing_exc_tuple` in IPython 7.17 and above.\n",
      "  and should_run_async(code)\n"
     ]
    }
   ],
   "source": [
    "from sklearn.pipeline import Pipeline\n",
    "from sklearn.feature_extraction.text import CountVectorizer, TfidfVectorizer, TfidfTransformer\n",
    "from sklearn.naive_bayes import MultinomialNB\n",
    "clf = Pipeline([\n",
    "    ('vect', CountVectorizer(stop_words= \"english\")),\n",
    "    ('tfidf', TfidfTransformer()),\n",
    "    ('classifier', MultinomialNB()),\n",
    "    ])"
   ]
  },
  {
   "cell_type": "code",
   "execution_count": 138,
   "id": "junior-columbus",
   "metadata": {},
   "outputs": [
    {
     "name": "stderr",
     "output_type": "stream",
     "text": [
      "C:\\anaconda3\\lib\\site-packages\\ipykernel\\ipkernel.py:287: DeprecationWarning: `should_run_async` will not call `transform_cell` automatically in the future. Please pass the result to `transformed_cell` argument and any exception that happen during thetransform in `preprocessing_exc_tuple` in IPython 7.17 and above.\n",
      "  and should_run_async(code)\n"
     ]
    }
   ],
   "source": [
    "X = df2['reviews_text']\n",
    "y = df2['Sentiment']"
   ]
  },
  {
   "cell_type": "code",
   "execution_count": 139,
   "id": "warming-removal",
   "metadata": {},
   "outputs": [
    {
     "name": "stderr",
     "output_type": "stream",
     "text": [
      "C:\\anaconda3\\lib\\site-packages\\ipykernel\\ipkernel.py:287: DeprecationWarning: `should_run_async` will not call `transform_cell` automatically in the future. Please pass the result to `transformed_cell` argument and any exception that happen during thetransform in `preprocessing_exc_tuple` in IPython 7.17 and above.\n",
      "  and should_run_async(code)\n"
     ]
    },
    {
     "data": {
      "text/plain": [
       "((400,), (100,), (400,))"
      ]
     },
     "execution_count": 139,
     "metadata": {},
     "output_type": "execute_result"
    }
   ],
   "source": [
    "from sklearn.model_selection import train_test_split\n",
    "X_train, X_test, y_train, y_test = train_test_split(X, y,random_state = 42,\n",
    "                                                   test_size = 0.20)\n",
    "X_train.shape,X_test.shape,y_train.shape"
   ]
  },
  {
   "cell_type": "code",
   "execution_count": 140,
   "id": "growing-marine",
   "metadata": {},
   "outputs": [
    {
     "name": "stderr",
     "output_type": "stream",
     "text": [
      "C:\\anaconda3\\lib\\site-packages\\ipykernel\\ipkernel.py:287: DeprecationWarning: `should_run_async` will not call `transform_cell` automatically in the future. Please pass the result to `transformed_cell` argument and any exception that happen during thetransform in `preprocessing_exc_tuple` in IPython 7.17 and above.\n",
      "  and should_run_async(code)\n"
     ]
    }
   ],
   "source": [
    "fit_model = clf.fit(X_train,y_train)"
   ]
  },
  {
   "cell_type": "code",
   "execution_count": 141,
   "id": "hollywood-contents",
   "metadata": {},
   "outputs": [
    {
     "name": "stderr",
     "output_type": "stream",
     "text": [
      "C:\\anaconda3\\lib\\site-packages\\ipykernel\\ipkernel.py:287: DeprecationWarning: `should_run_async` will not call `transform_cell` automatically in the future. Please pass the result to `transformed_cell` argument and any exception that happen during thetransform in `preprocessing_exc_tuple` in IPython 7.17 and above.\n",
      "  and should_run_async(code)\n"
     ]
    }
   ],
   "source": [
    "y_pred = clf.predict(X_test)"
   ]
  },
  {
   "cell_type": "code",
   "execution_count": 142,
   "id": "sixth-carroll",
   "metadata": {},
   "outputs": [
    {
     "name": "stdout",
     "output_type": "stream",
     "text": [
      "Training accuracy: 0.7675\n",
      "Test accuracy: 0.68\n"
     ]
    },
    {
     "name": "stderr",
     "output_type": "stream",
     "text": [
      "C:\\anaconda3\\lib\\site-packages\\ipykernel\\ipkernel.py:287: DeprecationWarning: `should_run_async` will not call `transform_cell` automatically in the future. Please pass the result to `transformed_cell` argument and any exception that happen during thetransform in `preprocessing_exc_tuple` in IPython 7.17 and above.\n",
      "  and should_run_async(code)\n"
     ]
    }
   ],
   "source": [
    "print('Training accuracy:', fit_model.score(X_train,y_train))\n",
    "print('Test accuracy:', fit_model.score(X_test,y_test))"
   ]
  },
  {
   "cell_type": "code",
   "execution_count": 143,
   "id": "ordered-faculty",
   "metadata": {},
   "outputs": [
    {
     "name": "stdout",
     "output_type": "stream",
     "text": [
      "              precision    recall  f1-score   support\n",
      "\n",
      "           0       0.00      0.00      0.00        32\n",
      "           1       0.68      1.00      0.81        68\n",
      "\n",
      "    accuracy                           0.68       100\n",
      "   macro avg       0.34      0.50      0.40       100\n",
      "weighted avg       0.46      0.68      0.55       100\n",
      "\n",
      "[[ 0 32]\n",
      " [ 0 68]]\n"
     ]
    },
    {
     "name": "stderr",
     "output_type": "stream",
     "text": [
      "C:\\anaconda3\\lib\\site-packages\\ipykernel\\ipkernel.py:287: DeprecationWarning: `should_run_async` will not call `transform_cell` automatically in the future. Please pass the result to `transformed_cell` argument and any exception that happen during thetransform in `preprocessing_exc_tuple` in IPython 7.17 and above.\n",
      "  and should_run_async(code)\n"
     ]
    }
   ],
   "source": [
    "from sklearn.metrics import classification_report, confusion_matrix\n",
    "print(classification_report(y_test,y_pred))\n",
    "\n",
    "print(confusion_matrix(y_test,y_pred))"
   ]
  },
  {
   "cell_type": "code",
   "execution_count": null,
   "id": "subtle-somerset",
   "metadata": {},
   "outputs": [],
   "source": []
  },
  {
   "cell_type": "code",
   "execution_count": null,
   "id": "technical-marina",
   "metadata": {},
   "outputs": [],
   "source": []
  },
  {
   "cell_type": "code",
   "execution_count": null,
   "id": "vital-satisfaction",
   "metadata": {},
   "outputs": [],
   "source": []
  }
 ],
 "metadata": {
  "kernelspec": {
   "display_name": "Python 3",
   "language": "python",
   "name": "python3"
  },
  "language_info": {
   "codemirror_mode": {
    "name": "ipython",
    "version": 3
   },
   "file_extension": ".py",
   "mimetype": "text/x-python",
   "name": "python",
   "nbconvert_exporter": "python",
   "pygments_lexer": "ipython3",
   "version": "3.8.5"
  }
 },
 "nbformat": 4,
 "nbformat_minor": 5
}
