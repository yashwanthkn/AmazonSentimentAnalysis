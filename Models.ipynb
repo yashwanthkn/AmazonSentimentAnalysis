{
 "cells": [
  {
   "cell_type": "code",
   "execution_count": 1,
   "id": "laughing-consciousness",
   "metadata": {},
   "outputs": [],
   "source": [
    "import re \n",
    "%matplotlib inline \n",
    "import pandas as pd \n",
    "import numpy as np \n",
    "import matplotlib.pyplot as plt \n",
    "import seaborn as sns \n",
    "\n",
    "import warnings\n",
    "warnings.filterwarnings(\"ignore\")\n",
    "plt.style.use('ggplot')\n",
    "\n",
    "import nltk\n",
    "from nltk import word_tokenize\n",
    "\n",
    "from sklearn.feature_extraction.text import CountVectorizer\n",
    "from sklearn.feature_extraction.text import TfidfVectorizer\n",
    "from collections import Counter\n",
    "from wordcloud import WordCloud\n",
    "\n",
    "from sklearn.model_selection import train_test_split\n",
    "from sklearn.linear_model import LogisticRegression\n",
    "from sklearn.ensemble import RandomForestClassifier\n",
    "from sklearn.metrics import accuracy_score\n",
    "from sklearn.metrics import f1_score"
   ]
  },
  {
   "cell_type": "code",
   "execution_count": 2,
   "id": "compliant-master",
   "metadata": {},
   "outputs": [],
   "source": [
    "#Data Preprocessing and Transformation\n",
    "df3 = pd.read_csv('reviews_500.csv')\n"
   ]
  },
  {
   "cell_type": "code",
   "execution_count": 3,
   "id": "placed-asian",
   "metadata": {},
   "outputs": [],
   "source": [
    "df2 = pd.DataFrame(df3,columns = ['rating','text'])\n",
    "df2.rename(columns = {'rating':'Rating','text':'Review'},inplace = True)"
   ]
  },
  {
   "cell_type": "code",
   "execution_count": 4,
   "id": "czech-exploration",
   "metadata": {},
   "outputs": [],
   "source": [
    "def apply_sentiment(Rating):\n",
    "    if(Rating <=2 ):\n",
    "        return 0\n",
    "    else:\n",
    "        return 1"
   ]
  },
  {
   "cell_type": "code",
   "execution_count": 5,
   "id": "cutting-blues",
   "metadata": {},
   "outputs": [],
   "source": [
    "df2['Sentiment'] = df2['Rating'].apply(apply_sentiment)\n",
    "df2.drop(['Rating'],axis = 1, inplace = True)"
   ]
  },
  {
   "cell_type": "code",
   "execution_count": 6,
   "id": "shaped-restaurant",
   "metadata": {},
   "outputs": [
    {
     "data": {
      "text/plain": [
       "1    349\n",
       "0    151\n",
       "Name: Sentiment, dtype: int64"
      ]
     },
     "execution_count": 6,
     "metadata": {},
     "output_type": "execute_result"
    }
   ],
   "source": [
    "sentiment = df2['Sentiment'].value_counts()\n",
    "sentiment"
   ]
  },
  {
   "cell_type": "code",
   "execution_count": 7,
   "id": "persistent-naples",
   "metadata": {},
   "outputs": [
    {
     "data": {
      "image/png": "[encoded data removed]",
      "text/plain": [
       "<Figure size 720x576 with 1 Axes>"
      ]
     },
     "metadata": {},
     "output_type": "display_data"
    }
   ],
   "source": [
    "plt.figure(figsize = ( 10,8))\n",
    "sns.countplot(data = df2, x = 'Sentiment')\n",
    "plt.show()"
   ]
  },
  {
   "cell_type": "code",
   "execution_count": 8,
   "id": "premium-tobacco",
   "metadata": {},
   "outputs": [],
   "source": [
    "def clean_text(Review):\n",
    "   \n",
    "    Review = str(Review).lower() # convert to lowercase\n",
    "    Review = re.sub('\\[.*?\\]', '', Review) \n",
    "    Review = re.sub('https?://\\S+|www\\.\\S+', '', Review) # Remove URls\n",
    "    Review = re.sub('<.*?>+', '', Review)\n",
    "    Review = re.sub(r'[^a-z0-9\\s]', '', Review) # Remove punctuation\n",
    "    Review = re.sub('\\n', '', Review)\n",
    "    Review = re.sub('\\w*\\d\\w*', '', Review)\n",
    "    return Review"
   ]
  },
  {
   "cell_type": "code",
   "execution_count": 9,
   "id": "homeless-chase",
   "metadata": {},
   "outputs": [
    {
     "data": {
      "text/plain": [
       "0      \\n  Battery Issue.... Phone is Heating during ...\n",
       "1      \\n  Facing heating issue while using camera ap...\n",
       "2      \\n  My first time buying a OnePlus phone and I...\n",
       "3      \\n  HiPlease consider this message with a seri...\n",
       "4      \\n  Within 10 minutes of usage. It’s felt like...\n",
       "                             ...                        \n",
       "495    \\n  Amazon Has selling Duplicate And Damaged o...\n",
       "496    \\n  1st day review..The battery got charged in...\n",
       "497    \\n  Ear phones could have been provided by One...\n",
       "498    \\n  Face recognition sometimes works even when...\n",
       "499    \\n  It's a good choice for a casual mobile use...\n",
       "Name: Review, Length: 500, dtype: object"
      ]
     },
     "execution_count": 9,
     "metadata": {},
     "output_type": "execute_result"
    }
   ],
   "source": [
    "df2['Review']"
   ]
  },
  {
   "cell_type": "code",
   "execution_count": 10,
   "id": "christian-merchandise",
   "metadata": {},
   "outputs": [],
   "source": [
    "df2['Review'] = df2['Review'].apply(clean_text)"
   ]
  },
  {
   "cell_type": "code",
   "execution_count": 11,
   "id": "noted-covering",
   "metadata": {},
   "outputs": [
    {
     "data": {
      "text/html": [
       "<div>\n",
       "<style scoped>\n",
       "    .dataframe tbody tr th:only-of-type {\n",
       "        vertical-align: middle;\n",
       "    }\n",
       "\n",
       "    .dataframe tbody tr th {\n",
       "        vertical-align: top;\n",
       "    }\n",
       "\n",
       "    .dataframe thead th {\n",
       "        text-align: right;\n",
       "    }\n",
       "</style>\n",
       "<table border=\"1\" class=\"dataframe\">\n",
       "  <thead>\n",
       "    <tr style=\"text-align: right;\">\n",
       "      <th></th>\n",
       "      <th>Review</th>\n",
       "      <th>Sentiment</th>\n",
       "    </tr>\n",
       "  </thead>\n",
       "  <tbody>\n",
       "    <tr>\n",
       "      <th>0</th>\n",
       "      <td>battery issue phone is heating during chargi...</td>\n",
       "      <td>0</td>\n",
       "    </tr>\n",
       "    <tr>\n",
       "      <th>1</th>\n",
       "      <td>facing heating issue while using camera app ...</td>\n",
       "      <td>0</td>\n",
       "    </tr>\n",
       "    <tr>\n",
       "      <th>2</th>\n",
       "      <td>my first time buying a oneplus phone and i r...</td>\n",
       "      <td>1</td>\n",
       "    </tr>\n",
       "    <tr>\n",
       "      <th>3</th>\n",
       "      <td>hiplease consider this message with a seriou...</td>\n",
       "      <td>0</td>\n",
       "    </tr>\n",
       "    <tr>\n",
       "      <th>4</th>\n",
       "      <td>within  minutes of usage its felt like over ...</td>\n",
       "      <td>0</td>\n",
       "    </tr>\n",
       "  </tbody>\n",
       "</table>\n",
       "</div>"
      ],
      "text/plain": [
       "                                              Review  Sentiment\n",
       "0    battery issue phone is heating during chargi...          0\n",
       "1    facing heating issue while using camera app ...          0\n",
       "2    my first time buying a oneplus phone and i r...          1\n",
       "3    hiplease consider this message with a seriou...          0\n",
       "4    within  minutes of usage its felt like over ...          0"
      ]
     },
     "execution_count": 11,
     "metadata": {},
     "output_type": "execute_result"
    }
   ],
   "source": [
    "df2.head()"
   ]
  },
  {
   "cell_type": "code",
   "execution_count": 12,
   "id": "rocky-planning",
   "metadata": {},
   "outputs": [],
   "source": [
    "from nltk.corpus import stopwords\n",
    "import nltk\n",
    "\n",
    "stop_words = set(stopwords.words('english'))\n",
    "stopword = []\n",
    "sentence = df2['Review'][0]\n",
    "\n",
    "\n",
    "#words = nltk.word_tokenize(sentence)\n",
    "\n",
    "\n",
    "def remove_stopword(stop_words, sentence):\n",
    "    return [word for word in nltk.word_tokenize(sentence) if word not in stop_words]\n",
    "\n",
    "df2['reviews_text'] = df2['Review'].apply(lambda row: remove_stopword(stop_words, row))\n",
    "\n",
    "## need to convert list into string\n",
    "df2['reviews_text'] = df2['reviews_text'].apply(lambda row: ','.join(row))"
   ]
  },
  {
   "cell_type": "code",
   "execution_count": 13,
   "id": "intended-spray",
   "metadata": {},
   "outputs": [
    {
     "data": {
      "text/html": [
       "<div>\n",
       "<style scoped>\n",
       "    .dataframe tbody tr th:only-of-type {\n",
       "        vertical-align: middle;\n",
       "    }\n",
       "\n",
       "    .dataframe tbody tr th {\n",
       "        vertical-align: top;\n",
       "    }\n",
       "\n",
       "    .dataframe thead th {\n",
       "        text-align: right;\n",
       "    }\n",
       "</style>\n",
       "<table border=\"1\" class=\"dataframe\">\n",
       "  <thead>\n",
       "    <tr style=\"text-align: right;\">\n",
       "      <th></th>\n",
       "      <th>Review</th>\n",
       "      <th>Sentiment</th>\n",
       "      <th>reviews_text</th>\n",
       "    </tr>\n",
       "  </thead>\n",
       "  <tbody>\n",
       "    <tr>\n",
       "      <th>0</th>\n",
       "      <td>battery issue phone is heating during chargi...</td>\n",
       "      <td>0</td>\n",
       "      <td>battery,issue,phone,heating,charging,running,a...</td>\n",
       "    </tr>\n",
       "    <tr>\n",
       "      <th>1</th>\n",
       "      <td>facing heating issue while using camera app ...</td>\n",
       "      <td>0</td>\n",
       "      <td>facing,heating,issue,using,camera,app,general,...</td>\n",
       "    </tr>\n",
       "    <tr>\n",
       "      <th>2</th>\n",
       "      <td>my first time buying a oneplus phone and i r...</td>\n",
       "      <td>1</td>\n",
       "      <td>first,time,buying,oneplus,phone,really,like,fi...</td>\n",
       "    </tr>\n",
       "    <tr>\n",
       "      <th>3</th>\n",
       "      <td>hiplease consider this message with a seriou...</td>\n",
       "      <td>0</td>\n",
       "      <td>hiplease,consider,message,serious,note,one,plu...</td>\n",
       "    </tr>\n",
       "    <tr>\n",
       "      <th>4</th>\n",
       "      <td>within  minutes of usage its felt like over ...</td>\n",
       "      <td>0</td>\n",
       "      <td>within,minutes,usage,felt,like,heat,cant,exper...</td>\n",
       "    </tr>\n",
       "    <tr>\n",
       "      <th>5</th>\n",
       "      <td>i dont why no reviewer is speaking about it ...</td>\n",
       "      <td>0</td>\n",
       "      <td>dont,reviewer,speaking,heating,normal,usage</td>\n",
       "    </tr>\n",
       "    <tr>\n",
       "      <th>6</th>\n",
       "      <td>iam oneplus user since  years i exchange my ...</td>\n",
       "      <td>0</td>\n",
       "      <td>iam,oneplus,user,since,years,exchange,one,plus...</td>\n",
       "    </tr>\n",
       "    <tr>\n",
       "      <th>7</th>\n",
       "      <td>after  days of usage writing this  best came...</td>\n",
       "      <td>1</td>\n",
       "      <td>days,usage,writing,best,camera,quality,snapdra...</td>\n",
       "    </tr>\n",
       "    <tr>\n",
       "      <th>8</th>\n",
       "      <td>writing after  days of  heating issues you w...</td>\n",
       "      <td>1</td>\n",
       "      <td>writing,days,heating,issues,start,noticing,fir...</td>\n",
       "    </tr>\n",
       "    <tr>\n",
       "      <th>9</th>\n",
       "      <td>i am writing down this after using for a cou...</td>\n",
       "      <td>1</td>\n",
       "      <td>writing,using,couple,days,got,carbon,black,one...</td>\n",
       "    </tr>\n",
       "  </tbody>\n",
       "</table>\n",
       "</div>"
      ],
      "text/plain": [
       "                                              Review  Sentiment  \\\n",
       "0    battery issue phone is heating during chargi...          0   \n",
       "1    facing heating issue while using camera app ...          0   \n",
       "2    my first time buying a oneplus phone and i r...          1   \n",
       "3    hiplease consider this message with a seriou...          0   \n",
       "4    within  minutes of usage its felt like over ...          0   \n",
       "5    i dont why no reviewer is speaking about it ...          0   \n",
       "6    iam oneplus user since  years i exchange my ...          0   \n",
       "7    after  days of usage writing this  best came...          1   \n",
       "8    writing after  days of  heating issues you w...          1   \n",
       "9    i am writing down this after using for a cou...          1   \n",
       "\n",
       "                                        reviews_text  \n",
       "0  battery,issue,phone,heating,charging,running,a...  \n",
       "1  facing,heating,issue,using,camera,app,general,...  \n",
       "2  first,time,buying,oneplus,phone,really,like,fi...  \n",
       "3  hiplease,consider,message,serious,note,one,plu...  \n",
       "4  within,minutes,usage,felt,like,heat,cant,exper...  \n",
       "5        dont,reviewer,speaking,heating,normal,usage  \n",
       "6  iam,oneplus,user,since,years,exchange,one,plus...  \n",
       "7  days,usage,writing,best,camera,quality,snapdra...  \n",
       "8  writing,days,heating,issues,start,noticing,fir...  \n",
       "9  writing,using,couple,days,got,carbon,black,one...  "
      ]
     },
     "execution_count": 13,
     "metadata": {},
     "output_type": "execute_result"
    }
   ],
   "source": [
    "df2.head(10)"
   ]
  },
  {
   "cell_type": "code",
   "execution_count": 14,
   "id": "respiratory-durham",
   "metadata": {},
   "outputs": [],
   "source": [
    "from sklearn.pipeline import Pipeline\n",
    "from sklearn.feature_extraction.text import CountVectorizer, TfidfVectorizer, TfidfTransformer\n",
    "from sklearn.naive_bayes import MultinomialNB\n",
    "clf = Pipeline([\n",
    "    ('vect', CountVectorizer(stop_words= \"english\")),\n",
    "    ('tfidf', TfidfTransformer()),\n",
    "    ('classifier', MultinomialNB()),\n",
    "    ])"
   ]
  },
  {
   "cell_type": "code",
   "execution_count": 15,
   "id": "parental-nudist",
   "metadata": {},
   "outputs": [],
   "source": [
    "X = df2['reviews_text']\n",
    "y = df2['Sentiment']"
   ]
  },
  {
   "cell_type": "code",
   "execution_count": 16,
   "id": "advised-customs",
   "metadata": {},
   "outputs": [
    {
     "data": {
      "text/plain": [
       "((400,), (100,), (400,))"
      ]
     },
     "execution_count": 16,
     "metadata": {},
     "output_type": "execute_result"
    }
   ],
   "source": [
    "from sklearn.model_selection import train_test_split\n",
    "X_train, X_test, y_train, y_test = train_test_split(X, y,random_state = 42,\n",
    "                                                   test_size = 0.20)\n",
    "X_train.shape,X_test.shape,y_train.shape"
   ]
  },
  {
   "cell_type": "code",
   "execution_count": 17,
   "id": "hairy-venice",
   "metadata": {},
   "outputs": [],
   "source": [
    "fit_model = clf.fit(X_train,y_train)"
   ]
  },
  {
   "cell_type": "code",
   "execution_count": 18,
   "id": "built-sterling",
   "metadata": {},
   "outputs": [],
   "source": [
    "y_pred = clf.predict(X_test)"
   ]
  },
  {
   "cell_type": "code",
   "execution_count": 19,
   "id": "correct-rescue",
   "metadata": {},
   "outputs": [
    {
     "name": "stdout",
     "output_type": "stream",
     "text": [
      "Training accuracy: 0.7675\n",
      "Test accuracy: 0.68\n"
     ]
    }
   ],
   "source": [
    "print('Training accuracy:', fit_model.score(X_train,y_train))\n",
    "print('Test accuracy:', fit_model.score(X_test,y_test))"
   ]
  },
  {
   "cell_type": "code",
   "execution_count": 20,
   "id": "presidential-tamil",
   "metadata": {},
   "outputs": [
    {
     "name": "stdout",
     "output_type": "stream",
     "text": [
      "              precision    recall  f1-score   support\n",
      "\n",
      "           0       0.00      0.00      0.00        32\n",
      "           1       0.68      1.00      0.81        68\n",
      "\n",
      "    accuracy                           0.68       100\n",
      "   macro avg       0.34      0.50      0.40       100\n",
      "weighted avg       0.46      0.68      0.55       100\n",
      "\n",
      "[[ 0 32]\n",
      " [ 0 68]]\n"
     ]
    }
   ],
   "source": [
    "from sklearn.metrics import classification_report, confusion_matrix\n",
    "print(classification_report(y_test,y_pred))\n",
    "\n",
    "print(confusion_matrix(y_test,y_pred))"
   ]
  },
  {
   "cell_type": "code",
   "execution_count": 21,
   "id": "hazardous-society",
   "metadata": {},
   "outputs": [],
   "source": [
    "import warnings\n",
    "warnings.filterwarnings('ignore')"
   ]
  },
  {
   "cell_type": "code",
   "execution_count": 22,
   "id": "documentary-occasions",
   "metadata": {},
   "outputs": [],
   "source": [
    "from collections import Counter"
   ]
  },
  {
   "cell_type": "code",
   "execution_count": 23,
   "id": "stuffed-flooring",
   "metadata": {},
   "outputs": [
    {
     "name": "stdout",
     "output_type": "stream",
     "text": [
      "[(0, 151), (1, 349)]\n"
     ]
    }
   ],
   "source": [
    "print(sorted(Counter(df2['Sentiment']).items()))"
   ]
  },
  {
   "cell_type": "code",
   "execution_count": 24,
   "id": "immediate-quarter",
   "metadata": {},
   "outputs": [],
   "source": [
    "from sklearn.pipeline import Pipeline\n",
    "from sklearn.feature_extraction.text import CountVectorizer, TfidfVectorizer, TfidfTransformer\n",
    "from sklearn.svm import SVC\n",
    "clf = Pipeline([\n",
    "    ('vect', CountVectorizer(stop_words= \"english\")),\n",
    "    ('tfidf', TfidfTransformer()),\n",
    "    ('classifier', SVC()),\n",
    "    ])"
   ]
  },
  {
   "cell_type": "code",
   "execution_count": 25,
   "id": "historical-failure",
   "metadata": {},
   "outputs": [],
   "source": [
    "X = df2['reviews_text']\n",
    "y = df2['Sentiment']"
   ]
  },
  {
   "cell_type": "code",
   "execution_count": 26,
   "id": "christian-courtesy",
   "metadata": {},
   "outputs": [],
   "source": [
    "from sklearn.feature_extraction.text import CountVectorizer,TfidfVectorizer    \n",
    "cv = CountVectorizer(max_features=250)"
   ]
  },
  {
   "cell_type": "code",
   "execution_count": 27,
   "id": "expensive-bible",
   "metadata": {},
   "outputs": [],
   "source": [
    "X = cv.fit_transform(df2['reviews_text']).toarray()"
   ]
  },
  {
   "cell_type": "code",
   "execution_count": 28,
   "id": "judicial-drink",
   "metadata": {},
   "outputs": [
    {
     "data": {
      "text/plain": [
       "((400, 250), (100, 250), (400,))"
      ]
     },
     "execution_count": 28,
     "metadata": {},
     "output_type": "execute_result"
    }
   ],
   "source": [
    "from sklearn.model_selection import train_test_split\n",
    "X_train, X_test, y_train, y_test = train_test_split(X, y,random_state = 42,\n",
    "                                                   test_size = 0.20)\n",
    "X_train.shape,X_test.shape,y_train.shape"
   ]
  },
  {
   "cell_type": "markdown",
   "id": "quality-victoria",
   "metadata": {},
   "source": [
    "Support vector machine"
   ]
  },
  {
   "cell_type": "code",
   "execution_count": 29,
   "id": "royal-newton",
   "metadata": {},
   "outputs": [],
   "source": [
    "svm = SVC(kernel='linear',C=0.025,random_state=101)"
   ]
  },
  {
   "cell_type": "code",
   "execution_count": 30,
   "id": "waiting-glenn",
   "metadata": {},
   "outputs": [],
   "source": [
    "fit_model_1 = svm.fit(X_train,y_train)"
   ]
  },
  {
   "cell_type": "code",
   "execution_count": 31,
   "id": "improving-compilation",
   "metadata": {},
   "outputs": [],
   "source": [
    "y_pred = svm.predict(X_test)"
   ]
  },
  {
   "cell_type": "code",
   "execution_count": 32,
   "id": "saving-thailand",
   "metadata": {},
   "outputs": [
    {
     "name": "stdout",
     "output_type": "stream",
     "text": [
      "Accuracy score    : 0.78\n",
      "Precision score   : 0.7614\n",
      "Recall score      : 0.9853\n",
      "Confusion Matrix  :\n",
      " [[11 21]\n",
      " [ 1 67]]\n",
      "F1_score          : 0.859\n"
     ]
    }
   ],
   "source": [
    "from sklearn.metrics import accuracy_score,confusion_matrix,precision_score,recall_score,roc_curve,f1_score\n",
    "print('Accuracy score    :',  round(accuracy_score(y_test,y_pred),4))\n",
    "print('Precision score   :',  round(precision_score(y_test,y_pred),4))\n",
    "print('Recall score      :',  round(recall_score(y_test,y_pred),4))\n",
    "print('Confusion Matrix  :\\n',confusion_matrix(y_test,y_pred))\n",
    "print('F1_score          :',  round(f1_score(y_test,y_pred),4))"
   ]
  },
  {
   "cell_type": "markdown",
   "id": "former-healing",
   "metadata": {},
   "source": [
    "Performence of Randomforest classifier"
   ]
  },
  {
   "cell_type": "code",
   "execution_count": 33,
   "id": "comic-appointment",
   "metadata": {},
   "outputs": [],
   "source": [
    "from sklearn.ensemble import AdaBoostClassifier,RandomForestClassifier"
   ]
  },
  {
   "cell_type": "code",
   "execution_count": 34,
   "id": "accepted-skill",
   "metadata": {},
   "outputs": [
    {
     "data": {
      "text/plain": [
       "RandomForestClassifier()"
      ]
     },
     "execution_count": 34,
     "metadata": {},
     "output_type": "execute_result"
    }
   ],
   "source": [
    "rf_classifier = RandomForestClassifier()\n",
    "rf_classifier.fit(X_train,y_train)"
   ]
  },
  {
   "cell_type": "code",
   "execution_count": 35,
   "id": "suitable-percentage",
   "metadata": {},
   "outputs": [
    {
     "name": "stdout",
     "output_type": "stream",
     "text": [
      "Accuracy score    : 0.81\n",
      "Precision score   : 0.8025\n",
      "Recall score      : 0.9559\n",
      "Confusion Matrix  :\n",
      " [[16 16]\n",
      " [ 3 65]]\n",
      "F1_score          : 0.8725\n"
     ]
    }
   ],
   "source": [
    "y_pred_rf = rf_classifier.predict(X_test)\n",
    "\n",
    "print('Accuracy score    :',  round(accuracy_score(y_test,y_pred_rf),4))\n",
    "print('Precision score   :',  round(precision_score(y_test,y_pred_rf),4))\n",
    "print('Recall score      :',  round(recall_score(y_test,y_pred_rf),4))\n",
    "print('Confusion Matrix  :\\n',confusion_matrix(y_test,y_pred_rf))\n",
    "print('F1_score          :',  round(f1_score(y_test,y_pred_rf),4))"
   ]
  },
  {
   "cell_type": "markdown",
   "id": "impaired-thread",
   "metadata": {},
   "source": [
    "Performence of AdaBoost classifier"
   ]
  },
  {
   "cell_type": "code",
   "execution_count": 36,
   "id": "educational-pilot",
   "metadata": {},
   "outputs": [
    {
     "data": {
      "text/plain": [
       "AdaBoostClassifier()"
      ]
     },
     "execution_count": 36,
     "metadata": {},
     "output_type": "execute_result"
    }
   ],
   "source": [
    "adb_classifier = AdaBoostClassifier()\n",
    "adb_classifier.fit(X_train,y_train)"
   ]
  },
  {
   "cell_type": "code",
   "execution_count": 37,
   "id": "forced-psychiatry",
   "metadata": {},
   "outputs": [
    {
     "name": "stdout",
     "output_type": "stream",
     "text": [
      "Accuracy score    : 0.72\n",
      "Precision score   : 0.803\n",
      "Recall score      : 0.7794\n",
      "Confusion Matrix  :\n",
      " [[19 13]\n",
      " [15 53]]\n",
      "F1_score          : 0.791\n"
     ]
    }
   ],
   "source": [
    "y_pred_adb = adb_classifier.predict(X_test)\n",
    "\n",
    "print('Accuracy score    :',  round(accuracy_score(y_test,y_pred_adb),4))\n",
    "print('Precision score   :',  round(precision_score(y_test,y_pred_adb),4))\n",
    "print('Recall score      :',  round(recall_score(y_test,y_pred_adb),4))\n",
    "print('Confusion Matrix  :\\n',confusion_matrix(y_test,y_pred_adb))\n",
    "print('F1_score          :',  round(f1_score(y_test,y_pred_adb),4))"
   ]
  },
  {
   "cell_type": "markdown",
   "id": "found-sydney",
   "metadata": {},
   "source": [
    "Performence of XG Boost"
   ]
  },
  {
   "cell_type": "code",
   "execution_count": 38,
   "id": "norwegian-endorsement",
   "metadata": {},
   "outputs": [],
   "source": [
    "import xgboost as xgb "
   ]
  },
  {
   "cell_type": "code",
   "execution_count": 39,
   "id": "understanding-bumper",
   "metadata": {},
   "outputs": [],
   "source": [
    "train_x_y = xgb.DMatrix(data = X_train,label=y_train)"
   ]
  },
  {
   "cell_type": "code",
   "execution_count": 40,
   "id": "clinical-guidance",
   "metadata": {},
   "outputs": [],
   "source": [
    "parameters={'max_depth':10, \n",
    "            'objective':'binary:logistic',\n",
    "            'eval_metric':'auc',\n",
    "            'learning_rate':.05,\n",
    "            }"
   ]
  },
  {
   "cell_type": "code",
   "execution_count": 41,
   "id": "necessary-right",
   "metadata": {},
   "outputs": [],
   "source": [
    "xgb_classifier = xgb.train(params = parameters,dtrain =train_x_y )"
   ]
  },
  {
   "cell_type": "code",
   "execution_count": 42,
   "id": "neutral-campbell",
   "metadata": {},
   "outputs": [
    {
     "data": {
      "text/plain": [
       "array([0.5005844 , 0.5845475 , 0.6128666 , 0.5009282 , 0.33745867,\n",
       "       0.6520391 , 0.67375726, 0.6864779 , 0.33745867, 0.5686105 ,\n",
       "       0.6231202 , 0.6864779 , 0.5613337 , 0.33745867, 0.6864779 ,\n",
       "       0.33745867, 0.36079   , 0.6864779 , 0.6864779 , 0.5254941 ,\n",
       "       0.6631785 , 0.60154945, 0.66645205, 0.65797466, 0.6521794 ,\n",
       "       0.5254941 , 0.64808756, 0.539647  , 0.6864779 , 0.65081304,\n",
       "       0.5254941 , 0.5707431 , 0.56705976, 0.49679688, 0.65797466,\n",
       "       0.67375726, 0.52596915, 0.6864779 , 0.6177406 , 0.5254941 ,\n",
       "       0.619408  , 0.40116447, 0.65797466, 0.5992032 , 0.48637366,\n",
       "       0.526953  , 0.5990992 , 0.33745867, 0.47595456, 0.6313271 ,\n",
       "       0.6631785 , 0.48026982, 0.5240256 , 0.6520391 , 0.6864779 ,\n",
       "       0.6864779 , 0.66094446, 0.5254941 , 0.6864779 , 0.64883924,\n",
       "       0.65797466, 0.60154945, 0.65710276, 0.539647  , 0.60074717,\n",
       "       0.33745867, 0.6864779 , 0.33745867, 0.60074717, 0.5562084 ,\n",
       "       0.36079   , 0.53328174, 0.6864779 , 0.33745867, 0.5583794 ,\n",
       "       0.67375726, 0.67375726, 0.6864779 , 0.65966815, 0.6864779 ,\n",
       "       0.6761132 , 0.48637366, 0.58247447, 0.6177406 , 0.66645205,\n",
       "       0.48637366, 0.6864779 , 0.6446758 , 0.6053445 , 0.6631785 ,\n",
       "       0.33745867, 0.5254941 , 0.6864779 , 0.499987  , 0.5707431 ,\n",
       "       0.6864779 , 0.5254941 , 0.6761132 , 0.53328174, 0.67375726],\n",
       "      dtype=float32)"
      ]
     },
     "execution_count": 42,
     "metadata": {},
     "output_type": "execute_result"
    }
   ],
   "source": [
    "dtest=xgb.DMatrix(X_test)\n",
    "y_pred_xgb = xgb_classifier.predict(dtest) \n",
    "y_pred_xgb"
   ]
  },
  {
   "cell_type": "code",
   "execution_count": 43,
   "id": "coupled-textbook",
   "metadata": {},
   "outputs": [],
   "source": [
    "#Converting probabilities into 1 or 0  \n",
    "for i in range(0, X_test.shape[0]): \n",
    "    if y_pred_xgb[i]>=.5:       # setting threshold to .5 \n",
    "       y_pred_xgb[i]=1 \n",
    "    else: \n",
    "       y_pred_xgb[i]=0 "
   ]
  },
  {
   "cell_type": "code",
   "execution_count": 44,
   "id": "liked-nightmare",
   "metadata": {},
   "outputs": [],
   "source": [
    "from sklearn.metrics import classification_report, confusion_matrix,roc_auc_score"
   ]
  },
  {
   "cell_type": "code",
   "execution_count": 45,
   "id": "considerable-damage",
   "metadata": {},
   "outputs": [
    {
     "name": "stdout",
     "output_type": "stream",
     "text": [
      "Accuracy with XGBoost=  0.77\n",
      "AUC score with XGBoost is:  0.7573099415204679\n",
      "F1_score          : 0.8456\n",
      "Precision score   : 0.7778\n",
      "Recall score      : 0.9265\n"
     ]
    },
    {
     "data": {
      "image/png": "[encoded data removed]",
      "text/plain": [
       "<Figure size 432x288 with 2 Axes>"
      ]
     },
     "metadata": {},
     "output_type": "display_data"
    }
   ],
   "source": [
    "cm_xgb = confusion_matrix(y_test, y_pred_xgb)\n",
    "sns.heatmap(cm_xgb, annot=True)\n",
    "\n",
    "print (\"Accuracy with XGBoost= \", accuracy_score(y_pred_xgb, y_test))\n",
    "print(\"AUC score with XGBoost is: \", roc_auc_score(y_pred_xgb, y_test))\n",
    "print('F1_score          :',  round(f1_score(y_test,y_pred_xgb),4))\n",
    "print('Precision score   :',  round(precision_score(y_test,y_pred_xgb),4))\n",
    "print('Recall score      :',  round(recall_score(y_test,y_pred_xgb),4)) "
   ]
  },
  {
   "cell_type": "markdown",
   "id": "mexican-homework",
   "metadata": {},
   "source": [
    "Gradient Boosting Algorithm"
   ]
  },
  {
   "cell_type": "code",
   "execution_count": 46,
   "id": "canadian-doctor",
   "metadata": {},
   "outputs": [],
   "source": [
    "from sklearn.ensemble import GradientBoostingClassifier\n",
    "gb_classifier = GradientBoostingClassifier()"
   ]
  },
  {
   "cell_type": "code",
   "execution_count": 47,
   "id": "formed-herald",
   "metadata": {},
   "outputs": [
    {
     "data": {
      "text/plain": [
       "GradientBoostingClassifier()"
      ]
     },
     "execution_count": 47,
     "metadata": {},
     "output_type": "execute_result"
    }
   ],
   "source": [
    "gb_classifier.fit(X_train,y_train)"
   ]
  },
  {
   "cell_type": "code",
   "execution_count": 48,
   "id": "strong-monthly",
   "metadata": {},
   "outputs": [],
   "source": [
    "y_pred = gb_classifier.predict(X_test)"
   ]
  },
  {
   "cell_type": "code",
   "execution_count": 49,
   "id": "mature-cover",
   "metadata": {},
   "outputs": [
    {
     "name": "stdout",
     "output_type": "stream",
     "text": [
      "Accuracy with GBBoost=  0.76\n",
      "AUC score with GBBoost is:  0.6663602941176471\n",
      "F1_score          : 0.84\n",
      "Precision score   : 0.7683\n",
      "Recall score      : 0.9265\n"
     ]
    },
    {
     "data": {
      "image/png": "[encoded data removed]",
      "text/plain": [
       "<Figure size 432x288 with 2 Axes>"
      ]
     },
     "metadata": {},
     "output_type": "display_data"
    }
   ],
   "source": [
    "cm_xgb = confusion_matrix(y_test, y_pred)\n",
    "sns.heatmap(cm_xgb, annot=True)\n",
    "\n",
    "print (\"Accuracy with GBBoost= \", accuracy_score(y_test, y_pred))\n",
    "print(\"AUC score with GBBoost is: \", roc_auc_score(y_test, y_pred))\n",
    "print('F1_score          :',  round(f1_score(y_test,y_pred),4))\n",
    "print('Precision score   :',  round(precision_score(y_test,y_pred),4))\n",
    "print('Recall score      :',  round(recall_score(y_test,y_pred),4))"
   ]
  },
  {
   "cell_type": "markdown",
   "id": "clean-colors",
   "metadata": {},
   "source": [
    "Support vector machine"
   ]
  },
  {
   "cell_type": "code",
   "execution_count": 50,
   "id": "distant-boating",
   "metadata": {},
   "outputs": [],
   "source": [
    "svm = SVC(kernel='linear',C=0.025,random_state=101)"
   ]
  },
  {
   "cell_type": "code",
   "execution_count": 51,
   "id": "secure-special",
   "metadata": {},
   "outputs": [],
   "source": [
    "fit_model_1 = svm.fit(X_train,y_train)"
   ]
  },
  {
   "cell_type": "code",
   "execution_count": 52,
   "id": "tested-chambers",
   "metadata": {},
   "outputs": [],
   "source": [
    "y_pred = svm.predict(X_test)"
   ]
  },
  {
   "cell_type": "code",
   "execution_count": 53,
   "id": "italic-senate",
   "metadata": {},
   "outputs": [
    {
     "name": "stdout",
     "output_type": "stream",
     "text": [
      "Accuracy score    : 0.78\n",
      "Precision score   : 0.7614\n",
      "Recall score      : 0.9853\n",
      "Confusion Matrix  :\n",
      " [[11 21]\n",
      " [ 1 67]]\n",
      "F1_score          : 0.859\n"
     ]
    }
   ],
   "source": [
    "from sklearn.metrics import accuracy_score,confusion_matrix,precision_score,recall_score,roc_curve,f1_score\n",
    "print('Accuracy score    :',  round(accuracy_score(y_test,y_pred),4))\n",
    "print('Precision score   :',  round(precision_score(y_test,y_pred),4))\n",
    "print('Recall score      :',  round(recall_score(y_test,y_pred),4))\n",
    "print('Confusion Matrix  :\\n',confusion_matrix(y_test,y_pred))\n",
    "print('F1_score          :',  round(f1_score(y_test,y_pred),4))"
   ]
  },
  {
   "cell_type": "markdown",
   "id": "executed-performance",
   "metadata": {},
   "source": [
    "Performence of dt with depth= 4"
   ]
  },
  {
   "cell_type": "code",
   "execution_count": 54,
   "id": "unusual-helmet",
   "metadata": {},
   "outputs": [
    {
     "data": {
      "text/plain": [
       "DecisionTreeClassifier(class_weight={0: 3, 1: 1}, max_depth=4)"
      ]
     },
     "execution_count": 54,
     "metadata": {},
     "output_type": "execute_result"
    }
   ],
   "source": [
    "from sklearn.tree import DecisionTreeClassifier\n",
    "\n",
    "dt_model = DecisionTreeClassifier(max_depth=4,class_weight={0:3,1:1})\n",
    "dt_model.fit(X_train,y_train)"
   ]
  },
  {
   "cell_type": "code",
   "execution_count": 55,
   "id": "uniform-radiation",
   "metadata": {},
   "outputs": [
    {
     "name": "stdout",
     "output_type": "stream",
     "text": [
      "Accuracy score    : 0.62\n",
      "Precision score   : 0.8\n",
      "Recall score      : 0.5882\n",
      "Confusion Matrix  :\n",
      " [[22 10]\n",
      " [28 40]]\n",
      "F1_score          : 0.678\n"
     ]
    }
   ],
   "source": [
    "y_pred_dt = dt_model.predict(X_test)\n",
    "\n",
    "print('Accuracy score    :',  round(accuracy_score(y_test,y_pred_dt),4))\n",
    "print('Precision score   :',  round(precision_score(y_test,y_pred_dt),4))\n",
    "print('Recall score      :',  round(recall_score(y_test,y_pred_dt),4))\n",
    "print('Confusion Matrix  :\\n',confusion_matrix(y_test,y_pred_dt))\n",
    "print('F1_score          :',  round(f1_score(y_test,y_pred_dt),4))"
   ]
  },
  {
   "cell_type": "markdown",
   "id": "enabling-execution",
   "metadata": {},
   "source": [
    "Performence of Randomforest classifier"
   ]
  },
  {
   "cell_type": "code",
   "execution_count": 56,
   "id": "agreed-northwest",
   "metadata": {},
   "outputs": [],
   "source": [
    "from sklearn.ensemble import AdaBoostClassifier,RandomForestClassifier"
   ]
  },
  {
   "cell_type": "code",
   "execution_count": 57,
   "id": "existing-demographic",
   "metadata": {},
   "outputs": [
    {
     "data": {
      "text/plain": [
       "RandomForestClassifier()"
      ]
     },
     "execution_count": 57,
     "metadata": {},
     "output_type": "execute_result"
    }
   ],
   "source": [
    "rf_classifier = RandomForestClassifier()\n",
    "rf_classifier.fit(X_train,y_train)"
   ]
  },
  {
   "cell_type": "code",
   "execution_count": 58,
   "id": "according-sport",
   "metadata": {},
   "outputs": [
    {
     "name": "stdout",
     "output_type": "stream",
     "text": [
      "Accuracy score    : 0.82\n",
      "Precision score   : 0.8205\n",
      "Recall score      : 0.9412\n",
      "Confusion Matrix  :\n",
      " [[18 14]\n",
      " [ 4 64]]\n",
      "F1_score          : 0.8767\n"
     ]
    }
   ],
   "source": [
    "y_pred_rf = rf_classifier.predict(X_test)\n",
    "\n",
    "print('Accuracy score    :',  round(accuracy_score(y_test,y_pred_rf),4))\n",
    "print('Precision score   :',  round(precision_score(y_test,y_pred_rf),4))\n",
    "print('Recall score      :',  round(recall_score(y_test,y_pred_rf),4))\n",
    "print('Confusion Matrix  :\\n',confusion_matrix(y_test,y_pred_rf))\n",
    "print('F1_score          :',  round(f1_score(y_test,y_pred_rf),4))"
   ]
  },
  {
   "cell_type": "markdown",
   "id": "athletic-hopkins",
   "metadata": {},
   "source": [
    "Performence of AdaBoost classifier"
   ]
  },
  {
   "cell_type": "code",
   "execution_count": 59,
   "id": "individual-passing",
   "metadata": {},
   "outputs": [
    {
     "data": {
      "text/plain": [
       "AdaBoostClassifier()"
      ]
     },
     "execution_count": 59,
     "metadata": {},
     "output_type": "execute_result"
    }
   ],
   "source": [
    "adb_classifier = AdaBoostClassifier()\n",
    "adb_classifier.fit(X_train,y_train)"
   ]
  },
  {
   "cell_type": "code",
   "execution_count": 60,
   "id": "contained-blogger",
   "metadata": {},
   "outputs": [
    {
     "name": "stdout",
     "output_type": "stream",
     "text": [
      "Accuracy score    : 0.72\n",
      "Precision score   : 0.803\n",
      "Recall score      : 0.7794\n",
      "Confusion Matrix  :\n",
      " [[19 13]\n",
      " [15 53]]\n",
      "F1_score          : 0.791\n"
     ]
    }
   ],
   "source": [
    "y_pred_adb = adb_classifier.predict(X_test)\n",
    "\n",
    "print('Accuracy score    :',  round(accuracy_score(y_test,y_pred_adb),4))\n",
    "print('Precision score   :',  round(precision_score(y_test,y_pred_adb),4))\n",
    "print('Recall score      :',  round(recall_score(y_test,y_pred_adb),4))\n",
    "print('Confusion Matrix  :\\n',confusion_matrix(y_test,y_pred_adb))\n",
    "print('F1_score          :',  round(f1_score(y_test,y_pred_adb),4))"
   ]
  },
  {
   "cell_type": "markdown",
   "id": "imposed-female",
   "metadata": {},
   "source": [
    "Performence of XG Boost"
   ]
  },
  {
   "cell_type": "code",
   "execution_count": 61,
   "id": "pacific-newfoundland",
   "metadata": {},
   "outputs": [],
   "source": [
    "import xgboost as xgb "
   ]
  },
  {
   "cell_type": "code",
   "execution_count": 62,
   "id": "decreased-diabetes",
   "metadata": {},
   "outputs": [],
   "source": [
    "train_x_y = xgb.DMatrix(data = X_train,label=y_train)"
   ]
  },
  {
   "cell_type": "code",
   "execution_count": 63,
   "id": "fifty-boston",
   "metadata": {},
   "outputs": [],
   "source": [
    "parameters={'max_depth':10, \n",
    "            'objective':'binary:logistic',\n",
    "            'eval_metric':'auc',\n",
    "            'learning_rate':.05,\n",
    "            }"
   ]
  },
  {
   "cell_type": "code",
   "execution_count": 64,
   "id": "continued-anime",
   "metadata": {},
   "outputs": [],
   "source": [
    "xgb_classifier = xgb.train(params = parameters,dtrain =train_x_y )"
   ]
  },
  {
   "cell_type": "code",
   "execution_count": 65,
   "id": "lightweight-hearts",
   "metadata": {},
   "outputs": [
    {
     "data": {
      "text/plain": [
       "array([0.5005844 , 0.5845475 , 0.6128666 , 0.5009282 , 0.33745867,\n",
       "       0.6520391 , 0.67375726, 0.6864779 , 0.33745867, 0.5686105 ,\n",
       "       0.6231202 , 0.6864779 , 0.5613337 , 0.33745867, 0.6864779 ,\n",
       "       0.33745867, 0.36079   , 0.6864779 , 0.6864779 , 0.5254941 ,\n",
       "       0.6631785 , 0.60154945, 0.66645205, 0.65797466, 0.6521794 ,\n",
       "       0.5254941 , 0.64808756, 0.539647  , 0.6864779 , 0.65081304,\n",
       "       0.5254941 , 0.5707431 , 0.56705976, 0.49679688, 0.65797466,\n",
       "       0.67375726, 0.52596915, 0.6864779 , 0.6177406 , 0.5254941 ,\n",
       "       0.619408  , 0.40116447, 0.65797466, 0.5992032 , 0.48637366,\n",
       "       0.526953  , 0.5990992 , 0.33745867, 0.47595456, 0.6313271 ,\n",
       "       0.6631785 , 0.48026982, 0.5240256 , 0.6520391 , 0.6864779 ,\n",
       "       0.6864779 , 0.66094446, 0.5254941 , 0.6864779 , 0.64883924,\n",
       "       0.65797466, 0.60154945, 0.65710276, 0.539647  , 0.60074717,\n",
       "       0.33745867, 0.6864779 , 0.33745867, 0.60074717, 0.5562084 ,\n",
       "       0.36079   , 0.53328174, 0.6864779 , 0.33745867, 0.5583794 ,\n",
       "       0.67375726, 0.67375726, 0.6864779 , 0.65966815, 0.6864779 ,\n",
       "       0.6761132 , 0.48637366, 0.58247447, 0.6177406 , 0.66645205,\n",
       "       0.48637366, 0.6864779 , 0.6446758 , 0.6053445 , 0.6631785 ,\n",
       "       0.33745867, 0.5254941 , 0.6864779 , 0.499987  , 0.5707431 ,\n",
       "       0.6864779 , 0.5254941 , 0.6761132 , 0.53328174, 0.67375726],\n",
       "      dtype=float32)"
      ]
     },
     "execution_count": 65,
     "metadata": {},
     "output_type": "execute_result"
    }
   ],
   "source": [
    "dtest=xgb.DMatrix(X_test)\n",
    "y_pred_xgb = xgb_classifier.predict(dtest) \n",
    "y_pred_xgb"
   ]
  },
  {
   "cell_type": "code",
   "execution_count": 66,
   "id": "scenic-accident",
   "metadata": {},
   "outputs": [],
   "source": [
    "#Converting probabilities into 1 or 0  \n",
    "for i in range(0, X_test.shape[0]): \n",
    "    if y_pred_xgb[i]>=.5:       # setting threshold to .5 \n",
    "       y_pred_xgb[i]=1 \n",
    "    else: \n",
    "       y_pred_xgb[i]=0 "
   ]
  },
  {
   "cell_type": "code",
   "execution_count": 67,
   "id": "disciplinary-alberta",
   "metadata": {},
   "outputs": [
    {
     "name": "stdout",
     "output_type": "stream",
     "text": [
      "Accuracy with XGBoost=  0.77\n",
      "AUC score with XGBoost is:  0.7573099415204679\n",
      "F1_score          : 0.859\n",
      "Precision score   : 0.7778\n",
      "Recall score      : 0.9265\n"
     ]
    },
    {
     "data": {
      "image/png": "[encoded data removed]",
      "text/plain": [
       "<Figure size 432x288 with 2 Axes>"
      ]
     },
     "metadata": {},
     "output_type": "display_data"
    }
   ],
   "source": [
    "cm_xgb = confusion_matrix(y_test, y_pred_xgb)\n",
    "sns.heatmap(cm_xgb, annot=True)\n",
    "\n",
    "print (\"Accuracy with XGBoost= \", accuracy_score(y_pred_xgb, y_test))\n",
    "print(\"AUC score with XGBoost is: \", roc_auc_score(y_pred_xgb, y_test))\n",
    "print('F1_score          :',  round(f1_score(y_test,y_pred),4))\n",
    "print('Precision score   :',  round(precision_score(y_test,y_pred_xgb),4))\n",
    "print('Recall score      :',  round(recall_score(y_test,y_pred_xgb),4))"
   ]
  },
  {
   "cell_type": "markdown",
   "id": "infrared-federation",
   "metadata": {},
   "source": [
    "Gradient Boosting Algorithm"
   ]
  },
  {
   "cell_type": "code",
   "execution_count": 68,
   "id": "living-orlando",
   "metadata": {},
   "outputs": [],
   "source": [
    "from sklearn.ensemble import GradientBoostingClassifier\n",
    "gb_classifier = GradientBoostingClassifier()"
   ]
  },
  {
   "cell_type": "code",
   "execution_count": 69,
   "id": "jewish-construction",
   "metadata": {},
   "outputs": [
    {
     "data": {
      "text/plain": [
       "GradientBoostingClassifier()"
      ]
     },
     "execution_count": 69,
     "metadata": {},
     "output_type": "execute_result"
    }
   ],
   "source": [
    "gb_classifier.fit(X_train,y_train)"
   ]
  },
  {
   "cell_type": "code",
   "execution_count": 70,
   "id": "continent-marsh",
   "metadata": {},
   "outputs": [],
   "source": [
    "y_pred = gb_classifier.predict(X_test)"
   ]
  },
  {
   "cell_type": "code",
   "execution_count": 71,
   "id": "bottom-bibliography",
   "metadata": {},
   "outputs": [
    {
     "name": "stdout",
     "output_type": "stream",
     "text": [
      "Accuracy with GBBoost=  0.8\n",
      "AUC score with GBBoost is:  0.7040441176470589\n",
      "F1_score          : 0.8684\n",
      "Precision score   : 0.7857\n",
      "Recall score      : 0.9706\n"
     ]
    },
    {
     "data": {
      "image/png": "[encoded data removed]",
      "text/plain": [
       "<Figure size 432x288 with 2 Axes>"
      ]
     },
     "metadata": {},
     "output_type": "display_data"
    }
   ],
   "source": [
    "cm_xgb = confusion_matrix(y_test, y_pred)\n",
    "sns.heatmap(cm_xgb, annot=True)\n",
    "\n",
    "print (\"Accuracy with GBBoost= \", accuracy_score(y_test, y_pred))\n",
    "print(\"AUC score with GBBoost is: \", roc_auc_score(y_test, y_pred))\n",
    "print('F1_score          :',  round(f1_score(y_test,y_pred),4))\n",
    "print('Precision score   :',  round(precision_score(y_test,y_pred),4))\n",
    "print('Recall score      :',  round(recall_score(y_test,y_pred),4))"
   ]
  },
  {
   "cell_type": "markdown",
   "id": "revolutionary-choir",
   "metadata": {},
   "source": [
    "Perforemence of logistic model"
   ]
  },
  {
   "cell_type": "code",
   "execution_count": 72,
   "id": "hybrid-nickname",
   "metadata": {},
   "outputs": [
    {
     "data": {
      "text/plain": [
       "LogisticRegression()"
      ]
     },
     "execution_count": 72,
     "metadata": {},
     "output_type": "execute_result"
    }
   ],
   "source": [
    "from sklearn.linear_model import LogisticRegression\n",
    "logistic_model = LogisticRegression()\n",
    "logistic_model.fit(X_train,y_train)"
   ]
  },
  {
   "cell_type": "code",
   "execution_count": 73,
   "id": "renewable-cliff",
   "metadata": {},
   "outputs": [],
   "source": [
    "y_pred = logistic_model.predict(X_test) "
   ]
  },
  {
   "cell_type": "code",
   "execution_count": 74,
   "id": "collected-major",
   "metadata": {},
   "outputs": [
    {
     "name": "stdout",
     "output_type": "stream",
     "text": [
      "Accuracy score    : 0.82\n",
      "Precision score   : 0.8289\n",
      "Recall score      : 0.9265\n",
      "Confusion Matrix  :\n",
      " [[19 13]\n",
      " [ 5 63]]\n",
      "F1_score          : 0.875\n"
     ]
    }
   ],
   "source": [
    "print('Accuracy score    :',  round(accuracy_score(y_test,y_pred),4))\n",
    "print('Precision score   :',  round(precision_score(y_test,y_pred),4))\n",
    "print('Recall score      :',  round(recall_score(y_test,y_pred),4))\n",
    "print('Confusion Matrix  :\\n',confusion_matrix(y_test,y_pred))\n",
    "print('F1_score          :',  round(f1_score(y_test,y_pred),4))"
   ]
  },
  {
   "cell_type": "code",
   "execution_count": 75,
   "id": "exotic-wisconsin",
   "metadata": {},
   "outputs": [],
   "source": [
    "y_train_pred = logistic_model.predict(X_train) "
   ]
  },
  {
   "cell_type": "code",
   "execution_count": 76,
   "id": "departmental-delaware",
   "metadata": {},
   "outputs": [
    {
     "name": "stdout",
     "output_type": "stream",
     "text": [
      "Accuracy score    : 0.985\n",
      "Precision score   : 0.9859\n",
      "Recall score      : 0.9929\n",
      "Confusion Matrix  :\n",
      " [[115   4]\n",
      " [  2 279]]\n",
      "F1_score          : 0.9894\n"
     ]
    }
   ],
   "source": [
    "print('Accuracy score    :',  round(accuracy_score(y_train,y_train_pred),4))\n",
    "print('Precision score   :',  round(precision_score(y_train,y_train_pred),4))\n",
    "print('Recall score      :',  round(recall_score(y_train,y_train_pred),4))\n",
    "print('Confusion Matrix  :\\n',confusion_matrix(y_train,y_train_pred))\n",
    "print('F1_score          :',  round(f1_score(y_train,y_train_pred),4))"
   ]
  },
  {
   "cell_type": "markdown",
   "id": "adverse-fifth",
   "metadata": {},
   "source": [
    "Performence of Naive bayes"
   ]
  },
  {
   "cell_type": "code",
   "execution_count": 77,
   "id": "abstract-contributor",
   "metadata": {},
   "outputs": [
    {
     "data": {
      "text/plain": [
       "MultinomialNB()"
      ]
     },
     "execution_count": 77,
     "metadata": {},
     "output_type": "execute_result"
    }
   ],
   "source": [
    "from sklearn.naive_bayes import MultinomialNB\n",
    "nb_classifier = MultinomialNB()\n",
    "nb_classifier.fit(X_train,y_train)"
   ]
  },
  {
   "cell_type": "code",
   "execution_count": 78,
   "id": "confirmed-economy",
   "metadata": {},
   "outputs": [],
   "source": [
    "y_pred = nb_classifier.predict(X_test)"
   ]
  },
  {
   "cell_type": "code",
   "execution_count": 79,
   "id": "every-taste",
   "metadata": {},
   "outputs": [
    {
     "name": "stdout",
     "output_type": "stream",
     "text": [
      "Accuracy score    : 0.8\n",
      "Precision score   : 0.8158\n",
      "Recall score      : 0.9118\n",
      "Confusion Matrix  :\n",
      " [[18 14]\n",
      " [ 6 62]]\n",
      "F1_score          : 0.8611\n"
     ]
    }
   ],
   "source": [
    "print('Accuracy score    :',  round(accuracy_score(y_test,y_pred),4))\n",
    "print('Precision score   :',  round(precision_score(y_test,y_pred),4))\n",
    "print('Recall score      :',  round(recall_score(y_test,y_pred),4))\n",
    "print('Confusion Matrix  :\\n',confusion_matrix(y_test,y_pred))\n",
    "print('F1_score          :',  round(f1_score(y_test,y_pred),4))"
   ]
  },
  {
   "cell_type": "code",
   "execution_count": null,
   "id": "false-butler",
   "metadata": {},
   "outputs": [],
   "source": []
  }
 ],
 "metadata": {
  "kernelspec": {
   "display_name": "Python 3",
   "language": "python",
   "name": "python3"
  },
  "language_info": {
   "codemirror_mode": {
    "name": "ipython",
    "version": 3
   },
   "file_extension": ".py",
   "mimetype": "text/x-python",
   "name": "python",
   "nbconvert_exporter": "python",
   "pygments_lexer": "ipython3",
   "version": "3.8.5"
  }
 },
 "nbformat": 4,
 "nbformat_minor": 5
}
